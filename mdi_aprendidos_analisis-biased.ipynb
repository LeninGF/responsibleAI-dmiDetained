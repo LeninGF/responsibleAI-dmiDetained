{
 "cells": [
  {
   "cell_type": "markdown",
   "id": "9de694eb",
   "metadata": {},
   "source": [
    "# Dataset Ministerio del Interior Aprendidos y Detenidos Ecuador --BIASED--\n",
    "\n",
    "## Integrantes\n",
    "\n",
    "- Silvana Báez\n",
    "- Gabriel Cisneros\n",
    "- Lenin Falconí\n",
    "- Jorge Miño\n",
    "- Mario Moreno\n",
    "- Jonathan Zea\n",
    "\n",
    "## Objetivo:\n",
    "\n",
    "- Analizar el dataset, sus características y valores\n",
    "- Realizar una limpieza del dataset\n",
    "- Disminuir el sesgo en el dataset"
   ]
  },
  {
   "cell_type": "markdown",
   "id": "35f9b10c",
   "metadata": {},
   "source": [
    "## Lectura del Dataset"
   ]
  },
  {
   "cell_type": "code",
   "execution_count": 41,
   "id": "032c6f8e",
   "metadata": {},
   "outputs": [
    {
     "data": {
      "text/plain": [
       "(489847, 35)"
      ]
     },
     "execution_count": 41,
     "metadata": {},
     "output_type": "execute_result"
    }
   ],
   "source": [
    "import os\n",
    "import pandas as pd\n",
    "\n",
    "data_path = os.path.join(os.getcwd(), 'data/mdi_detenidos-aprehendidos_pm_2019_2024.xlsx')\n",
    "df = pd.read_excel(data_path, sheet_name='1')\n",
    "df.shape"
   ]
  },
  {
   "cell_type": "markdown",
   "id": "17e4d1c5",
   "metadata": {},
   "source": [
    "El dataset original contiene 489847 filas y 35 columnas. A continuación, se presentan las primeras 5 filas"
   ]
  },
  {
   "cell_type": "code",
   "execution_count": 42,
   "id": "9868aef1",
   "metadata": {},
   "outputs": [
    {
     "data": {
      "text/html": [
       "<div>\n",
       "<style scoped>\n",
       "    .dataframe tbody tr th:only-of-type {\n",
       "        vertical-align: middle;\n",
       "    }\n",
       "\n",
       "    .dataframe tbody tr th {\n",
       "        vertical-align: top;\n",
       "    }\n",
       "\n",
       "    .dataframe thead th {\n",
       "        text-align: right;\n",
       "    }\n",
       "</style>\n",
       "<table border=\"1\" class=\"dataframe\">\n",
       "  <thead>\n",
       "    <tr style=\"text-align: right;\">\n",
       "      <th></th>\n",
       "      <th>codigo_iccs</th>\n",
       "      <th>tipo</th>\n",
       "      <th>estado_civil</th>\n",
       "      <th>estatus_migratorio</th>\n",
       "      <th>edad</th>\n",
       "      <th>sexo</th>\n",
       "      <th>genero</th>\n",
       "      <th>nacionalidad</th>\n",
       "      <th>autoidentificacion_etnica</th>\n",
       "      <th>nivel_de_instruccion</th>\n",
       "      <th>...</th>\n",
       "      <th>codigo_parroquia</th>\n",
       "      <th>nombre_distrito</th>\n",
       "      <th>nombre_circuito</th>\n",
       "      <th>nombre_subcircuito</th>\n",
       "      <th>nombre_provincia</th>\n",
       "      <th>nombre_canton</th>\n",
       "      <th>nombre_parroquia</th>\n",
       "      <th>presunta_infraccion</th>\n",
       "      <th>latitud</th>\n",
       "      <th>longitud</th>\n",
       "    </tr>\n",
       "  </thead>\n",
       "  <tbody>\n",
       "    <tr>\n",
       "      <th>0</th>\n",
       "      <td>SIN_DATO</td>\n",
       "      <td>DETENIDO</td>\n",
       "      <td>SOLTERO/A</td>\n",
       "      <td>SE DESCONOCE</td>\n",
       "      <td>50</td>\n",
       "      <td>HOMBRE</td>\n",
       "      <td>MASCULINO</td>\n",
       "      <td>ECUATORIANO</td>\n",
       "      <td>AFROECUATORIANO/A AFRODESCENDIENTE</td>\n",
       "      <td>SE DESCONOCE</td>\n",
       "      <td>...</td>\n",
       "      <td>'000000</td>\n",
       "      <td>MAR TERRITORIAL</td>\n",
       "      <td>MAR TERRITORIAL</td>\n",
       "      <td>MAR TERRITORIAL</td>\n",
       "      <td>MAR TERRITORIAL</td>\n",
       "      <td>MAR TERRITORIAL</td>\n",
       "      <td>MAR TERRITORIAL</td>\n",
       "      <td>BOLETAS</td>\n",
       "      <td>'0.94804252190900884</td>\n",
       "      <td>'-79.6480999768429001</td>\n",
       "    </tr>\n",
       "    <tr>\n",
       "      <th>1</th>\n",
       "      <td>010102.04</td>\n",
       "      <td>DETENIDO</td>\n",
       "      <td>SOLTERO/A</td>\n",
       "      <td>SE DESCONOCE</td>\n",
       "      <td>47</td>\n",
       "      <td>HOMBRE</td>\n",
       "      <td>MASCULINO</td>\n",
       "      <td>ECUATORIANO</td>\n",
       "      <td>AFROECUATORIANO/A AFRODESCENDIENTE</td>\n",
       "      <td>NO APLICA</td>\n",
       "      <td>...</td>\n",
       "      <td>'000000</td>\n",
       "      <td>MAR TERRITORIAL</td>\n",
       "      <td>MAR TERRITORIAL</td>\n",
       "      <td>MAR TERRITORIAL</td>\n",
       "      <td>MAR TERRITORIAL</td>\n",
       "      <td>MAR TERRITORIAL</td>\n",
       "      <td>MAR TERRITORIAL</td>\n",
       "      <td>DELITOS CONTRA LA INTEGRIDAD SEXUAL Y REPRODUC...</td>\n",
       "      <td>'0.981916698618488071</td>\n",
       "      <td>'-79.6465283632278584</td>\n",
       "    </tr>\n",
       "    <tr>\n",
       "      <th>2</th>\n",
       "      <td>4011</td>\n",
       "      <td>APREHENDIDO</td>\n",
       "      <td>SOLTERO/A</td>\n",
       "      <td>NO APLICA</td>\n",
       "      <td>20</td>\n",
       "      <td>HOMBRE</td>\n",
       "      <td>MASCULINO</td>\n",
       "      <td>ECUATORIANO</td>\n",
       "      <td>MESTIZO/A</td>\n",
       "      <td>NO APLICA</td>\n",
       "      <td>...</td>\n",
       "      <td>'000000</td>\n",
       "      <td>MAR TERRITORIAL</td>\n",
       "      <td>MAR TERRITORIAL</td>\n",
       "      <td>MAR TERRITORIAL</td>\n",
       "      <td>MAR TERRITORIAL</td>\n",
       "      <td>MAR TERRITORIAL</td>\n",
       "      <td>MAR TERRITORIAL</td>\n",
       "      <td>DELITOS CONTRA EL DERECHO A LA PROPIEDAD</td>\n",
       "      <td>'-2.22342217152850585</td>\n",
       "      <td>'-79.9236059188842916</td>\n",
       "    </tr>\n",
       "    <tr>\n",
       "      <th>3</th>\n",
       "      <td>020721.02</td>\n",
       "      <td>APREHENDIDO</td>\n",
       "      <td>SOLTERO/A</td>\n",
       "      <td>SE DESCONOCE</td>\n",
       "      <td>31</td>\n",
       "      <td>HOMBRE</td>\n",
       "      <td>NO APLICA</td>\n",
       "      <td>ECUATORIANO</td>\n",
       "      <td>MESTIZO/A</td>\n",
       "      <td>SE DESCONOCE</td>\n",
       "      <td>...</td>\n",
       "      <td>'030450</td>\n",
       "      <td>LA TRONCAL</td>\n",
       "      <td>TRONCAL CENTRO</td>\n",
       "      <td>TRONCAL CENTRO 1</td>\n",
       "      <td>CAÑAR</td>\n",
       "      <td>LA TRONCAL</td>\n",
       "      <td>LA TRONCAL</td>\n",
       "      <td>CONTRAVENCIONES DE TRÁNSITO</td>\n",
       "      <td>'-2.46668633783548952</td>\n",
       "      <td>'-79.2915152305547366</td>\n",
       "    </tr>\n",
       "    <tr>\n",
       "      <th>4</th>\n",
       "      <td>4011</td>\n",
       "      <td>APREHENDIDO</td>\n",
       "      <td>SOLTERO/A</td>\n",
       "      <td>NO APLICA</td>\n",
       "      <td>27</td>\n",
       "      <td>HOMBRE</td>\n",
       "      <td>MASCULINO</td>\n",
       "      <td>ECUATORIANO</td>\n",
       "      <td>MESTIZO/A</td>\n",
       "      <td>NO APLICA</td>\n",
       "      <td>...</td>\n",
       "      <td>'000000</td>\n",
       "      <td>MAR TERRITORIAL</td>\n",
       "      <td>MAR TERRITORIAL</td>\n",
       "      <td>MAR TERRITORIAL</td>\n",
       "      <td>MAR TERRITORIAL</td>\n",
       "      <td>MAR TERRITORIAL</td>\n",
       "      <td>MAR TERRITORIAL</td>\n",
       "      <td>DELITOS CONTRA EL DERECHO A LA PROPIEDAD</td>\n",
       "      <td>'-2.22342217152850585</td>\n",
       "      <td>'-79.9236059188842916</td>\n",
       "    </tr>\n",
       "  </tbody>\n",
       "</table>\n",
       "<p>5 rows × 35 columns</p>\n",
       "</div>"
      ],
      "text/plain": [
       "  codigo_iccs         tipo estado_civil estatus_migratorio edad    sexo  \\\n",
       "0    SIN_DATO     DETENIDO    SOLTERO/A       SE DESCONOCE   50  HOMBRE   \n",
       "1   010102.04     DETENIDO    SOLTERO/A       SE DESCONOCE   47  HOMBRE   \n",
       "2        4011  APREHENDIDO    SOLTERO/A          NO APLICA   20  HOMBRE   \n",
       "3   020721.02  APREHENDIDO    SOLTERO/A       SE DESCONOCE   31  HOMBRE   \n",
       "4        4011  APREHENDIDO    SOLTERO/A          NO APLICA   27  HOMBRE   \n",
       "\n",
       "      genero nacionalidad           autoidentificacion_etnica  \\\n",
       "0  MASCULINO  ECUATORIANO  AFROECUATORIANO/A AFRODESCENDIENTE   \n",
       "1  MASCULINO  ECUATORIANO  AFROECUATORIANO/A AFRODESCENDIENTE   \n",
       "2  MASCULINO  ECUATORIANO                           MESTIZO/A   \n",
       "3  NO APLICA  ECUATORIANO                           MESTIZO/A   \n",
       "4  MASCULINO  ECUATORIANO                           MESTIZO/A   \n",
       "\n",
       "  nivel_de_instruccion  ... codigo_parroquia  nombre_distrito  \\\n",
       "0         SE DESCONOCE  ...          '000000  MAR TERRITORIAL   \n",
       "1            NO APLICA  ...          '000000  MAR TERRITORIAL   \n",
       "2            NO APLICA  ...          '000000  MAR TERRITORIAL   \n",
       "3         SE DESCONOCE  ...          '030450       LA TRONCAL   \n",
       "4            NO APLICA  ...          '000000  MAR TERRITORIAL   \n",
       "\n",
       "   nombre_circuito nombre_subcircuito nombre_provincia    nombre_canton  \\\n",
       "0  MAR TERRITORIAL    MAR TERRITORIAL  MAR TERRITORIAL  MAR TERRITORIAL   \n",
       "1  MAR TERRITORIAL    MAR TERRITORIAL  MAR TERRITORIAL  MAR TERRITORIAL   \n",
       "2  MAR TERRITORIAL    MAR TERRITORIAL  MAR TERRITORIAL  MAR TERRITORIAL   \n",
       "3   TRONCAL CENTRO   TRONCAL CENTRO 1            CAÑAR       LA TRONCAL   \n",
       "4  MAR TERRITORIAL    MAR TERRITORIAL  MAR TERRITORIAL  MAR TERRITORIAL   \n",
       "\n",
       "  nombre_parroquia                                presunta_infraccion  \\\n",
       "0  MAR TERRITORIAL                                            BOLETAS   \n",
       "1  MAR TERRITORIAL  DELITOS CONTRA LA INTEGRIDAD SEXUAL Y REPRODUC...   \n",
       "2  MAR TERRITORIAL           DELITOS CONTRA EL DERECHO A LA PROPIEDAD   \n",
       "3       LA TRONCAL                        CONTRAVENCIONES DE TRÁNSITO   \n",
       "4  MAR TERRITORIAL           DELITOS CONTRA EL DERECHO A LA PROPIEDAD   \n",
       "\n",
       "                 latitud               longitud  \n",
       "0   '0.94804252190900884  '-79.6480999768429001  \n",
       "1  '0.981916698618488071  '-79.6465283632278584  \n",
       "2  '-2.22342217152850585  '-79.9236059188842916  \n",
       "3  '-2.46668633783548952  '-79.2915152305547366  \n",
       "4  '-2.22342217152850585  '-79.9236059188842916  \n",
       "\n",
       "[5 rows x 35 columns]"
      ]
     },
     "execution_count": 42,
     "metadata": {},
     "output_type": "execute_result"
    }
   ],
   "source": [
    "df.head()"
   ]
  },
  {
   "cell_type": "markdown",
   "id": "148f761f",
   "metadata": {},
   "source": [
    "Se describe los valores más frecuentes presentes en el dataset"
   ]
  },
  {
   "cell_type": "code",
   "execution_count": 43,
   "id": "e03237ff",
   "metadata": {},
   "outputs": [
    {
     "data": {
      "text/html": [
       "<div>\n",
       "<style scoped>\n",
       "    .dataframe tbody tr th:only-of-type {\n",
       "        vertical-align: middle;\n",
       "    }\n",
       "\n",
       "    .dataframe tbody tr th {\n",
       "        vertical-align: top;\n",
       "    }\n",
       "\n",
       "    .dataframe thead th {\n",
       "        text-align: right;\n",
       "    }\n",
       "</style>\n",
       "<table border=\"1\" class=\"dataframe\">\n",
       "  <thead>\n",
       "    <tr style=\"text-align: right;\">\n",
       "      <th></th>\n",
       "      <th>count</th>\n",
       "      <th>unique</th>\n",
       "      <th>top</th>\n",
       "      <th>freq</th>\n",
       "    </tr>\n",
       "  </thead>\n",
       "  <tbody>\n",
       "    <tr>\n",
       "      <th>codigo_iccs</th>\n",
       "      <td>489847</td>\n",
       "      <td>233</td>\n",
       "      <td>SIN_DATO</td>\n",
       "      <td>174941</td>\n",
       "    </tr>\n",
       "    <tr>\n",
       "      <th>tipo</th>\n",
       "      <td>489847</td>\n",
       "      <td>2</td>\n",
       "      <td>APREHENDIDO</td>\n",
       "      <td>349555</td>\n",
       "    </tr>\n",
       "    <tr>\n",
       "      <th>estado_civil</th>\n",
       "      <td>489847</td>\n",
       "      <td>11</td>\n",
       "      <td>SOLTERO/A</td>\n",
       "      <td>333776</td>\n",
       "    </tr>\n",
       "    <tr>\n",
       "      <th>estatus_migratorio</th>\n",
       "      <td>489847</td>\n",
       "      <td>5</td>\n",
       "      <td>NO APLICA</td>\n",
       "      <td>195575</td>\n",
       "    </tr>\n",
       "    <tr>\n",
       "      <th>edad</th>\n",
       "      <td>489847</td>\n",
       "      <td>97</td>\n",
       "      <td>24</td>\n",
       "      <td>20758</td>\n",
       "    </tr>\n",
       "    <tr>\n",
       "      <th>sexo</th>\n",
       "      <td>489847</td>\n",
       "      <td>3</td>\n",
       "      <td>HOMBRE</td>\n",
       "      <td>439791</td>\n",
       "    </tr>\n",
       "    <tr>\n",
       "      <th>genero</th>\n",
       "      <td>489847</td>\n",
       "      <td>8</td>\n",
       "      <td>MASCULINO</td>\n",
       "      <td>349597</td>\n",
       "    </tr>\n",
       "    <tr>\n",
       "      <th>nacionalidad</th>\n",
       "      <td>489847</td>\n",
       "      <td>110</td>\n",
       "      <td>ECUATORIANO</td>\n",
       "      <td>459664</td>\n",
       "    </tr>\n",
       "    <tr>\n",
       "      <th>autoidentificacion_etnica</th>\n",
       "      <td>489847</td>\n",
       "      <td>41</td>\n",
       "      <td>MESTIZO/A</td>\n",
       "      <td>403351</td>\n",
       "    </tr>\n",
       "    <tr>\n",
       "      <th>nivel_de_instruccion</th>\n",
       "      <td>489847</td>\n",
       "      <td>18</td>\n",
       "      <td>SE DESCONOCE</td>\n",
       "      <td>144391</td>\n",
       "    </tr>\n",
       "    <tr>\n",
       "      <th>condicion</th>\n",
       "      <td>489847</td>\n",
       "      <td>9</td>\n",
       "      <td>NORMAL</td>\n",
       "      <td>343866</td>\n",
       "    </tr>\n",
       "    <tr>\n",
       "      <th>movilizacion</th>\n",
       "      <td>489847</td>\n",
       "      <td>14</td>\n",
       "      <td>A PIE</td>\n",
       "      <td>226601</td>\n",
       "    </tr>\n",
       "    <tr>\n",
       "      <th>tipo_arma</th>\n",
       "      <td>489847</td>\n",
       "      <td>4</td>\n",
       "      <td>NINGUNA</td>\n",
       "      <td>358849</td>\n",
       "    </tr>\n",
       "    <tr>\n",
       "      <th>arma</th>\n",
       "      <td>489847</td>\n",
       "      <td>33</td>\n",
       "      <td>NINGUNA</td>\n",
       "      <td>358758</td>\n",
       "    </tr>\n",
       "    <tr>\n",
       "      <th>fecha_detencion_aprehension</th>\n",
       "      <td>489847</td>\n",
       "      <td>2424</td>\n",
       "      <td>SIN_DATO</td>\n",
       "      <td>89335</td>\n",
       "    </tr>\n",
       "    <tr>\n",
       "      <th>hora_detencion_aprehension</th>\n",
       "      <td>489847</td>\n",
       "      <td>2642</td>\n",
       "      <td>SIN_DATO</td>\n",
       "      <td>89335</td>\n",
       "    </tr>\n",
       "    <tr>\n",
       "      <th>lugar</th>\n",
       "      <td>489847</td>\n",
       "      <td>244</td>\n",
       "      <td>VÍA PÚBLICA</td>\n",
       "      <td>300351</td>\n",
       "    </tr>\n",
       "    <tr>\n",
       "      <th>tipo_lugar</th>\n",
       "      <td>489847</td>\n",
       "      <td>111</td>\n",
       "      <td>ÁREA DE ACCESO PÚBLICO</td>\n",
       "      <td>315583</td>\n",
       "    </tr>\n",
       "    <tr>\n",
       "      <th>nombre_zona</th>\n",
       "      <td>489847</td>\n",
       "      <td>10</td>\n",
       "      <td>ZONA 8</td>\n",
       "      <td>82462</td>\n",
       "    </tr>\n",
       "    <tr>\n",
       "      <th>nombre_subzona</th>\n",
       "      <td>489847</td>\n",
       "      <td>27</td>\n",
       "      <td>D.M. GUAYAQUIL</td>\n",
       "      <td>82462</td>\n",
       "    </tr>\n",
       "    <tr>\n",
       "      <th>codigo_distrito</th>\n",
       "      <td>489847</td>\n",
       "      <td>141</td>\n",
       "      <td>17D05</td>\n",
       "      <td>15297</td>\n",
       "    </tr>\n",
       "    <tr>\n",
       "      <th>codigo_circuito</th>\n",
       "      <td>489847</td>\n",
       "      <td>1127</td>\n",
       "      <td>09D24C02</td>\n",
       "      <td>7002</td>\n",
       "    </tr>\n",
       "    <tr>\n",
       "      <th>codigo_subcircuito</th>\n",
       "      <td>489847</td>\n",
       "      <td>1861</td>\n",
       "      <td>09D24C02S01</td>\n",
       "      <td>2732</td>\n",
       "    </tr>\n",
       "    <tr>\n",
       "      <th>codigo_provincia</th>\n",
       "      <td>489847</td>\n",
       "      <td>25</td>\n",
       "      <td>'09</td>\n",
       "      <td>103626</td>\n",
       "    </tr>\n",
       "    <tr>\n",
       "      <th>codigo_canton</th>\n",
       "      <td>489847</td>\n",
       "      <td>222</td>\n",
       "      <td>'1701</td>\n",
       "      <td>68696</td>\n",
       "    </tr>\n",
       "    <tr>\n",
       "      <th>codigo_parroquia</th>\n",
       "      <td>489847</td>\n",
       "      <td>668</td>\n",
       "      <td>'090150</td>\n",
       "      <td>65890</td>\n",
       "    </tr>\n",
       "    <tr>\n",
       "      <th>nombre_distrito</th>\n",
       "      <td>489847</td>\n",
       "      <td>141</td>\n",
       "      <td>EUGENIO ESPEJO</td>\n",
       "      <td>15297</td>\n",
       "    </tr>\n",
       "    <tr>\n",
       "      <th>nombre_circuito</th>\n",
       "      <td>489847</td>\n",
       "      <td>1003</td>\n",
       "      <td>CENTRO</td>\n",
       "      <td>7844</td>\n",
       "    </tr>\n",
       "    <tr>\n",
       "      <th>nombre_subcircuito</th>\n",
       "      <td>489847</td>\n",
       "      <td>1710</td>\n",
       "      <td>CENTRO 1</td>\n",
       "      <td>3138</td>\n",
       "    </tr>\n",
       "    <tr>\n",
       "      <th>nombre_provincia</th>\n",
       "      <td>489847</td>\n",
       "      <td>25</td>\n",
       "      <td>GUAYAS</td>\n",
       "      <td>103626</td>\n",
       "    </tr>\n",
       "    <tr>\n",
       "      <th>nombre_canton</th>\n",
       "      <td>489847</td>\n",
       "      <td>220</td>\n",
       "      <td>QUITO</td>\n",
       "      <td>68696</td>\n",
       "    </tr>\n",
       "    <tr>\n",
       "      <th>nombre_parroquia</th>\n",
       "      <td>489847</td>\n",
       "      <td>742</td>\n",
       "      <td>ELOY ALFARO (DURAN)</td>\n",
       "      <td>13426</td>\n",
       "    </tr>\n",
       "    <tr>\n",
       "      <th>presunta_infraccion</th>\n",
       "      <td>489847</td>\n",
       "      <td>81</td>\n",
       "      <td>DELITOS CONTRA EL DERECHO A LA PROPIEDAD</td>\n",
       "      <td>86007</td>\n",
       "    </tr>\n",
       "    <tr>\n",
       "      <th>latitud</th>\n",
       "      <td>489847</td>\n",
       "      <td>385689</td>\n",
       "      <td>'0.773984800000000028</td>\n",
       "      <td>126</td>\n",
       "    </tr>\n",
       "    <tr>\n",
       "      <th>longitud</th>\n",
       "      <td>489847</td>\n",
       "      <td>369166</td>\n",
       "      <td>'-77.7389616938552024</td>\n",
       "      <td>126</td>\n",
       "    </tr>\n",
       "  </tbody>\n",
       "</table>\n",
       "</div>"
      ],
      "text/plain": [
       "                              count  unique  \\\n",
       "codigo_iccs                  489847     233   \n",
       "tipo                         489847       2   \n",
       "estado_civil                 489847      11   \n",
       "estatus_migratorio           489847       5   \n",
       "edad                         489847      97   \n",
       "sexo                         489847       3   \n",
       "genero                       489847       8   \n",
       "nacionalidad                 489847     110   \n",
       "autoidentificacion_etnica    489847      41   \n",
       "nivel_de_instruccion         489847      18   \n",
       "condicion                    489847       9   \n",
       "movilizacion                 489847      14   \n",
       "tipo_arma                    489847       4   \n",
       "arma                         489847      33   \n",
       "fecha_detencion_aprehension  489847    2424   \n",
       "hora_detencion_aprehension   489847    2642   \n",
       "lugar                        489847     244   \n",
       "tipo_lugar                   489847     111   \n",
       "nombre_zona                  489847      10   \n",
       "nombre_subzona               489847      27   \n",
       "codigo_distrito              489847     141   \n",
       "codigo_circuito              489847    1127   \n",
       "codigo_subcircuito           489847    1861   \n",
       "codigo_provincia             489847      25   \n",
       "codigo_canton                489847     222   \n",
       "codigo_parroquia             489847     668   \n",
       "nombre_distrito              489847     141   \n",
       "nombre_circuito              489847    1003   \n",
       "nombre_subcircuito           489847    1710   \n",
       "nombre_provincia             489847      25   \n",
       "nombre_canton                489847     220   \n",
       "nombre_parroquia             489847     742   \n",
       "presunta_infraccion          489847      81   \n",
       "latitud                      489847  385689   \n",
       "longitud                     489847  369166   \n",
       "\n",
       "                                                                  top    freq  \n",
       "codigo_iccs                                                  SIN_DATO  174941  \n",
       "tipo                                                      APREHENDIDO  349555  \n",
       "estado_civil                                                SOLTERO/A  333776  \n",
       "estatus_migratorio                                          NO APLICA  195575  \n",
       "edad                                                               24   20758  \n",
       "sexo                                                           HOMBRE  439791  \n",
       "genero                                                      MASCULINO  349597  \n",
       "nacionalidad                                              ECUATORIANO  459664  \n",
       "autoidentificacion_etnica                                   MESTIZO/A  403351  \n",
       "nivel_de_instruccion                                     SE DESCONOCE  144391  \n",
       "condicion                                                      NORMAL  343866  \n",
       "movilizacion                                                    A PIE  226601  \n",
       "tipo_arma                                                     NINGUNA  358849  \n",
       "arma                                                          NINGUNA  358758  \n",
       "fecha_detencion_aprehension                                  SIN_DATO   89335  \n",
       "hora_detencion_aprehension                                   SIN_DATO   89335  \n",
       "lugar                                                     VÍA PÚBLICA  300351  \n",
       "tipo_lugar                                     ÁREA DE ACCESO PÚBLICO  315583  \n",
       "nombre_zona                                                    ZONA 8   82462  \n",
       "nombre_subzona                                         D.M. GUAYAQUIL   82462  \n",
       "codigo_distrito                                                 17D05   15297  \n",
       "codigo_circuito                                              09D24C02    7002  \n",
       "codigo_subcircuito                                        09D24C02S01    2732  \n",
       "codigo_provincia                                                  '09  103626  \n",
       "codigo_canton                                                   '1701   68696  \n",
       "codigo_parroquia                                              '090150   65890  \n",
       "nombre_distrito                                        EUGENIO ESPEJO   15297  \n",
       "nombre_circuito                                                CENTRO    7844  \n",
       "nombre_subcircuito                                           CENTRO 1    3138  \n",
       "nombre_provincia                                               GUAYAS  103626  \n",
       "nombre_canton                                                   QUITO   68696  \n",
       "nombre_parroquia                                  ELOY ALFARO (DURAN)   13426  \n",
       "presunta_infraccion          DELITOS CONTRA EL DERECHO A LA PROPIEDAD   86007  \n",
       "latitud                                         '0.773984800000000028     126  \n",
       "longitud                                        '-77.7389616938552024     126  "
      ]
     },
     "execution_count": 43,
     "metadata": {},
     "output_type": "execute_result"
    }
   ],
   "source": [
    "df.describe().transpose()"
   ]
  },
  {
   "cell_type": "markdown",
   "id": "30257c08",
   "metadata": {},
   "source": [
    "El dataset original dispone de 81 distintas categorías de `presunta_infraccion`. Esta variable tiene que ver con el delito/infracción cometida por la persona"
   ]
  },
  {
   "cell_type": "code",
   "execution_count": 44,
   "id": "b3c48571",
   "metadata": {},
   "outputs": [
    {
     "data": {
      "text/plain": [
       "81"
      ]
     },
     "execution_count": 44,
     "metadata": {},
     "output_type": "execute_result"
    }
   ],
   "source": [
    "len(set(df['presunta_infraccion']))  # 1572"
   ]
  },
  {
   "cell_type": "markdown",
   "id": "0b5b9573",
   "metadata": {},
   "source": [
    "Top 5 de delitos presentes en el dataset completo"
   ]
  },
  {
   "cell_type": "code",
   "execution_count": 45,
   "id": "ab5f1c0c",
   "metadata": {},
   "outputs": [
    {
     "data": {
      "text/plain": [
       "presunta_infraccion\n",
       "DELITOS CONTRA EL DERECHO A LA PROPIEDAD                                                         86007\n",
       "BOLETAS                                                                                          74107\n",
       "DELITOS POR LA PRODUCCIÓN O TRÁFICO ILÍCITO DE SUSTANCIAS CATALOGADAS SUJETAS A FISCALIZACIÓN    68484\n",
       "CONTRAVENCIONES DE TRÁNSITO                                                                      41550\n",
       "CONTRAVENCIÓN DE VIOLENCIA CONTRA LA MUJER O MIEMBROS DEL NÚCLEO FAMILIAR                        28832\n",
       "Name: count, dtype: int64"
      ]
     },
     "execution_count": 45,
     "metadata": {},
     "output_type": "execute_result"
    }
   ],
   "source": [
    "df.presunta_infraccion.value_counts().sort_values(ascending=False).head(5)"
   ]
  },
  {
   "cell_type": "markdown",
   "id": "b4e43110",
   "metadata": {},
   "source": [
    "La variable `fecha_detencion_aprehension` contiene datos de distinta naturaleza (`str`, `date`). Por esta razón, se convierten todos los datos a formato `datetime` para poder hacer operaciones en el tiempo."
   ]
  },
  {
   "cell_type": "code",
   "execution_count": 46,
   "id": "f7dc726b",
   "metadata": {},
   "outputs": [
    {
     "data": {
      "text/plain": [
       "codigo_iccs                            object\n",
       "tipo                                   object\n",
       "estado_civil                           object\n",
       "estatus_migratorio                     object\n",
       "edad                                   object\n",
       "sexo                                   object\n",
       "genero                                 object\n",
       "nacionalidad                           object\n",
       "autoidentificacion_etnica              object\n",
       "nivel_de_instruccion                   object\n",
       "condicion                              object\n",
       "movilizacion                           object\n",
       "tipo_arma                              object\n",
       "arma                                   object\n",
       "fecha_detencion_aprehension    datetime64[ns]\n",
       "hora_detencion_aprehension             object\n",
       "lugar                                  object\n",
       "tipo_lugar                             object\n",
       "nombre_zona                            object\n",
       "nombre_subzona                         object\n",
       "codigo_distrito                        object\n",
       "codigo_circuito                        object\n",
       "codigo_subcircuito                     object\n",
       "codigo_provincia                       object\n",
       "codigo_canton                          object\n",
       "codigo_parroquia                       object\n",
       "nombre_distrito                        object\n",
       "nombre_circuito                        object\n",
       "nombre_subcircuito                     object\n",
       "nombre_provincia                       object\n",
       "nombre_canton                          object\n",
       "nombre_parroquia                       object\n",
       "presunta_infraccion                    object\n",
       "latitud                                object\n",
       "longitud                               object\n",
       "dtype: object"
      ]
     },
     "execution_count": 46,
     "metadata": {},
     "output_type": "execute_result"
    }
   ],
   "source": [
    "df['fecha_detencion_aprehension'] = df['fecha_detencion_aprehension'].apply(lambda x: pd.to_datetime(x, errors='coerce'))\n",
    "df.dtypes"
   ]
  },
  {
   "cell_type": "markdown",
   "id": "4a380240",
   "metadata": {},
   "source": [
    "La variable `tipo` contiene sólo dos categorías"
   ]
  },
  {
   "cell_type": "code",
   "execution_count": 47,
   "id": "f86698d6",
   "metadata": {},
   "outputs": [
    {
     "data": {
      "text/plain": [
       "tipo\n",
       "APREHENDIDO    349555\n",
       "DETENIDO       140292\n",
       "Name: count, dtype: int64"
      ]
     },
     "execution_count": 47,
     "metadata": {},
     "output_type": "execute_result"
    }
   ],
   "source": [
    "df.tipo.value_counts()"
   ]
  },
  {
   "cell_type": "markdown",
   "id": "dd19520d",
   "metadata": {},
   "source": [
    "Se observa que la cantidad de registros varía con el año. Además, el año 1970 hace referencia a registros cuya marca de tiempo es imprecisa, incorrecta o no existe"
   ]
  },
  {
   "cell_type": "code",
   "execution_count": 48,
   "id": "09f0df76",
   "metadata": {},
   "outputs": [
    {
     "data": {
      "text/plain": [
       "anio_detension_aprehension\n",
       "1970.0    357636\n",
       "2020.0       434\n",
       "2021.0       428\n",
       "2022.0       459\n",
       "2023.0        45\n",
       "2024.0     41510\n",
       "Name: count, dtype: int64"
      ]
     },
     "execution_count": 48,
     "metadata": {},
     "output_type": "execute_result"
    }
   ],
   "source": [
    "df['anio_detension_aprehension'] = df['fecha_detencion_aprehension'].dt.year\n",
    "df.anio_detension_aprehension.value_counts().sort_index()"
   ]
  },
  {
   "cell_type": "markdown",
   "id": "7d7f0c91",
   "metadata": {},
   "source": [
    "Dado que el año 2024 presenta la segunda mayor cantidad de registros, se lo toma como base para el análisis posterior (i.e.) se descarta los demás años debido a las frecuencias no comparables y no explicadas por el *Ministerio del Interior*"
   ]
  },
  {
   "cell_type": "code",
   "execution_count": 49,
   "id": "c807cbdd",
   "metadata": {},
   "outputs": [
    {
     "data": {
      "text/plain": [
       "(41510, 36)"
      ]
     },
     "execution_count": 49,
     "metadata": {},
     "output_type": "execute_result"
    }
   ],
   "source": [
    "df_2024 = df[df['anio_detension_aprehension'] == 2024]\n",
    "df_2024.shape"
   ]
  },
  {
   "cell_type": "code",
   "execution_count": 50,
   "id": "08846542",
   "metadata": {},
   "outputs": [
    {
     "data": {
      "text/plain": [
       "Index(['codigo_iccs', 'tipo', 'estado_civil', 'estatus_migratorio', 'edad',\n",
       "       'sexo', 'genero', 'nacionalidad', 'autoidentificacion_etnica',\n",
       "       'nivel_de_instruccion', 'condicion', 'movilizacion', 'tipo_arma',\n",
       "       'arma', 'fecha_detencion_aprehension', 'hora_detencion_aprehension',\n",
       "       'lugar', 'tipo_lugar', 'nombre_zona', 'nombre_subzona',\n",
       "       'codigo_distrito', 'codigo_circuito', 'codigo_subcircuito',\n",
       "       'codigo_provincia', 'codigo_canton', 'codigo_parroquia',\n",
       "       'nombre_distrito', 'nombre_circuito', 'nombre_subcircuito',\n",
       "       'nombre_provincia', 'nombre_canton', 'nombre_parroquia',\n",
       "       'presunta_infraccion', 'latitud', 'longitud',\n",
       "       'anio_detension_aprehension'],\n",
       "      dtype='object')"
      ]
     },
     "execution_count": 50,
     "metadata": {},
     "output_type": "execute_result"
    }
   ],
   "source": [
    "df_2024.columns"
   ]
  },
  {
   "cell_type": "markdown",
   "id": "fd5c3ab6",
   "metadata": {},
   "source": [
    "## Análisis de varias columnas\n",
    "\n",
    "se procede a evaluar los valores registrados en varias variables de interés"
   ]
  },
  {
   "cell_type": "code",
   "execution_count": 51,
   "id": "5520c96b",
   "metadata": {},
   "outputs": [
    {
     "data": {
      "text/plain": [
       "estatus_migratorio\n",
       "NO APLICA       19666\n",
       "SE DESCONOCE    14338\n",
       "REGULAR          6919\n",
       "IRREGULAR         587\n",
       "Name: count, dtype: int64"
      ]
     },
     "execution_count": 51,
     "metadata": {},
     "output_type": "execute_result"
    }
   ],
   "source": [
    "df_2024.estatus_migratorio.value_counts()"
   ]
  },
  {
   "cell_type": "markdown",
   "id": "9a0e56f5",
   "metadata": {},
   "source": [
    "## Edad\n",
    "\n",
    "Se descartan los casos en que la edad no está definida (i.e. `SIN_DATO`)ya que su cantidad no es representativa para el tamaño del dataset"
   ]
  },
  {
   "cell_type": "code",
   "execution_count": 52,
   "id": "c3c7a3a7",
   "metadata": {},
   "outputs": [
    {
     "data": {
      "text/plain": [
       "0"
      ]
     },
     "execution_count": 52,
     "metadata": {},
     "output_type": "execute_result"
    }
   ],
   "source": [
    "df_2024.edad.isna().sum()"
   ]
  },
  {
   "cell_type": "code",
   "execution_count": 53,
   "id": "20c79b4f",
   "metadata": {},
   "outputs": [
    {
     "name": "stderr",
     "output_type": "stream",
     "text": [
      "/tmp/ipykernel_143591/2843870830.py:1: SettingWithCopyWarning: \n",
      "A value is trying to be set on a copy of a slice from a DataFrame.\n",
      "Try using .loc[row_indexer,col_indexer] = value instead\n",
      "\n",
      "See the caveats in the documentation: https://pandas.pydata.org/pandas-docs/stable/user_guide/indexing.html#returning-a-view-versus-a-copy\n",
      "  df_2024['edad'] = df_2024['edad'].apply(lambda x: str(x))\n"
     ]
    }
   ],
   "source": [
    "df_2024['edad'] = df_2024['edad'].apply(lambda x: str(x))"
   ]
  },
  {
   "cell_type": "code",
   "execution_count": 54,
   "id": "96d22767",
   "metadata": {},
   "outputs": [
    {
     "data": {
      "text/plain": [
       "(41510, 36)"
      ]
     },
     "execution_count": 54,
     "metadata": {},
     "output_type": "execute_result"
    }
   ],
   "source": [
    "# df_2024 = df_2024.drop(columns=['codigo_iccs', 'fecha', 'presunta_infraccion'])\n",
    "# df_2024 = df_2024[df_2024['edad']!=\"SIN_DATO\"]\n",
    "df_2024.shape"
   ]
  },
  {
   "cell_type": "code",
   "execution_count": 55,
   "id": "99a18efe",
   "metadata": {},
   "outputs": [
    {
     "data": {
      "text/plain": [
       "estado_civil\n",
       "SOLTERO/A         30798\n",
       "CASADO/A           6198\n",
       "DIVORCIADO/A       2778\n",
       "SE DESCONOCE       1210\n",
       "UNIÓN DE HECHO      312\n",
       "VIUDO/A             214\n",
       "Name: count, dtype: int64"
      ]
     },
     "execution_count": 55,
     "metadata": {},
     "output_type": "execute_result"
    }
   ],
   "source": [
    "df_2024['estado_civil'].value_counts()"
   ]
  },
  {
   "cell_type": "code",
   "execution_count": 56,
   "id": "d1de7ea9",
   "metadata": {},
   "outputs": [
    {
     "data": {
      "text/plain": [
       "{'ALEMÁN',\n",
       " 'ARGENTINO',\n",
       " 'BELGA',\n",
       " 'BELICENO',\n",
       " 'BOLIVIANO',\n",
       " 'CHILENO',\n",
       " 'CHINO',\n",
       " 'COLOMBIANO',\n",
       " 'CUBANO',\n",
       " 'DOMINICANO',\n",
       " 'ECUATOGUINEANO',\n",
       " 'ECUATORIANO',\n",
       " 'ESPAÑOL',\n",
       " 'ESTADOUNIDENCE',\n",
       " 'INDIO/HINDÚ',\n",
       " 'ITALIANO',\n",
       " 'MEXICANO',\n",
       " 'PARAGUAYO',\n",
       " 'PERUANO',\n",
       " 'POLACO',\n",
       " 'RUSO',\n",
       " 'SALVADOREÑO',\n",
       " 'SE DESCONOCE',\n",
       " 'SURCOREANO',\n",
       " 'TURCO',\n",
       " 'VANUATUENSE',\n",
       " 'VENEZOLANO',\n",
       " 'VIETNAMITA'}"
      ]
     },
     "execution_count": 56,
     "metadata": {},
     "output_type": "execute_result"
    }
   ],
   "source": [
    "set(df_2024['nacionalidad'])"
   ]
  },
  {
   "cell_type": "markdown",
   "id": "b8ce4033",
   "metadata": {},
   "source": [
    "Al respecto de la variable `nacionalidad`, y considerando que la gran mayoría ($\\approx 97\\%$) del dataset contiene información de ecuatorianos, con apenas un $3\\%$ de inmigrantes, se considera que el análisis se realizará sólo sobre población de origen *ecuatoriana*"
   ]
  },
  {
   "cell_type": "code",
   "execution_count": 57,
   "id": "300506a5",
   "metadata": {},
   "outputs": [],
   "source": [
    "# df_2024[df_2024['nacionalidad']==\"ECUATORIANO\"]\n",
    "# df_2024.shape"
   ]
  },
  {
   "cell_type": "markdown",
   "id": "2fb0b44a",
   "metadata": {},
   "source": [
    "No existe un criterio que explique los valores presentes en la variable `estatus_migratorio`, por lo que esta variable se descarta del análisis"
   ]
  },
  {
   "cell_type": "code",
   "execution_count": 58,
   "id": "4f3ef41d",
   "metadata": {},
   "outputs": [
    {
     "data": {
      "text/plain": [
       "estatus_migratorio\n",
       "NO APLICA       19666\n",
       "SE DESCONOCE    14338\n",
       "REGULAR          6919\n",
       "IRREGULAR         587\n",
       "Name: count, dtype: int64"
      ]
     },
     "execution_count": 58,
     "metadata": {},
     "output_type": "execute_result"
    }
   ],
   "source": [
    "df_2024['estatus_migratorio'].value_counts()"
   ]
  },
  {
   "cell_type": "markdown",
   "id": "10bb5cc2",
   "metadata": {},
   "source": [
    "No existe un criterio que explique los valores presentes en la variable `estatus_migratorio`, por lo que esta variable se descarta del análisis"
   ]
  },
  {
   "cell_type": "code",
   "execution_count": 59,
   "id": "7d0613e5",
   "metadata": {},
   "outputs": [
    {
     "data": {
      "text/plain": [
       "nivel_de_instruccion\n",
       "SE DESCONOCE                                   16004\n",
       "NO APLICA                                      13470\n",
       "BACHILLERATO                                    7614\n",
       "EDUCACIÓN GENERAL BÁSICA                        2659\n",
       "TERCER NIVEL TÉCNICO-TECNOLÓGICO Y DE GRADO      916\n",
       "EDUCACIÓN INICIAL                                533\n",
       "CUARTO NIVEL O DE POSGRADO                       314\n",
       "Name: count, dtype: int64"
      ]
     },
     "execution_count": 59,
     "metadata": {},
     "output_type": "execute_result"
    }
   ],
   "source": [
    "df_2024['nivel_de_instruccion'].value_counts()"
   ]
  },
  {
   "cell_type": "markdown",
   "id": "fe7bc6f1",
   "metadata": {},
   "source": [
    "Se realiza un histograma de la variable `edad` que muestra la distribución de las edades en el dataset."
   ]
  },
  {
   "cell_type": "code",
   "execution_count": 62,
   "id": "e1a19629",
   "metadata": {},
   "outputs": [],
   "source": [
    "# df_2024.edad.hist(bins=30)"
   ]
  },
  {
   "cell_type": "code",
   "execution_count": 63,
   "id": "db846b8c",
   "metadata": {},
   "outputs": [],
   "source": [
    "# print(f\"Edad mínima: {df_2024.edad.min()}   Edad máxima: {df_2024.edad.max()}   Edad promedio: {df_2024.edad.mean():.2f}\")\n",
    "# # df_2024.edad.min()"
   ]
  },
  {
   "cell_type": "code",
   "execution_count": 64,
   "id": "286c5f98",
   "metadata": {},
   "outputs": [],
   "source": [
    "# import matplotlib.pyplot as plt\n",
    "# import seaborn as sns   \n",
    "\n",
    "# plt.figure(figsize=(10, 6))\n",
    "# sns.boxplot(x='genero', y='edad', data=df_2024)"
   ]
  },
  {
   "cell_type": "code",
   "execution_count": 65,
   "id": "f105a8ba",
   "metadata": {},
   "outputs": [],
   "source": [
    "# plt.figure(figsize=(10, 6))\n",
    "# sns.boxplot(x='tipo', y='edad', data=df_2024)"
   ]
  },
  {
   "cell_type": "markdown",
   "id": "6ef5e6cb",
   "metadata": {},
   "source": [
    "No existe un criterio que explique los valores presentes en la variable `condicion`, por lo que esta variable se descarta del análisis"
   ]
  },
  {
   "cell_type": "code",
   "execution_count": 67,
   "id": "6752b219",
   "metadata": {},
   "outputs": [
    {
     "data": {
      "text/plain": [
       "condicion\n",
       "NORMAL                                                                                                                   31484\n",
       "ALIENTO A LICOR                                                                                                           7806\n",
       "SIN_DATO                                                                                                                  1795\n",
       "ALIENTO A LICOR, NORMAL                                                                                                    181\n",
       "BAJO LOS EFECTOS DE SUSTANCIAS ESTUPEFACIENTES, PSICOTRÓPICAS O PREPARADOS QUE LAS CONTENGAN                               160\n",
       "ALIENTO A LICOR, BAJO LOS EFECTOS DE SUSTANCIAS ESTUPEFACIENTES, PSICOTRÓPICAS O PREPARADOS QUE LAS CONTENGAN               70\n",
       "BAJO LOS EFECTOS DE SUSTANCIAS ESTUPEFACIENTES, PSICOTRÓPICAS O PREPARADOS QUE LAS CONTENGAN, NORMAL                        11\n",
       "ALIENTO A LICOR, BAJO LOS EFECTOS DE SUSTANCIAS ESTUPEFACIENTES, PSICOTRÓPICAS O PREPARADOS QUE LAS CONTENGAN, NORMAL        3\n",
       "Name: count, dtype: int64"
      ]
     },
     "execution_count": 67,
     "metadata": {},
     "output_type": "execute_result"
    }
   ],
   "source": [
    "df_2024['condicion'].value_counts()"
   ]
  },
  {
   "cell_type": "markdown",
   "id": "e1630c90",
   "metadata": {},
   "source": [
    "No existe un criterio que explique los valores presentes en la variable `movilizacion`, por lo que esta variable se descarta del análisis"
   ]
  },
  {
   "cell_type": "code",
   "execution_count": 68,
   "id": "ac6c7f70",
   "metadata": {},
   "outputs": [
    {
     "data": {
      "text/plain": [
       "movilizacion\n",
       "A PIE           22408\n",
       "NO APLICA        5168\n",
       "AUTOMÓVIL        4721\n",
       "MOTOCICLETA      4054\n",
       "SE DESCONOCE     3068\n",
       "CAMIONETA        1148\n",
       "BUS               365\n",
       "TAXI              350\n",
       "BICICLETA          98\n",
       "LANCHA             83\n",
       "ACÉMILAS           29\n",
       "BOTE               15\n",
       "CUADRÓN             3\n",
       "Name: count, dtype: int64"
      ]
     },
     "execution_count": 68,
     "metadata": {},
     "output_type": "execute_result"
    }
   ],
   "source": [
    "df_2024['movilizacion'].value_counts()"
   ]
  },
  {
   "cell_type": "markdown",
   "id": "efdfa513",
   "metadata": {},
   "source": [
    "No existe un criterio que explique los valores presentes en la variable `lugar`, por lo que esta variable se descarta del análisis"
   ]
  },
  {
   "cell_type": "code",
   "execution_count": 69,
   "id": "5d663eeb",
   "metadata": {},
   "outputs": [
    {
     "data": {
      "text/plain": [
       "lugar\n",
       "VÍA PÚBLICA                      25585\n",
       "ESPACIO PRIVADO                   6861\n",
       "CASA/VILLA                        3766\n",
       "PARQUE Y PLAZA                     423\n",
       "POLICÍA NACIONAL                   296\n",
       "                                 ...  \n",
       "CAI MASCULINO-QUITO                  1\n",
       "CRS MASCULINO-EL CONDADO             1\n",
       "RANCHO                               1\n",
       "CONSEJOS                             1\n",
       "HOGAR DE ATENCIÓN RESIDENCIAL        1\n",
       "Name: count, Length: 184, dtype: int64"
      ]
     },
     "execution_count": 69,
     "metadata": {},
     "output_type": "execute_result"
    }
   ],
   "source": [
    "df_2024['lugar'].value_counts()"
   ]
  },
  {
   "cell_type": "code",
   "execution_count": 70,
   "id": "85f690bb",
   "metadata": {},
   "outputs": [
    {
     "data": {
      "text/plain": [
       "tipo_lugar\n",
       "ÁREA DE ACCESO PÚBLICO                                26801\n",
       "ÁREA PRIVADA                                           6860\n",
       "VIVIENDA/ALOJAMIENTO                                   4352\n",
       "ÁREAS DEDICADAS AL COMERCIO                             735\n",
       "ENTIDADES PUBLICAS                                      449\n",
       "TRANSPORTE                                              419\n",
       "CENTRO DE REHABILITACIÓN SOCIAL (CRS)                   396\n",
       "UNIDADES DE REACCIÓN Y EMERGENCIA                       352\n",
       "INSTITUCIONES EDUCATIVAS                                322\n",
       "LUGARES QUE PRESTAN SERVICIOS                           230\n",
       "CENTROS DE DIVERSIÓN                                    172\n",
       "INSTITUCIONES DE SALUD                                  164\n",
       "CENTRO DE PRIVACIÓN PROVISIONAL DE LIBERTAD (CPPL)      122\n",
       "ENTIDADES FINANCIERAS                                    52\n",
       "ZONA DE INSPECCIÓN                                       46\n",
       "UNIDADES DE ASEGURAMIENTO TRANSITORIO (UAT)              21\n",
       "CENTRO DE ADOLESCENTES INFRACTORES (CAI)                 16\n",
       "ORGANISMOS INTERNACIONALES                                1\n",
       "Name: count, dtype: int64"
      ]
     },
     "execution_count": 70,
     "metadata": {},
     "output_type": "execute_result"
    }
   ],
   "source": [
    "df_2024['tipo_lugar'].value_counts()"
   ]
  },
  {
   "cell_type": "code",
   "execution_count": 71,
   "id": "e63eb48a",
   "metadata": {},
   "outputs": [],
   "source": [
    "# top_3_tipo_lugar = df_2024['tipo_lugar'].value_counts().nlargest(3).index\n",
    "# df_2024['tipo_lugar'] = df_2024['tipo_lugar'].apply(lambda x: x if x in top_3_tipo_lugar else 'OTROS')"
   ]
  },
  {
   "cell_type": "code",
   "execution_count": 72,
   "id": "40016f65",
   "metadata": {},
   "outputs": [],
   "source": [
    "# df_2024['tipo_lugar'].value_counts()"
   ]
  },
  {
   "cell_type": "markdown",
   "id": "b81701ad",
   "metadata": {},
   "source": [
    "En la descripción en el dataset la variable `nombre_provincia` presenta más categorías que provincias existen en el Ecuador"
   ]
  },
  {
   "cell_type": "code",
   "execution_count": 73,
   "id": "cef47ad0",
   "metadata": {},
   "outputs": [
    {
     "data": {
      "text/plain": [
       "25"
      ]
     },
     "execution_count": 73,
     "metadata": {},
     "output_type": "execute_result"
    }
   ],
   "source": [
    "len(set(df_2024['nombre_provincia']))"
   ]
  },
  {
   "cell_type": "markdown",
   "id": "67836f0c",
   "metadata": {},
   "source": [
    "## Removiendo columnas no necesarias"
   ]
  },
  {
   "cell_type": "code",
   "execution_count": 74,
   "id": "fb47caf7",
   "metadata": {},
   "outputs": [
    {
     "data": {
      "text/plain": [
       "21"
      ]
     },
     "execution_count": 74,
     "metadata": {},
     "output_type": "execute_result"
    }
   ],
   "source": [
    "df_out = df_2024.copy()\n",
    "cols2drop = ['codigo_iccs',  \n",
    "             'condicion', \n",
    "             'lugar',\n",
    "             'fecha_detencion_aprehension',\n",
    "             'anio_detension_aprehension',\n",
    "             'hora_detencion_aprehension',\n",
    "             'nombre_zona',\n",
    "             'nombre_subzona',\n",
    "             'codigo_distrito',\n",
    "             'nombre_distrito',\n",
    "             'codigo_canton',\n",
    "             'codigo_circuito',\n",
    "             'codigo_subcircuito',\n",
    "             'nombre_circuito',\n",
    "             'nombre_subcircuito',\n",
    "             'nombre_canton',\n",
    "             'nombre_parroquia',\n",
    "             'codigo_parroquia',\n",
    "             'codigo_provincia',\n",
    "             'latitud',\n",
    "             'longitud',]\n",
    "len(cols2drop)"
   ]
  },
  {
   "cell_type": "code",
   "execution_count": 75,
   "id": "90d13c19",
   "metadata": {},
   "outputs": [
    {
     "data": {
      "text/plain": [
       "(41510, 15)"
      ]
     },
     "execution_count": 75,
     "metadata": {},
     "output_type": "execute_result"
    }
   ],
   "source": [
    "df_out = df_out.drop(columns=cols2drop)\n",
    "df_out.shape"
   ]
  },
  {
   "cell_type": "code",
   "execution_count": 76,
   "id": "bce2ce65",
   "metadata": {},
   "outputs": [
    {
     "data": {
      "text/html": [
       "<div>\n",
       "<style scoped>\n",
       "    .dataframe tbody tr th:only-of-type {\n",
       "        vertical-align: middle;\n",
       "    }\n",
       "\n",
       "    .dataframe tbody tr th {\n",
       "        vertical-align: top;\n",
       "    }\n",
       "\n",
       "    .dataframe thead th {\n",
       "        text-align: right;\n",
       "    }\n",
       "</style>\n",
       "<table border=\"1\" class=\"dataframe\">\n",
       "  <thead>\n",
       "    <tr style=\"text-align: right;\">\n",
       "      <th></th>\n",
       "      <th>tipo</th>\n",
       "      <th>estado_civil</th>\n",
       "      <th>estatus_migratorio</th>\n",
       "      <th>edad</th>\n",
       "      <th>sexo</th>\n",
       "      <th>genero</th>\n",
       "      <th>nacionalidad</th>\n",
       "      <th>autoidentificacion_etnica</th>\n",
       "      <th>nivel_de_instruccion</th>\n",
       "      <th>movilizacion</th>\n",
       "      <th>tipo_arma</th>\n",
       "      <th>arma</th>\n",
       "      <th>tipo_lugar</th>\n",
       "      <th>nombre_provincia</th>\n",
       "      <th>presunta_infraccion</th>\n",
       "    </tr>\n",
       "  </thead>\n",
       "  <tbody>\n",
       "    <tr>\n",
       "      <th>35355</th>\n",
       "      <td>APREHENDIDO</td>\n",
       "      <td>SOLTERO/A</td>\n",
       "      <td>SE DESCONOCE</td>\n",
       "      <td>28</td>\n",
       "      <td>MUJER</td>\n",
       "      <td>FEMENINO</td>\n",
       "      <td>ECUATORIANO</td>\n",
       "      <td>MESTIZO/A</td>\n",
       "      <td>SE DESCONOCE</td>\n",
       "      <td>A PIE</td>\n",
       "      <td>NINGUNA</td>\n",
       "      <td>NINGUNA</td>\n",
       "      <td>ÁREA PRIVADA</td>\n",
       "      <td>LOS RÍOS</td>\n",
       "      <td>DELITOS CONTRA LA LIBERTAD PERSONAL</td>\n",
       "    </tr>\n",
       "    <tr>\n",
       "      <th>15022</th>\n",
       "      <td>APREHENDIDO</td>\n",
       "      <td>SE DESCONOCE</td>\n",
       "      <td>NO APLICA</td>\n",
       "      <td>SIN_DATO</td>\n",
       "      <td>HOMBRE</td>\n",
       "      <td>NO APLICA</td>\n",
       "      <td>COLOMBIANO</td>\n",
       "      <td>MESTIZO/A</td>\n",
       "      <td>NO APLICA</td>\n",
       "      <td>NO APLICA</td>\n",
       "      <td>NINGUNA</td>\n",
       "      <td>NINGUNA</td>\n",
       "      <td>ÁREA DE ACCESO PÚBLICO</td>\n",
       "      <td>MANABÍ</td>\n",
       "      <td>DELITOS POR LA PRODUCCIÓN O TRÁFICO ILÍCITO DE...</td>\n",
       "    </tr>\n",
       "    <tr>\n",
       "      <th>31415</th>\n",
       "      <td>APREHENDIDO</td>\n",
       "      <td>SOLTERO/A</td>\n",
       "      <td>NO APLICA</td>\n",
       "      <td>36</td>\n",
       "      <td>HOMBRE</td>\n",
       "      <td>MASCULINO</td>\n",
       "      <td>ECUATORIANO</td>\n",
       "      <td>MESTIZO/A</td>\n",
       "      <td>SE DESCONOCE</td>\n",
       "      <td>NO APLICA</td>\n",
       "      <td>NINGUNA</td>\n",
       "      <td>NINGUNA</td>\n",
       "      <td>ÁREA DE ACCESO PÚBLICO</td>\n",
       "      <td>MANABÍ</td>\n",
       "      <td>DELITOS CONTRA LA ACTIVIDAD HIDROCARBURÍFERA, ...</td>\n",
       "    </tr>\n",
       "    <tr>\n",
       "      <th>10532</th>\n",
       "      <td>APREHENDIDO</td>\n",
       "      <td>SOLTERO/A</td>\n",
       "      <td>SE DESCONOCE</td>\n",
       "      <td>32</td>\n",
       "      <td>HOMBRE</td>\n",
       "      <td>MASCULINO</td>\n",
       "      <td>ECUATORIANO</td>\n",
       "      <td>MESTIZO/A</td>\n",
       "      <td>BACHILLERATO</td>\n",
       "      <td>A PIE</td>\n",
       "      <td>NINGUNA</td>\n",
       "      <td>NINGUNA</td>\n",
       "      <td>ÁREA PRIVADA</td>\n",
       "      <td>PICHINCHA</td>\n",
       "      <td>CONTRAVENCION DE VIOLENCIA CONTRA LA MUJER O M...</td>\n",
       "    </tr>\n",
       "    <tr>\n",
       "      <th>41076</th>\n",
       "      <td>APREHENDIDO</td>\n",
       "      <td>SOLTERO/A</td>\n",
       "      <td>REGULAR</td>\n",
       "      <td>82</td>\n",
       "      <td>HOMBRE</td>\n",
       "      <td>MASCULINO</td>\n",
       "      <td>ARGENTINO</td>\n",
       "      <td>BLANCO/A</td>\n",
       "      <td>BACHILLERATO</td>\n",
       "      <td>AUTOMÓVIL</td>\n",
       "      <td>ARMAS DE FUEGO</td>\n",
       "      <td>CARTUCHERA</td>\n",
       "      <td>ÁREA DE ACCESO PÚBLICO</td>\n",
       "      <td>SANTA ELENA</td>\n",
       "      <td>DELITOS CONTRA LA SEGURIDAD PÚBLICA</td>\n",
       "    </tr>\n",
       "    <tr>\n",
       "      <th>29326</th>\n",
       "      <td>APREHENDIDO</td>\n",
       "      <td>CASADO/A</td>\n",
       "      <td>SE DESCONOCE</td>\n",
       "      <td>44</td>\n",
       "      <td>HOMBRE</td>\n",
       "      <td>MASCULINO</td>\n",
       "      <td>ECUATORIANO</td>\n",
       "      <td>SE DESCONOCE</td>\n",
       "      <td>SE DESCONOCE</td>\n",
       "      <td>TAXI</td>\n",
       "      <td>NINGUNA</td>\n",
       "      <td>NINGUNA</td>\n",
       "      <td>ÁREA DE ACCESO PÚBLICO</td>\n",
       "      <td>SANTA ELENA</td>\n",
       "      <td>DELITOS CONTRA LA SEGURIDAD PÚBLICA</td>\n",
       "    </tr>\n",
       "    <tr>\n",
       "      <th>14612</th>\n",
       "      <td>DETENIDO</td>\n",
       "      <td>DIVORCIADO/A</td>\n",
       "      <td>REGULAR</td>\n",
       "      <td>45</td>\n",
       "      <td>HOMBRE</td>\n",
       "      <td>MASCULINO</td>\n",
       "      <td>ECUATORIANO</td>\n",
       "      <td>MESTIZO/A</td>\n",
       "      <td>BACHILLERATO</td>\n",
       "      <td>TAXI</td>\n",
       "      <td>NINGUNA</td>\n",
       "      <td>NINGUNA</td>\n",
       "      <td>ÁREA DE ACCESO PÚBLICO</td>\n",
       "      <td>PICHINCHA</td>\n",
       "      <td>DELITOS CONTRA LA INTEGRIDAD SEXUAL Y REPRODUC...</td>\n",
       "    </tr>\n",
       "    <tr>\n",
       "      <th>6856</th>\n",
       "      <td>APREHENDIDO</td>\n",
       "      <td>CASADO/A</td>\n",
       "      <td>NO APLICA</td>\n",
       "      <td>30</td>\n",
       "      <td>HOMBRE</td>\n",
       "      <td>MASCULINO</td>\n",
       "      <td>ECUATORIANO</td>\n",
       "      <td>MESTIZO/A</td>\n",
       "      <td>NO APLICA</td>\n",
       "      <td>A PIE</td>\n",
       "      <td>NINGUNA</td>\n",
       "      <td>NINGUNA</td>\n",
       "      <td>VIVIENDA/ALOJAMIENTO</td>\n",
       "      <td>IMBABURA</td>\n",
       "      <td>CONTRAVENCION DE VIOLENCIA CONTRA LA MUJER O M...</td>\n",
       "    </tr>\n",
       "    <tr>\n",
       "      <th>32004</th>\n",
       "      <td>APREHENDIDO</td>\n",
       "      <td>SOLTERO/A</td>\n",
       "      <td>NO APLICA</td>\n",
       "      <td>26</td>\n",
       "      <td>HOMBRE</td>\n",
       "      <td>MASCULINO</td>\n",
       "      <td>ECUATORIANO</td>\n",
       "      <td>MESTIZO/A</td>\n",
       "      <td>NO APLICA</td>\n",
       "      <td>AUTOMÓVIL</td>\n",
       "      <td>NINGUNA</td>\n",
       "      <td>NINGUNA</td>\n",
       "      <td>ÁREA DE ACCESO PÚBLICO</td>\n",
       "      <td>GUAYAS</td>\n",
       "      <td>DELITOS CONTRA EL DERECHO A LA PROPIEDAD</td>\n",
       "    </tr>\n",
       "    <tr>\n",
       "      <th>7585</th>\n",
       "      <td>DETENIDO</td>\n",
       "      <td>CASADO/A</td>\n",
       "      <td>NO APLICA</td>\n",
       "      <td>36</td>\n",
       "      <td>HOMBRE</td>\n",
       "      <td>MASCULINO</td>\n",
       "      <td>ECUATORIANO</td>\n",
       "      <td>MESTIZO/A</td>\n",
       "      <td>EDUCACIÓN GENERAL BÁSICA</td>\n",
       "      <td>A PIE</td>\n",
       "      <td>NINGUNA</td>\n",
       "      <td>NINGUNA</td>\n",
       "      <td>ÁREA DE ACCESO PÚBLICO</td>\n",
       "      <td>COTOPAXI</td>\n",
       "      <td>BOLETAS</td>\n",
       "    </tr>\n",
       "  </tbody>\n",
       "</table>\n",
       "</div>"
      ],
      "text/plain": [
       "              tipo  estado_civil estatus_migratorio      edad    sexo  \\\n",
       "35355  APREHENDIDO     SOLTERO/A       SE DESCONOCE        28   MUJER   \n",
       "15022  APREHENDIDO  SE DESCONOCE          NO APLICA  SIN_DATO  HOMBRE   \n",
       "31415  APREHENDIDO     SOLTERO/A          NO APLICA        36  HOMBRE   \n",
       "10532  APREHENDIDO     SOLTERO/A       SE DESCONOCE        32  HOMBRE   \n",
       "41076  APREHENDIDO     SOLTERO/A            REGULAR        82  HOMBRE   \n",
       "29326  APREHENDIDO      CASADO/A       SE DESCONOCE        44  HOMBRE   \n",
       "14612     DETENIDO  DIVORCIADO/A            REGULAR        45  HOMBRE   \n",
       "6856   APREHENDIDO      CASADO/A          NO APLICA        30  HOMBRE   \n",
       "32004  APREHENDIDO     SOLTERO/A          NO APLICA        26  HOMBRE   \n",
       "7585      DETENIDO      CASADO/A          NO APLICA        36  HOMBRE   \n",
       "\n",
       "          genero nacionalidad autoidentificacion_etnica  \\\n",
       "35355   FEMENINO  ECUATORIANO                 MESTIZO/A   \n",
       "15022  NO APLICA   COLOMBIANO                 MESTIZO/A   \n",
       "31415  MASCULINO  ECUATORIANO                 MESTIZO/A   \n",
       "10532  MASCULINO  ECUATORIANO                 MESTIZO/A   \n",
       "41076  MASCULINO    ARGENTINO                  BLANCO/A   \n",
       "29326  MASCULINO  ECUATORIANO              SE DESCONOCE   \n",
       "14612  MASCULINO  ECUATORIANO                 MESTIZO/A   \n",
       "6856   MASCULINO  ECUATORIANO                 MESTIZO/A   \n",
       "32004  MASCULINO  ECUATORIANO                 MESTIZO/A   \n",
       "7585   MASCULINO  ECUATORIANO                 MESTIZO/A   \n",
       "\n",
       "           nivel_de_instruccion movilizacion       tipo_arma        arma  \\\n",
       "35355              SE DESCONOCE        A PIE         NINGUNA     NINGUNA   \n",
       "15022                 NO APLICA    NO APLICA         NINGUNA     NINGUNA   \n",
       "31415              SE DESCONOCE    NO APLICA         NINGUNA     NINGUNA   \n",
       "10532              BACHILLERATO        A PIE         NINGUNA     NINGUNA   \n",
       "41076              BACHILLERATO    AUTOMÓVIL  ARMAS DE FUEGO  CARTUCHERA   \n",
       "29326              SE DESCONOCE         TAXI         NINGUNA     NINGUNA   \n",
       "14612              BACHILLERATO         TAXI         NINGUNA     NINGUNA   \n",
       "6856                  NO APLICA        A PIE         NINGUNA     NINGUNA   \n",
       "32004                 NO APLICA    AUTOMÓVIL         NINGUNA     NINGUNA   \n",
       "7585   EDUCACIÓN GENERAL BÁSICA        A PIE         NINGUNA     NINGUNA   \n",
       "\n",
       "                   tipo_lugar nombre_provincia  \\\n",
       "35355            ÁREA PRIVADA         LOS RÍOS   \n",
       "15022  ÁREA DE ACCESO PÚBLICO           MANABÍ   \n",
       "31415  ÁREA DE ACCESO PÚBLICO           MANABÍ   \n",
       "10532            ÁREA PRIVADA        PICHINCHA   \n",
       "41076  ÁREA DE ACCESO PÚBLICO      SANTA ELENA   \n",
       "29326  ÁREA DE ACCESO PÚBLICO      SANTA ELENA   \n",
       "14612  ÁREA DE ACCESO PÚBLICO        PICHINCHA   \n",
       "6856     VIVIENDA/ALOJAMIENTO         IMBABURA   \n",
       "32004  ÁREA DE ACCESO PÚBLICO           GUAYAS   \n",
       "7585   ÁREA DE ACCESO PÚBLICO         COTOPAXI   \n",
       "\n",
       "                                     presunta_infraccion  \n",
       "35355                DELITOS CONTRA LA LIBERTAD PERSONAL  \n",
       "15022  DELITOS POR LA PRODUCCIÓN O TRÁFICO ILÍCITO DE...  \n",
       "31415  DELITOS CONTRA LA ACTIVIDAD HIDROCARBURÍFERA, ...  \n",
       "10532  CONTRAVENCION DE VIOLENCIA CONTRA LA MUJER O M...  \n",
       "41076                DELITOS CONTRA LA SEGURIDAD PÚBLICA  \n",
       "29326                DELITOS CONTRA LA SEGURIDAD PÚBLICA  \n",
       "14612  DELITOS CONTRA LA INTEGRIDAD SEXUAL Y REPRODUC...  \n",
       "6856   CONTRAVENCION DE VIOLENCIA CONTRA LA MUJER O M...  \n",
       "32004           DELITOS CONTRA EL DERECHO A LA PROPIEDAD  \n",
       "7585                                             BOLETAS  "
      ]
     },
     "execution_count": 76,
     "metadata": {},
     "output_type": "execute_result"
    }
   ],
   "source": [
    "df_out.sample(10)"
   ]
  },
  {
   "cell_type": "code",
   "execution_count": 77,
   "id": "a43b0ab1",
   "metadata": {},
   "outputs": [
    {
     "data": {
      "text/plain": [
       "presunta_infraccion\n",
       "DELITOS CONTRA EL DERECHO A LA PROPIEDAD                                                         7267\n",
       "DELITOS POR LA PRODUCCIÓN O TRÁFICO ILÍCITO DE SUSTANCIAS CATALOGADAS SUJETAS A FISCALIZACIÓN    6379\n",
       "BOLETAS                                                                                          6230\n",
       "DELITOS CONTRA LA SEGURIDAD PÚBLICA                                                              3464\n",
       "CONTRAVENCIONES DE TRÁNSITO                                                                      3173\n",
       "CONTRAVENCION DE VIOLENCIA CONTRA LA MUJER O MIEMBROS DEL NUCLEO FAMILIAR                        2526\n",
       "DELITOS DE VIOLENCIA CONTRA LA MUJER O MIEMBROS DEL NÚCLEO FAMILIAR                              2076\n",
       "DELITOS CONTRA LA EFICIENCIA DE LA ADMINISTRACIÓN PÚBLICA                                        1634\n",
       "CONTRAVENCIONES                                                                                  1195\n",
       "DELITOS CONTRA LA INTEGRIDAD SEXUAL Y REPRODUCTIVA                                                927\n",
       "Name: count, dtype: int64"
      ]
     },
     "execution_count": 77,
     "metadata": {},
     "output_type": "execute_result"
    }
   ],
   "source": [
    "df_out['presunta_infraccion'].value_counts().sort_values(ascending=False).head(10)"
   ]
  },
  {
   "cell_type": "code",
   "execution_count": 78,
   "id": "5c03bc69",
   "metadata": {},
   "outputs": [
    {
     "data": {
      "text/html": [
       "<div>\n",
       "<style scoped>\n",
       "    .dataframe tbody tr th:only-of-type {\n",
       "        vertical-align: middle;\n",
       "    }\n",
       "\n",
       "    .dataframe tbody tr th {\n",
       "        vertical-align: top;\n",
       "    }\n",
       "\n",
       "    .dataframe thead th {\n",
       "        text-align: right;\n",
       "    }\n",
       "</style>\n",
       "<table border=\"1\" class=\"dataframe\">\n",
       "  <thead>\n",
       "    <tr style=\"text-align: right;\">\n",
       "      <th></th>\n",
       "      <th>count</th>\n",
       "      <th>unique</th>\n",
       "      <th>top</th>\n",
       "      <th>freq</th>\n",
       "    </tr>\n",
       "  </thead>\n",
       "  <tbody>\n",
       "    <tr>\n",
       "      <th>tipo</th>\n",
       "      <td>41510</td>\n",
       "      <td>2</td>\n",
       "      <td>APREHENDIDO</td>\n",
       "      <td>31466</td>\n",
       "    </tr>\n",
       "    <tr>\n",
       "      <th>estado_civil</th>\n",
       "      <td>41510</td>\n",
       "      <td>6</td>\n",
       "      <td>SOLTERO/A</td>\n",
       "      <td>30798</td>\n",
       "    </tr>\n",
       "    <tr>\n",
       "      <th>estatus_migratorio</th>\n",
       "      <td>41510</td>\n",
       "      <td>4</td>\n",
       "      <td>NO APLICA</td>\n",
       "      <td>19666</td>\n",
       "    </tr>\n",
       "    <tr>\n",
       "      <th>edad</th>\n",
       "      <td>41510</td>\n",
       "      <td>79</td>\n",
       "      <td>24</td>\n",
       "      <td>1730</td>\n",
       "    </tr>\n",
       "    <tr>\n",
       "      <th>sexo</th>\n",
       "      <td>41510</td>\n",
       "      <td>3</td>\n",
       "      <td>HOMBRE</td>\n",
       "      <td>37052</td>\n",
       "    </tr>\n",
       "    <tr>\n",
       "      <th>genero</th>\n",
       "      <td>41510</td>\n",
       "      <td>7</td>\n",
       "      <td>MASCULINO</td>\n",
       "      <td>35921</td>\n",
       "    </tr>\n",
       "    <tr>\n",
       "      <th>nacionalidad</th>\n",
       "      <td>41510</td>\n",
       "      <td>28</td>\n",
       "      <td>ECUATORIANO</td>\n",
       "      <td>38922</td>\n",
       "    </tr>\n",
       "    <tr>\n",
       "      <th>autoidentificacion_etnica</th>\n",
       "      <td>41510</td>\n",
       "      <td>30</td>\n",
       "      <td>MESTIZO/A</td>\n",
       "      <td>33438</td>\n",
       "    </tr>\n",
       "    <tr>\n",
       "      <th>nivel_de_instruccion</th>\n",
       "      <td>41510</td>\n",
       "      <td>7</td>\n",
       "      <td>SE DESCONOCE</td>\n",
       "      <td>16004</td>\n",
       "    </tr>\n",
       "    <tr>\n",
       "      <th>movilizacion</th>\n",
       "      <td>41510</td>\n",
       "      <td>13</td>\n",
       "      <td>A PIE</td>\n",
       "      <td>22408</td>\n",
       "    </tr>\n",
       "    <tr>\n",
       "      <th>tipo_arma</th>\n",
       "      <td>41510</td>\n",
       "      <td>3</td>\n",
       "      <td>NINGUNA</td>\n",
       "      <td>36985</td>\n",
       "    </tr>\n",
       "    <tr>\n",
       "      <th>arma</th>\n",
       "      <td>41510</td>\n",
       "      <td>27</td>\n",
       "      <td>NINGUNA</td>\n",
       "      <td>36979</td>\n",
       "    </tr>\n",
       "    <tr>\n",
       "      <th>tipo_lugar</th>\n",
       "      <td>41510</td>\n",
       "      <td>18</td>\n",
       "      <td>ÁREA DE ACCESO PÚBLICO</td>\n",
       "      <td>26801</td>\n",
       "    </tr>\n",
       "    <tr>\n",
       "      <th>nombre_provincia</th>\n",
       "      <td>41510</td>\n",
       "      <td>25</td>\n",
       "      <td>GUAYAS</td>\n",
       "      <td>8063</td>\n",
       "    </tr>\n",
       "    <tr>\n",
       "      <th>presunta_infraccion</th>\n",
       "      <td>41510</td>\n",
       "      <td>52</td>\n",
       "      <td>DELITOS CONTRA EL DERECHO A LA PROPIEDAD</td>\n",
       "      <td>7267</td>\n",
       "    </tr>\n",
       "  </tbody>\n",
       "</table>\n",
       "</div>"
      ],
      "text/plain": [
       "                           count unique  \\\n",
       "tipo                       41510      2   \n",
       "estado_civil               41510      6   \n",
       "estatus_migratorio         41510      4   \n",
       "edad                       41510     79   \n",
       "sexo                       41510      3   \n",
       "genero                     41510      7   \n",
       "nacionalidad               41510     28   \n",
       "autoidentificacion_etnica  41510     30   \n",
       "nivel_de_instruccion       41510      7   \n",
       "movilizacion               41510     13   \n",
       "tipo_arma                  41510      3   \n",
       "arma                       41510     27   \n",
       "tipo_lugar                 41510     18   \n",
       "nombre_provincia           41510     25   \n",
       "presunta_infraccion        41510     52   \n",
       "\n",
       "                                                                top   freq  \n",
       "tipo                                                    APREHENDIDO  31466  \n",
       "estado_civil                                              SOLTERO/A  30798  \n",
       "estatus_migratorio                                        NO APLICA  19666  \n",
       "edad                                                             24   1730  \n",
       "sexo                                                         HOMBRE  37052  \n",
       "genero                                                    MASCULINO  35921  \n",
       "nacionalidad                                            ECUATORIANO  38922  \n",
       "autoidentificacion_etnica                                 MESTIZO/A  33438  \n",
       "nivel_de_instruccion                                   SE DESCONOCE  16004  \n",
       "movilizacion                                                  A PIE  22408  \n",
       "tipo_arma                                                   NINGUNA  36985  \n",
       "arma                                                        NINGUNA  36979  \n",
       "tipo_lugar                                   ÁREA DE ACCESO PÚBLICO  26801  \n",
       "nombre_provincia                                             GUAYAS   8063  \n",
       "presunta_infraccion        DELITOS CONTRA EL DERECHO A LA PROPIEDAD   7267  "
      ]
     },
     "execution_count": 78,
     "metadata": {},
     "output_type": "execute_result"
    }
   ],
   "source": [
    "# len(set(df_out['presunta_infraccion']))\n",
    "df_out.describe().transpose()"
   ]
  },
  {
   "cell_type": "markdown",
   "id": "689a5c58",
   "metadata": {},
   "source": [
    "## Presunto Delito/Infracción\n",
    "\n",
    "En el dataset final existen 52 valores distintos en `presunta_infraccion`. Se toma el top 10 de los más frecuentes y los demás se define como `OTROS`"
   ]
  },
  {
   "cell_type": "code",
   "execution_count": 79,
   "id": "7ffe2f73",
   "metadata": {},
   "outputs": [
    {
     "data": {
      "text/plain": [
       "presunta_infraccion\n",
       "OTROS                                                                                            21634\n",
       "DELITOS CONTRA EL DERECHO A LA PROPIEDAD                                                          7267\n",
       "DELITOS POR LA PRODUCCIÓN O TRÁFICO ILÍCITO DE SUSTANCIAS CATALOGADAS SUJETAS A FISCALIZACIÓN     6379\n",
       "BOLETAS                                                                                           6230\n",
       "Name: count, dtype: int64"
      ]
     },
     "execution_count": 79,
     "metadata": {},
     "output_type": "execute_result"
    }
   ],
   "source": [
    "top_10_infracciones = df_out['presunta_infraccion'].value_counts().nlargest(3).index\n",
    "df_out['presunta_infraccion'] = df_out['presunta_infraccion'].apply(lambda x: x if x in top_10_infracciones else 'OTROS')\n",
    "df_out['presunta_infraccion'].value_counts()"
   ]
  },
  {
   "cell_type": "code",
   "execution_count": 83,
   "id": "0e32afe9",
   "metadata": {},
   "outputs": [],
   "source": [
    "# sns.boxplot(x='edad', y='presunta_infraccion', data=df_out)"
   ]
  },
  {
   "cell_type": "code",
   "execution_count": 81,
   "id": "00af916f",
   "metadata": {},
   "outputs": [],
   "source": [
    "df_out.to_csv('data/mdi_detenidos_2024_biased.csv', index=False)"
   ]
  },
  {
   "cell_type": "code",
   "execution_count": 82,
   "id": "a2eeff60",
   "metadata": {},
   "outputs": [
    {
     "data": {
      "text/plain": [
       "(41510, 15)"
      ]
     },
     "execution_count": 82,
     "metadata": {},
     "output_type": "execute_result"
    }
   ],
   "source": [
    "df_out.shape"
   ]
  }
 ],
 "metadata": {
  "kernelspec": {
   "display_name": "tfmlenv",
   "language": "python",
   "name": "python3"
  },
  "language_info": {
   "codemirror_mode": {
    "name": "ipython",
    "version": 3
   },
   "file_extension": ".py",
   "mimetype": "text/x-python",
   "name": "python",
   "nbconvert_exporter": "python",
   "pygments_lexer": "ipython3",
   "version": "3.9.23"
  }
 },
 "nbformat": 4,
 "nbformat_minor": 5
}

{
 "cells": [
  {
   "cell_type": "markdown",
   "id": "a5a2766a",
   "metadata": {},
   "source": [
    "\n",
    "# Modelo de red neuronal mejorado para detenidos 2024\n",
    "\n",
    "Este notebook mejora el modelo anterior utilizando técnicas adicionales de **preprocesamiento** y **optimización**. Se usa `StandardScaler` para estandarizar la variable numérica `edad` (centrar la media en 0 y escalar a varianza unitaria) porque muchos algoritmos de aprendizaje pueden comportarse mal si las características tienen escalas muy diferentes【641495248861329†L690-L703】. También se aplica `OneHotEncoder` para convertir las variables categóricas en columnas binarias, lo que permite que la red neuronal procese datos categóricos【415078688353375†L679-L691】.  A continuación, se entrena un perceptrón multicapa (`MLPClassifier`) con dos capas ocultas y parada temprana (`early_stopping=True`) para mejorar la generalización.\n",
    "\n"
   ]
  },
  {
   "cell_type": "code",
   "execution_count": 7,
   "id": "11bf2c59",
   "metadata": {},
   "outputs": [],
   "source": [
    "\n",
    "import pandas as pd\n",
    "from sklearn.model_selection import train_test_split\n",
    "from sklearn.preprocessing import StandardScaler, OneHotEncoder, LabelEncoder\n",
    "from sklearn.compose import ColumnTransformer\n",
    "from sklearn.pipeline import Pipeline\n",
    "from sklearn.neural_network import MLPClassifier\n",
    "from sklearn.metrics import classification_report, accuracy_score\n"
   ]
  },
  {
   "cell_type": "code",
   "execution_count": 8,
   "id": "9a39b9b6",
   "metadata": {},
   "outputs": [
    {
     "name": "stdout",
     "output_type": "stream",
     "text": [
      "(40976, 8)\n"
     ]
    }
   ],
   "source": [
    "\n",
    "# Cargar datos\n",
    "df = pd.read_csv('data/mdi_detenidos_2024_limpio.csv')\n",
    "print(df.shape)\n",
    "# Eliminar columna de alta cardinalidad\n",
    "if 'codigo_provincia' in df.columns:\n",
    "    df = df.drop(columns=['codigo_provincia'])\n",
    "\n",
    "# Convertir edad a numérico y eliminar filas con valores faltantes\n",
    "df['edad'] = pd.to_numeric(df['edad'], errors='coerce')\n",
    "df = df.dropna(subset=['edad'])\n",
    "\n",
    "# Rellenar valores faltantes en variables categóricas\n",
    "df = df.fillna('Desconocido')\n",
    "\n",
    "# Simplificar presunta_infraccion a las 3 categorías más frecuentes + OTROS\n",
    "# top3 = df['presunta_infraccion'].value_counts().nlargest(3).index\n",
    "# df['presunta_infraccion'] = df['presunta_infraccion'].apply(lambda x: x if x in top3 else 'OTROS')\n",
    "\n",
    "# Muestra de 50% para acelerar el entrenamiento\n",
    "if len(df) > 20000:\n",
    "    df = df.sample(frac=0.5, random_state=42)\n",
    "\n",
    "# Codificar objetivos\n",
    "y_tipo = LabelEncoder().fit_transform(df['tipo'])\n",
    "y_infr = LabelEncoder().fit_transform(df['presunta_infraccion'])\n",
    "\n",
    "# Definir variables predictoras (excluyendo objetivos)\n",
    "X = df.drop(columns=['tipo', 'presunta_infraccion'])\n",
    "\n",
    "# Identificar columnas numéricas y categóricas\n",
    "numeric_features = ['edad']\n",
    "categorical_features = [col for col in X.columns if col not in numeric_features]\n",
    "\n",
    "# Preprocesador: escalar y codificar\n",
    "preprocess = ColumnTransformer([\n",
    "    ('num', StandardScaler(), numeric_features),\n",
    "    ('cat', OneHotEncoder(handle_unknown='ignore'), categorical_features)\n",
    "])\n",
    "\n",
    "# División entrenamiento/prueba para ambos objetivos\n",
    "X_train_t, X_test_t, y_train_t, y_test_t = train_test_split(X, y_tipo, test_size=0.2, random_state=42, stratify=y_tipo)\n",
    "X_train_i, X_test_i, y_train_i, y_test_i = train_test_split(X, y_infr, test_size=0.2, random_state=42, stratify=y_infr)\n"
   ]
  },
  {
   "cell_type": "code",
   "execution_count": 9,
   "id": "de430255",
   "metadata": {},
   "outputs": [
    {
     "data": {
      "text/plain": [
       "((16390, 5), (4098, 5), (16390,), (4098,))"
      ]
     },
     "execution_count": 9,
     "metadata": {},
     "output_type": "execute_result"
    }
   ],
   "source": [
    "X_train_t.shape, X_test_t.shape, y_train_t.shape, y_test_t.shape"
   ]
  },
  {
   "cell_type": "code",
   "execution_count": 10,
   "id": "29629031",
   "metadata": {},
   "outputs": [
    {
     "name": "stdout",
     "output_type": "stream",
     "text": [
      "Entrenando modelo para tipo...\n",
      "=== Reporte para 'tipo' mejorado ===\n",
      "              precision    recall  f1-score   support\n",
      "\n",
      " APREHENDIDO       0.78      0.96      0.86      3114\n",
      "    DETENIDO       0.55      0.15      0.24       984\n",
      "\n",
      "    accuracy                           0.77      4098\n",
      "   macro avg       0.66      0.56      0.55      4098\n",
      "weighted avg       0.73      0.77      0.71      4098\n",
      "\n",
      "Precisión de tipo: 0.7662274280136652\n"
     ]
    }
   ],
   "source": [
    "\n",
    "# Modelo para 'tipo' (clasificación binaria)\n",
    "tipo_model = Pipeline([\n",
    "    ('preprocess', preprocess),\n",
    "    ('mlp', MLPClassifier(hidden_layer_sizes=(100, 50), activation='relu', solver='adam', max_iter=200, random_state=42, early_stopping=True))\n",
    "])\n",
    "\n",
    "# Entrenar y evaluar\n",
    "print('Entrenando modelo para tipo...')\n",
    "tipo_model.fit(X_train_t, y_train_t)\n",
    "y_pred_t = tipo_model.predict(X_test_t)\n",
    "\n",
    "print(\"=== Reporte para 'tipo' mejorado ===\")\n",
    "print(classification_report(y_test_t, y_pred_t, target_names=['APREHENDIDO','DETENIDO']))\n",
    "print('Precisión de tipo:', accuracy_score(y_test_t, y_pred_t))\n"
   ]
  },
  {
   "cell_type": "code",
   "execution_count": 11,
   "id": "e6a87ca7",
   "metadata": {},
   "outputs": [
    {
     "name": "stdout",
     "output_type": "stream",
     "text": [
      "Entrenando modelo para presunta_infraccion...\n",
      "=== Reporte para 'presunta_infraccion' mejorado ===\n",
      "                                                                                               precision    recall  f1-score   support\n",
      "\n",
      "                                                                                      BOLETAS       0.46      0.08      0.14       607\n",
      "                                                     DELITOS CONTRA EL DERECHO A LA PROPIEDAD       0.38      0.04      0.07       716\n",
      "DELITOS POR LA PRODUCCIÓN O TRÁFICO ILÍCITO DE SUSTANCIAS CATALOGADAS SUJETAS A FISCALIZACIÓN       0.42      0.06      0.10       625\n",
      "                                                                                        OTROS       0.54      0.95      0.69      2150\n",
      "\n",
      "                                                                                     accuracy                           0.53      4098\n",
      "                                                                                    macro avg       0.45      0.28      0.25      4098\n",
      "                                                                                 weighted avg       0.48      0.53      0.41      4098\n",
      "\n",
      "Precisión de presunta_infraccion: 0.5283064909712054\n"
     ]
    }
   ],
   "source": [
    "\n",
    "# Modelo para 'presunta_infraccion' (multiclase)\n",
    "infr_model = Pipeline([\n",
    "    ('preprocess', preprocess),\n",
    "    ('mlp', MLPClassifier(hidden_layer_sizes=(150, 75), activation='relu', solver='adam', max_iter=200, random_state=42, early_stopping=True))\n",
    "])\n",
    "\n",
    "# Entrenar y evaluar\n",
    "print('Entrenando modelo para presunta_infraccion...')\n",
    "infr_model.fit(X_train_i, y_train_i)\n",
    "y_pred_i = infr_model.predict(X_test_i)\n",
    "\n",
    "# Obtener nombres de clases\n",
    "target_names_infr = LabelEncoder().fit(df['presunta_infraccion']).classes_\n",
    "print(\"=== Reporte para 'presunta_infraccion' mejorado ===\")\n",
    "print(classification_report(y_test_i, y_pred_i, target_names=target_names_infr))\n",
    "print('Precisión de presunta_infraccion:', accuracy_score(y_test_i, y_pred_i))\n"
   ]
  }
 ],
 "metadata": {
  "kernelspec": {
   "display_name": "tfmlenv",
   "language": "python",
   "name": "python3"
  },
  "language_info": {
   "codemirror_mode": {
    "name": "ipython",
    "version": 3
   },
   "file_extension": ".py",
   "mimetype": "text/x-python",
   "name": "python",
   "nbconvert_exporter": "python",
   "pygments_lexer": "ipython3",
   "version": "3.9.23"
  }
 },
 "nbformat": 4,
 "nbformat_minor": 5
}

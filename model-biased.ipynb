{
 "cells": [
  {
   "cell_type": "markdown",
   "id": "e2d00bab",
   "metadata": {},
   "source": [
    "# Modelo Machine Learning\n",
    "\n",
    "Este modelo tiene por objetivo predecir la variable `presunta_infraccion` y `tipo` dado un vector de características. Es decir, el problema es de clasificación, donde se busca encontrar un $\\psi:\\mathbb{R}^n \\to \\mathbb{R}^k$. Donde $n$ es el número de `features` y $k$, el número de clases y $X \\in \\mathbb{R}^n$"
   ]
  },
  {
   "cell_type": "code",
   "execution_count": 21,
   "id": "fd9d5081",
   "metadata": {},
   "outputs": [
    {
     "data": {
      "text/plain": [
       "(41510, 15)"
      ]
     },
     "execution_count": 21,
     "metadata": {},
     "output_type": "execute_result"
    }
   ],
   "source": [
    "import pandas as pd\n",
    "import numpy as np\n",
    "\n",
    "path_data = 'data/mdi_detenidos_2024_biased.csv'\n",
    "df = pd.read_csv(path_data)\n",
    "df.shape"
   ]
  },
  {
   "cell_type": "code",
   "execution_count": 22,
   "id": "2f6c76a7",
   "metadata": {},
   "outputs": [
    {
     "data": {
      "text/html": [
       "<div>\n",
       "<style scoped>\n",
       "    .dataframe tbody tr th:only-of-type {\n",
       "        vertical-align: middle;\n",
       "    }\n",
       "\n",
       "    .dataframe tbody tr th {\n",
       "        vertical-align: top;\n",
       "    }\n",
       "\n",
       "    .dataframe thead th {\n",
       "        text-align: right;\n",
       "    }\n",
       "</style>\n",
       "<table border=\"1\" class=\"dataframe\">\n",
       "  <thead>\n",
       "    <tr style=\"text-align: right;\">\n",
       "      <th></th>\n",
       "      <th>tipo</th>\n",
       "      <th>estado_civil</th>\n",
       "      <th>estatus_migratorio</th>\n",
       "      <th>edad</th>\n",
       "      <th>sexo</th>\n",
       "      <th>genero</th>\n",
       "      <th>nacionalidad</th>\n",
       "      <th>autoidentificacion_etnica</th>\n",
       "      <th>nivel_de_instruccion</th>\n",
       "      <th>movilizacion</th>\n",
       "      <th>tipo_arma</th>\n",
       "      <th>arma</th>\n",
       "      <th>tipo_lugar</th>\n",
       "      <th>nombre_provincia</th>\n",
       "      <th>presunta_infraccion</th>\n",
       "    </tr>\n",
       "  </thead>\n",
       "  <tbody>\n",
       "    <tr>\n",
       "      <th>0</th>\n",
       "      <td>APREHENDIDO</td>\n",
       "      <td>SOLTERO/A</td>\n",
       "      <td>NO APLICA</td>\n",
       "      <td>19</td>\n",
       "      <td>HOMBRE</td>\n",
       "      <td>MASCULINO</td>\n",
       "      <td>ECUATORIANO</td>\n",
       "      <td>MESTIZO/A</td>\n",
       "      <td>TERCER NIVEL TÉCNICO-TECNOLÓGICO Y DE GRADO</td>\n",
       "      <td>A PIE</td>\n",
       "      <td>NINGUNA</td>\n",
       "      <td>NINGUNA</td>\n",
       "      <td>ÁREA DE ACCESO PÚBLICO</td>\n",
       "      <td>BOLÍVAR</td>\n",
       "      <td>OTROS</td>\n",
       "    </tr>\n",
       "    <tr>\n",
       "      <th>1</th>\n",
       "      <td>DETENIDO</td>\n",
       "      <td>CASADO/A</td>\n",
       "      <td>NO APLICA</td>\n",
       "      <td>40</td>\n",
       "      <td>HOMBRE</td>\n",
       "      <td>MASCULINO</td>\n",
       "      <td>ECUATORIANO</td>\n",
       "      <td>INDÍGENA</td>\n",
       "      <td>EDUCACIÓN GENERAL BÁSICA</td>\n",
       "      <td>A PIE</td>\n",
       "      <td>NINGUNA</td>\n",
       "      <td>NINGUNA</td>\n",
       "      <td>ÁREA PRIVADA</td>\n",
       "      <td>NAPO</td>\n",
       "      <td>OTROS</td>\n",
       "    </tr>\n",
       "    <tr>\n",
       "      <th>2</th>\n",
       "      <td>APREHENDIDO</td>\n",
       "      <td>SOLTERO/A</td>\n",
       "      <td>NO APLICA</td>\n",
       "      <td>36</td>\n",
       "      <td>HOMBRE</td>\n",
       "      <td>FEMENINO</td>\n",
       "      <td>ECUATORIANO</td>\n",
       "      <td>MESTIZO/A</td>\n",
       "      <td>NO APLICA</td>\n",
       "      <td>NO APLICA</td>\n",
       "      <td>NINGUNA</td>\n",
       "      <td>NINGUNA</td>\n",
       "      <td>ÁREAS DEDICADAS AL COMERCIO</td>\n",
       "      <td>PICHINCHA</td>\n",
       "      <td>OTROS</td>\n",
       "    </tr>\n",
       "    <tr>\n",
       "      <th>3</th>\n",
       "      <td>APREHENDIDO</td>\n",
       "      <td>SOLTERO/A</td>\n",
       "      <td>NO APLICA</td>\n",
       "      <td>26</td>\n",
       "      <td>HOMBRE</td>\n",
       "      <td>MASCULINO</td>\n",
       "      <td>ECUATORIANO</td>\n",
       "      <td>MESTIZO/A</td>\n",
       "      <td>BACHILLERATO</td>\n",
       "      <td>A PIE</td>\n",
       "      <td>NINGUNA</td>\n",
       "      <td>NINGUNA</td>\n",
       "      <td>ÁREA DE ACCESO PÚBLICO</td>\n",
       "      <td>PICHINCHA</td>\n",
       "      <td>DELITOS CONTRA EL DERECHO A LA PROPIEDAD</td>\n",
       "    </tr>\n",
       "    <tr>\n",
       "      <th>4</th>\n",
       "      <td>APREHENDIDO</td>\n",
       "      <td>DIVORCIADO/A</td>\n",
       "      <td>NO APLICA</td>\n",
       "      <td>34</td>\n",
       "      <td>HOMBRE</td>\n",
       "      <td>MASCULINO</td>\n",
       "      <td>ECUATORIANO</td>\n",
       "      <td>SE DESCONOCE</td>\n",
       "      <td>SE DESCONOCE</td>\n",
       "      <td>A PIE</td>\n",
       "      <td>NINGUNA</td>\n",
       "      <td>NINGUNA</td>\n",
       "      <td>ÁREA DE ACCESO PÚBLICO</td>\n",
       "      <td>AZUAY</td>\n",
       "      <td>OTROS</td>\n",
       "    </tr>\n",
       "  </tbody>\n",
       "</table>\n",
       "</div>"
      ],
      "text/plain": [
       "          tipo  estado_civil estatus_migratorio edad    sexo     genero  \\\n",
       "0  APREHENDIDO     SOLTERO/A          NO APLICA   19  HOMBRE  MASCULINO   \n",
       "1     DETENIDO      CASADO/A          NO APLICA   40  HOMBRE  MASCULINO   \n",
       "2  APREHENDIDO     SOLTERO/A          NO APLICA   36  HOMBRE   FEMENINO   \n",
       "3  APREHENDIDO     SOLTERO/A          NO APLICA   26  HOMBRE  MASCULINO   \n",
       "4  APREHENDIDO  DIVORCIADO/A          NO APLICA   34  HOMBRE  MASCULINO   \n",
       "\n",
       "  nacionalidad autoidentificacion_etnica  \\\n",
       "0  ECUATORIANO                 MESTIZO/A   \n",
       "1  ECUATORIANO                  INDÍGENA   \n",
       "2  ECUATORIANO                 MESTIZO/A   \n",
       "3  ECUATORIANO                 MESTIZO/A   \n",
       "4  ECUATORIANO              SE DESCONOCE   \n",
       "\n",
       "                          nivel_de_instruccion movilizacion tipo_arma  \\\n",
       "0  TERCER NIVEL TÉCNICO-TECNOLÓGICO Y DE GRADO        A PIE   NINGUNA   \n",
       "1                     EDUCACIÓN GENERAL BÁSICA        A PIE   NINGUNA   \n",
       "2                                    NO APLICA    NO APLICA   NINGUNA   \n",
       "3                                 BACHILLERATO        A PIE   NINGUNA   \n",
       "4                                 SE DESCONOCE        A PIE   NINGUNA   \n",
       "\n",
       "      arma                   tipo_lugar nombre_provincia  \\\n",
       "0  NINGUNA       ÁREA DE ACCESO PÚBLICO          BOLÍVAR   \n",
       "1  NINGUNA                 ÁREA PRIVADA             NAPO   \n",
       "2  NINGUNA  ÁREAS DEDICADAS AL COMERCIO        PICHINCHA   \n",
       "3  NINGUNA       ÁREA DE ACCESO PÚBLICO        PICHINCHA   \n",
       "4  NINGUNA       ÁREA DE ACCESO PÚBLICO            AZUAY   \n",
       "\n",
       "                        presunta_infraccion  \n",
       "0                                     OTROS  \n",
       "1                                     OTROS  \n",
       "2                                     OTROS  \n",
       "3  DELITOS CONTRA EL DERECHO A LA PROPIEDAD  \n",
       "4                                     OTROS  "
      ]
     },
     "execution_count": 22,
     "metadata": {},
     "output_type": "execute_result"
    }
   ],
   "source": [
    "df.head()"
   ]
  },
  {
   "cell_type": "code",
   "execution_count": 23,
   "id": "e2d96b24",
   "metadata": {},
   "outputs": [
    {
     "data": {
      "text/plain": [
       "tipo                         object\n",
       "estado_civil                 object\n",
       "estatus_migratorio           object\n",
       "edad                         object\n",
       "sexo                         object\n",
       "genero                       object\n",
       "nacionalidad                 object\n",
       "autoidentificacion_etnica    object\n",
       "nivel_de_instruccion         object\n",
       "movilizacion                 object\n",
       "tipo_arma                    object\n",
       "arma                         object\n",
       "tipo_lugar                   object\n",
       "nombre_provincia             object\n",
       "presunta_infraccion          object\n",
       "dtype: object"
      ]
     },
     "execution_count": 23,
     "metadata": {},
     "output_type": "execute_result"
    }
   ],
   "source": [
    "df.dtypes"
   ]
  },
  {
   "cell_type": "code",
   "execution_count": 24,
   "id": "e833db08",
   "metadata": {},
   "outputs": [
    {
     "data": {
      "image/png": "[encoded data removed]",
      "text/plain": [
       "<Figure size 600x400 with 1 Axes>"
      ]
     },
     "metadata": {},
     "output_type": "display_data"
    }
   ],
   "source": [
    "import matplotlib.pyplot as plt\n",
    "import seaborn as sns\n",
    "\n",
    "# --- Numeric correlation (Pearson)\n",
    "plt.figure(figsize=(6,4))\n",
    "sns.boxplot(x=\"tipo\", y=\"edad\", data=df)\n",
    "plt.title(\"Edad vs Tipo (Detained/Apprehended)\")\n",
    "plt.show()"
   ]
  },
  {
   "cell_type": "code",
   "execution_count": 25,
   "id": "3d89bf4b",
   "metadata": {},
   "outputs": [
    {
     "data": {
      "image/png": "[encoded data removed]",
      "text/plain": [
       "<Figure size 1200x400 with 1 Axes>"
      ]
     },
     "metadata": {},
     "output_type": "display_data"
    }
   ],
   "source": [
    "plt.figure(figsize=(12,4))\n",
    "sns.boxplot(x=\"presunta_infraccion\", y=\"edad\", data=df)\n",
    "plt.xticks(rotation=90)\n",
    "plt.title(\"Edad vs Presunta Infracción\")\n",
    "plt.show()"
   ]
  },
  {
   "cell_type": "code",
   "execution_count": 26,
   "id": "561d8101",
   "metadata": {},
   "outputs": [
    {
     "name": "stdout",
     "output_type": "stream",
     "text": [
      "estado_civil vs tipo (Cramér's V): 0.192\n",
      "estado_civil vs presunta_infraccion (Cramér's V): 0.146\n",
      "estatus_migratorio vs tipo (Cramér's V): 0.080\n",
      "estatus_migratorio vs presunta_infraccion (Cramér's V): 0.051\n",
      "edad vs tipo (Cramér's V): 0.231\n",
      "edad vs presunta_infraccion (Cramér's V): 0.149\n",
      "sexo vs tipo (Cramér's V): 0.034\n",
      "sexo vs presunta_infraccion (Cramér's V): 0.069\n",
      "genero vs tipo (Cramér's V): 0.033\n",
      "genero vs presunta_infraccion (Cramér's V): 0.058\n",
      "nacionalidad vs tipo (Cramér's V): 0.084\n",
      "nacionalidad vs presunta_infraccion (Cramér's V): 0.069\n",
      "autoidentificacion_etnica vs tipo (Cramér's V): 0.077\n",
      "autoidentificacion_etnica vs presunta_infraccion (Cramér's V): 0.072\n",
      "nivel_de_instruccion vs tipo (Cramér's V): 0.149\n",
      "nivel_de_instruccion vs presunta_infraccion (Cramér's V): 0.116\n",
      "movilizacion vs tipo (Cramér's V): 0.148\n",
      "movilizacion vs presunta_infraccion (Cramér's V): 0.140\n",
      "tipo_arma vs tipo (Cramér's V): 0.159\n",
      "tipo_arma vs presunta_infraccion (Cramér's V): 0.160\n",
      "arma vs tipo (Cramér's V): 0.160\n",
      "arma vs presunta_infraccion (Cramér's V): 0.138\n",
      "tipo_lugar vs tipo (Cramér's V): 0.190\n",
      "tipo_lugar vs presunta_infraccion (Cramér's V): 0.153\n",
      "nombre_provincia vs tipo (Cramér's V): 0.134\n",
      "nombre_provincia vs presunta_infraccion (Cramér's V): 0.160\n"
     ]
    }
   ],
   "source": [
    "from scipy.stats import chi2_contingency\n",
    "\n",
    "# --- Function for Cramér's V (categorical correlation)\n",
    "def cramers_v(x, y):\n",
    "    confusion_matrix = pd.crosstab(x, y)\n",
    "    chi2 = chi2_contingency(confusion_matrix)[0]\n",
    "    n = confusion_matrix.sum().sum()\n",
    "    r, k = confusion_matrix.shape\n",
    "    return np.sqrt((chi2/n) / (min(k-1, r-1)))\n",
    "\n",
    "# Compute categorical correlations with targets\n",
    "cat_cols = df.select_dtypes(include=['object']).columns\n",
    "for col in cat_cols:\n",
    "    if col not in [\"tipo\",\"presunta_infraccion\"]:\n",
    "        print(f\"{col} vs tipo (Cramér's V): {cramers_v(df[col], df['tipo']):.3f}\")\n",
    "        print(f\"{col} vs presunta_infraccion (Cramér's V): {cramers_v(df[col], df['presunta_infraccion']):.3f}\")"
   ]
  },
  {
   "cell_type": "code",
   "execution_count": 27,
   "id": "d48f91cf",
   "metadata": {},
   "outputs": [],
   "source": [
    "# df.drop(columns=[\"codigo_provincia\"], inplace=True)\n",
    "# df.shape"
   ]
  },
  {
   "cell_type": "code",
   "execution_count": 28,
   "id": "8801593c",
   "metadata": {},
   "outputs": [
    {
     "data": {
      "text/plain": [
       "((41510, 13), (41510,), (41510,))"
      ]
     },
     "execution_count": 28,
     "metadata": {},
     "output_type": "execute_result"
    }
   ],
   "source": [
    "from sklearn.model_selection import train_test_split\n",
    "from sklearn.preprocessing import LabelEncoder\n",
    "from sklearn.ensemble import RandomForestClassifier\n",
    "from sklearn.metrics import classification_report\n",
    "\n",
    "# Encode categorical features\n",
    "df_encoded = df.copy()\n",
    "encoders = {}\n",
    "for col in df_encoded.select_dtypes(include=['object']).columns:\n",
    "    le = LabelEncoder()\n",
    "    df_encoded[col] = le.fit_transform(df_encoded[col])\n",
    "    encoders[col] = le\n",
    "\n",
    "\n",
    "# Features and targets\n",
    "X = df_encoded.drop([\"tipo\",\"presunta_infraccion\"], axis=1)\n",
    "\n",
    "y_tipo = df_encoded[\"tipo\"]\n",
    "y_infraccion = df_encoded[\"presunta_infraccion\"]\n",
    "\n",
    "X.shape, y_tipo.shape, y_infraccion.shape"
   ]
  },
  {
   "cell_type": "code",
   "execution_count": 29,
   "id": "7f26ffd7",
   "metadata": {},
   "outputs": [
    {
     "data": {
      "text/html": [
       "<div>\n",
       "<style scoped>\n",
       "    .dataframe tbody tr th:only-of-type {\n",
       "        vertical-align: middle;\n",
       "    }\n",
       "\n",
       "    .dataframe tbody tr th {\n",
       "        vertical-align: top;\n",
       "    }\n",
       "\n",
       "    .dataframe thead th {\n",
       "        text-align: right;\n",
       "    }\n",
       "</style>\n",
       "<table border=\"1\" class=\"dataframe\">\n",
       "  <thead>\n",
       "    <tr style=\"text-align: right;\">\n",
       "      <th></th>\n",
       "      <th>estado_civil</th>\n",
       "      <th>estatus_migratorio</th>\n",
       "      <th>edad</th>\n",
       "      <th>sexo</th>\n",
       "      <th>genero</th>\n",
       "      <th>nacionalidad</th>\n",
       "      <th>autoidentificacion_etnica</th>\n",
       "      <th>nivel_de_instruccion</th>\n",
       "      <th>movilizacion</th>\n",
       "      <th>tipo_arma</th>\n",
       "      <th>arma</th>\n",
       "      <th>tipo_lugar</th>\n",
       "      <th>nombre_provincia</th>\n",
       "    </tr>\n",
       "  </thead>\n",
       "  <tbody>\n",
       "    <tr>\n",
       "      <th>480</th>\n",
       "      <td>3</td>\n",
       "      <td>3</td>\n",
       "      <td>13</td>\n",
       "      <td>0</td>\n",
       "      <td>1</td>\n",
       "      <td>11</td>\n",
       "      <td>14</td>\n",
       "      <td>5</td>\n",
       "      <td>11</td>\n",
       "      <td>2</td>\n",
       "      <td>16</td>\n",
       "      <td>15</td>\n",
       "      <td>20</td>\n",
       "    </tr>\n",
       "    <tr>\n",
       "      <th>22339</th>\n",
       "      <td>0</td>\n",
       "      <td>3</td>\n",
       "      <td>22</td>\n",
       "      <td>0</td>\n",
       "      <td>1</td>\n",
       "      <td>11</td>\n",
       "      <td>14</td>\n",
       "      <td>0</td>\n",
       "      <td>0</td>\n",
       "      <td>2</td>\n",
       "      <td>16</td>\n",
       "      <td>7</td>\n",
       "      <td>13</td>\n",
       "    </tr>\n",
       "    <tr>\n",
       "      <th>9523</th>\n",
       "      <td>3</td>\n",
       "      <td>3</td>\n",
       "      <td>13</td>\n",
       "      <td>0</td>\n",
       "      <td>1</td>\n",
       "      <td>11</td>\n",
       "      <td>14</td>\n",
       "      <td>5</td>\n",
       "      <td>2</td>\n",
       "      <td>2</td>\n",
       "      <td>16</td>\n",
       "      <td>15</td>\n",
       "      <td>5</td>\n",
       "    </tr>\n",
       "    <tr>\n",
       "      <th>2421</th>\n",
       "      <td>3</td>\n",
       "      <td>1</td>\n",
       "      <td>17</td>\n",
       "      <td>0</td>\n",
       "      <td>1</td>\n",
       "      <td>11</td>\n",
       "      <td>14</td>\n",
       "      <td>2</td>\n",
       "      <td>0</td>\n",
       "      <td>2</td>\n",
       "      <td>16</td>\n",
       "      <td>13</td>\n",
       "      <td>3</td>\n",
       "    </tr>\n",
       "    <tr>\n",
       "      <th>8880</th>\n",
       "      <td>0</td>\n",
       "      <td>1</td>\n",
       "      <td>17</td>\n",
       "      <td>0</td>\n",
       "      <td>1</td>\n",
       "      <td>11</td>\n",
       "      <td>14</td>\n",
       "      <td>5</td>\n",
       "      <td>11</td>\n",
       "      <td>2</td>\n",
       "      <td>16</td>\n",
       "      <td>15</td>\n",
       "      <td>19</td>\n",
       "    </tr>\n",
       "  </tbody>\n",
       "</table>\n",
       "</div>"
      ],
      "text/plain": [
       "       estado_civil  estatus_migratorio  edad  sexo  genero  nacionalidad  \\\n",
       "480               3                   3    13     0       1            11   \n",
       "22339             0                   3    22     0       1            11   \n",
       "9523              3                   3    13     0       1            11   \n",
       "2421              3                   1    17     0       1            11   \n",
       "8880              0                   1    17     0       1            11   \n",
       "\n",
       "       autoidentificacion_etnica  nivel_de_instruccion  movilizacion  \\\n",
       "480                           14                     5            11   \n",
       "22339                         14                     0             0   \n",
       "9523                          14                     5             2   \n",
       "2421                          14                     2             0   \n",
       "8880                          14                     5            11   \n",
       "\n",
       "       tipo_arma  arma  tipo_lugar  nombre_provincia  \n",
       "480            2    16          15                20  \n",
       "22339          2    16           7                13  \n",
       "9523           2    16          15                 5  \n",
       "2421           2    16          13                 3  \n",
       "8880           2    16          15                19  "
      ]
     },
     "execution_count": 29,
     "metadata": {},
     "output_type": "execute_result"
    }
   ],
   "source": [
    "X.sample(5)"
   ]
  },
  {
   "cell_type": "code",
   "execution_count": 30,
   "id": "77d41842",
   "metadata": {},
   "outputs": [
    {
     "name": "stdout",
     "output_type": "stream",
     "text": [
      "{'CASADO/A': 0, 'DIVORCIADO/A': 1, 'SE DESCONOCE': 2, 'SOLTERO/A': 3, 'UNIÓN DE HECHO': 4, 'VIUDO/A': 5}\n"
     ]
    }
   ],
   "source": [
    "# Example: print mapping for \"presunta_infraccion\"\n",
    "this_feature = \"estado_civil\"\n",
    "print(dict(zip(encoders[this_feature].classes_, \n",
    "               encoders[this_feature].transform(encoders[this_feature].classes_))))"
   ]
  },
  {
   "cell_type": "code",
   "execution_count": 31,
   "id": "a40a3349",
   "metadata": {},
   "outputs": [
    {
     "name": "stdout",
     "output_type": "stream",
     "text": [
      "{'CENTRO DE ADOLESCENTES INFRACTORES (CAI)': 0, 'CENTRO DE PRIVACIÓN PROVISIONAL DE LIBERTAD (CPPL)': 1, 'CENTRO DE REHABILITACIÓN SOCIAL (CRS)': 2, 'CENTROS DE DIVERSIÓN': 3, 'ENTIDADES FINANCIERAS': 4, 'ENTIDADES PUBLICAS': 5, 'INSTITUCIONES DE SALUD': 6, 'INSTITUCIONES EDUCATIVAS': 7, 'LUGARES QUE PRESTAN SERVICIOS': 8, 'ORGANISMOS INTERNACIONALES': 9, 'TRANSPORTE': 10, 'UNIDADES DE ASEGURAMIENTO TRANSITORIO (UAT)': 11, 'UNIDADES DE REACCIÓN Y EMERGENCIA': 12, 'VIVIENDA/ALOJAMIENTO': 13, 'ZONA DE INSPECCIÓN': 14, 'ÁREA DE ACCESO PÚBLICO': 15, 'ÁREA PRIVADA': 16, 'ÁREAS DEDICADAS AL COMERCIO': 17}\n"
     ]
    }
   ],
   "source": [
    "# Example: print mapping for \"presunta_infraccion\"\n",
    "this_feature = \"tipo_lugar\"\n",
    "print(dict(zip(encoders[this_feature].classes_, \n",
    "               encoders[this_feature].transform(encoders[this_feature].classes_))))"
   ]
  },
  {
   "cell_type": "code",
   "execution_count": 32,
   "id": "251a483c",
   "metadata": {},
   "outputs": [
    {
     "name": "stdout",
     "output_type": "stream",
     "text": [
      "{'AZUAY': 0, 'BOLÍVAR': 1, 'CARCHI': 2, 'CAÑAR': 3, 'CHIMBORAZO': 4, 'COTOPAXI': 5, 'EL ORO': 6, 'ESMERALDAS': 7, 'GALÁPAGOS': 8, 'GUAYAS': 9, 'IMBABURA': 10, 'LOJA': 11, 'LOS RÍOS': 12, 'MANABÍ': 13, 'MAR TERRITORIAL': 14, 'MORONA SANTIAGO': 15, 'NAPO': 16, 'ORELLANA': 17, 'PASTAZA': 18, 'PICHINCHA': 19, 'SANTA ELENA': 20, 'STO DGO DE LOS TSÁCHILAS': 21, 'SUCUMBÍOS': 22, 'TUNGURAHUA': 23, 'ZAMORA CHINCHIPE': 24}\n"
     ]
    }
   ],
   "source": [
    "# Example: print mapping for \"presunta_infraccion\"\n",
    "this_feature = \"nombre_provincia\"\n",
    "print(dict(zip(encoders[this_feature].classes_, \n",
    "               encoders[this_feature].transform(encoders[this_feature].classes_))))"
   ]
  },
  {
   "cell_type": "code",
   "execution_count": 33,
   "id": "42daae7b",
   "metadata": {},
   "outputs": [
    {
     "data": {
      "text/plain": [
       "{'APREHENDIDO': 0, 'DETENIDO': 1}"
      ]
     },
     "execution_count": 33,
     "metadata": {},
     "output_type": "execute_result"
    }
   ],
   "source": [
    "# Example: print mapping for \"presunta_infraccion\"\n",
    "this_feature = \"tipo\"\n",
    "tipo_dict = dict(zip(encoders[this_feature].classes_, \n",
    "               encoders[this_feature].transform(encoders[this_feature].classes_)))\n",
    "tipo_dict"
   ]
  },
  {
   "cell_type": "code",
   "execution_count": 34,
   "id": "58abcb40",
   "metadata": {},
   "outputs": [
    {
     "data": {
      "text/plain": [
       "{'BOLETAS': 0,\n",
       " 'DELITOS CONTRA EL DERECHO A LA PROPIEDAD': 1,\n",
       " 'DELITOS POR LA PRODUCCIÓN O TRÁFICO ILÍCITO DE SUSTANCIAS CATALOGADAS SUJETAS A FISCALIZACIÓN': 2,\n",
       " 'OTROS': 3}"
      ]
     },
     "execution_count": 34,
     "metadata": {},
     "output_type": "execute_result"
    }
   ],
   "source": [
    "# Example: print mapping for \"presunta_infraccion\"\n",
    "this_feature = \"presunta_infraccion\"\n",
    "presunta_infraccion_dict = dict(zip(encoders[this_feature].classes_, \n",
    "               encoders[this_feature].transform(encoders[this_feature].classes_)))\n",
    "presunta_infraccion_dict"
   ]
  },
  {
   "cell_type": "code",
   "execution_count": 35,
   "id": "67888c74",
   "metadata": {},
   "outputs": [],
   "source": [
    "# --- Train/test split\n",
    "X_train, X_test, y_tipo_train, y_tipo_test = train_test_split(X, y_tipo, test_size=0.2, random_state=42)\n",
    "X_train2, X_test2, y_infr_train, y_infr_test = train_test_split(X, y_infraccion, test_size=0.2, random_state=42)"
   ]
  },
  {
   "cell_type": "code",
   "execution_count": 36,
   "id": "7817680c",
   "metadata": {},
   "outputs": [
    {
     "data": {
      "text/plain": [
       "((33208, 13), (8302, 13), (33208,), (8302,))"
      ]
     },
     "execution_count": 36,
     "metadata": {},
     "output_type": "execute_result"
    }
   ],
   "source": [
    "X_train.shape, X_test.shape, y_tipo_train.shape, y_tipo_test.shape"
   ]
  },
  {
   "cell_type": "code",
   "execution_count": 37,
   "id": "3d579206",
   "metadata": {},
   "outputs": [
    {
     "name": "stdout",
     "output_type": "stream",
     "text": [
      "=== Tipo (Detained vs Apprehended) ===\n",
      "              precision    recall  f1-score   support\n",
      "\n",
      "           0       0.81      0.88      0.84      6274\n",
      "           1       0.50      0.37      0.42      2028\n",
      "\n",
      "    accuracy                           0.75      8302\n",
      "   macro avg       0.65      0.62      0.63      8302\n",
      "weighted avg       0.73      0.75      0.74      8302\n",
      "\n"
     ]
    }
   ],
   "source": [
    "# --- Model 1: tipo (binary)\n",
    "rf_tipo = RandomForestClassifier(n_estimators=200, random_state=42, class_weight=\"balanced\")\n",
    "rf_tipo.fit(X_train, y_tipo_train)\n",
    "y_tipo_pred = rf_tipo.predict(X_test)\n",
    "print(\"=== Tipo (Detained vs Apprehended) ===\")\n",
    "print(classification_report(y_tipo_test, y_tipo_pred))"
   ]
  },
  {
   "cell_type": "code",
   "execution_count": 39,
   "id": "ba050dca",
   "metadata": {},
   "outputs": [
    {
     "name": "stdout",
     "output_type": "stream",
     "text": [
      "=== Presunta Infracción (Crime Category) ===\n",
      "              precision    recall  f1-score   support\n",
      "\n",
      "           0       0.42      0.37      0.39      1302\n",
      "           1       0.40      0.30      0.34      1462\n",
      "           2       0.40      0.37      0.38      1223\n",
      "           3       0.64      0.73      0.68      4315\n",
      "\n",
      "    accuracy                           0.54      8302\n",
      "   macro avg       0.46      0.44      0.45      8302\n",
      "weighted avg       0.53      0.54      0.53      8302\n",
      "\n"
     ]
    }
   ],
   "source": [
    "# --- Model 2: presunta_infraccion (multiclass)\n",
    "rf_infr = RandomForestClassifier(n_estimators=200, random_state=42, class_weight=\"balanced\")\n",
    "rf_infr.fit(X_train2, y_infr_train)\n",
    "y_infr_pred = rf_infr.predict(X_test2)\n",
    "print(\"=== Presunta Infracción (Crime Category) ===\")\n",
    "print(classification_report(y_infr_test, y_infr_pred))"
   ]
  }
 ],
 "metadata": {
  "kernelspec": {
   "display_name": "tfmlenv",
   "language": "python",
   "name": "python3"
  },
  "language_info": {
   "codemirror_mode": {
    "name": "ipython",
    "version": 3
   },
   "file_extension": ".py",
   "mimetype": "text/x-python",
   "name": "python",
   "nbconvert_exporter": "python",
   "pygments_lexer": "ipython3",
   "version": "3.9.23"
  }
 },
 "nbformat": 4,
 "nbformat_minor": 5
}

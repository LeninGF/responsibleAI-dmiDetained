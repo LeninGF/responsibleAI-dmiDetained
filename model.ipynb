{
 "cells": [
  {
   "cell_type": "markdown",
   "id": "e2d00bab",
   "metadata": {},
   "source": [
    "# Modelo Machine Learning\n",
    "\n",
    "Este modelo tiene por objetivo predecir la variable `presunta_infraccion` y `tipo` dado un vector de características. Es decir, el problema es de clasificación, donde se busca encontrar un $\\psi:\\mathbb{R}^n \\to \\mathbb{R}^k$. Donde $n$ es el número de `features` y $k$, el número de clases y $X \\in \\mathbb{R}^n$"
   ]
  },
  {
   "cell_type": "code",
   "execution_count": 50,
   "id": "fd9d5081",
   "metadata": {},
   "outputs": [
    {
     "data": {
      "text/plain": [
       "(40976, 8)"
      ]
     },
     "execution_count": 50,
     "metadata": {},
     "output_type": "execute_result"
    }
   ],
   "source": [
    "import pandas as pd\n",
    "import numpy as np\n",
    "\n",
    "path_data = 'data/mdi_detenidos_2024_limpio.csv'\n",
    "df = pd.read_csv(path_data)\n",
    "df.shape"
   ]
  },
  {
   "cell_type": "code",
   "execution_count": 51,
   "id": "2f6c76a7",
   "metadata": {},
   "outputs": [
    {
     "data": {
      "text/html": [
       "<div>\n",
       "<style scoped>\n",
       "    .dataframe tbody tr th:only-of-type {\n",
       "        vertical-align: middle;\n",
       "    }\n",
       "\n",
       "    .dataframe tbody tr th {\n",
       "        vertical-align: top;\n",
       "    }\n",
       "\n",
       "    .dataframe thead th {\n",
       "        text-align: right;\n",
       "    }\n",
       "</style>\n",
       "<table border=\"1\" class=\"dataframe\">\n",
       "  <thead>\n",
       "    <tr style=\"text-align: right;\">\n",
       "      <th></th>\n",
       "      <th>tipo</th>\n",
       "      <th>estado_civil</th>\n",
       "      <th>edad</th>\n",
       "      <th>genero</th>\n",
       "      <th>tipo_lugar</th>\n",
       "      <th>codigo_provincia</th>\n",
       "      <th>nombre_provincia</th>\n",
       "      <th>presunta_infraccion</th>\n",
       "    </tr>\n",
       "  </thead>\n",
       "  <tbody>\n",
       "    <tr>\n",
       "      <th>0</th>\n",
       "      <td>APREHENDIDO</td>\n",
       "      <td>SOLTERO/A</td>\n",
       "      <td>19</td>\n",
       "      <td>MASCULINO</td>\n",
       "      <td>ÁREA DE ACCESO PÚBLICO</td>\n",
       "      <td>2</td>\n",
       "      <td>BOLÍVAR</td>\n",
       "      <td>OTROS</td>\n",
       "    </tr>\n",
       "    <tr>\n",
       "      <th>1</th>\n",
       "      <td>DETENIDO</td>\n",
       "      <td>CASADO/A</td>\n",
       "      <td>40</td>\n",
       "      <td>MASCULINO</td>\n",
       "      <td>ÁREA PRIVADA</td>\n",
       "      <td>15</td>\n",
       "      <td>NAPO</td>\n",
       "      <td>OTROS</td>\n",
       "    </tr>\n",
       "    <tr>\n",
       "      <th>2</th>\n",
       "      <td>APREHENDIDO</td>\n",
       "      <td>SOLTERO/A</td>\n",
       "      <td>36</td>\n",
       "      <td>FEMENINO</td>\n",
       "      <td>OTROS</td>\n",
       "      <td>17</td>\n",
       "      <td>PICHINCHA</td>\n",
       "      <td>OTROS</td>\n",
       "    </tr>\n",
       "    <tr>\n",
       "      <th>3</th>\n",
       "      <td>APREHENDIDO</td>\n",
       "      <td>SOLTERO/A</td>\n",
       "      <td>26</td>\n",
       "      <td>MASCULINO</td>\n",
       "      <td>ÁREA DE ACCESO PÚBLICO</td>\n",
       "      <td>17</td>\n",
       "      <td>PICHINCHA</td>\n",
       "      <td>DELITOS CONTRA EL DERECHO A LA PROPIEDAD</td>\n",
       "    </tr>\n",
       "    <tr>\n",
       "      <th>4</th>\n",
       "      <td>APREHENDIDO</td>\n",
       "      <td>DIVORCIADO/A</td>\n",
       "      <td>34</td>\n",
       "      <td>MASCULINO</td>\n",
       "      <td>ÁREA DE ACCESO PÚBLICO</td>\n",
       "      <td>1</td>\n",
       "      <td>AZUAY</td>\n",
       "      <td>OTROS</td>\n",
       "    </tr>\n",
       "  </tbody>\n",
       "</table>\n",
       "</div>"
      ],
      "text/plain": [
       "          tipo  estado_civil  edad     genero              tipo_lugar  \\\n",
       "0  APREHENDIDO     SOLTERO/A    19  MASCULINO  ÁREA DE ACCESO PÚBLICO   \n",
       "1     DETENIDO      CASADO/A    40  MASCULINO            ÁREA PRIVADA   \n",
       "2  APREHENDIDO     SOLTERO/A    36   FEMENINO                   OTROS   \n",
       "3  APREHENDIDO     SOLTERO/A    26  MASCULINO  ÁREA DE ACCESO PÚBLICO   \n",
       "4  APREHENDIDO  DIVORCIADO/A    34  MASCULINO  ÁREA DE ACCESO PÚBLICO   \n",
       "\n",
       "   codigo_provincia nombre_provincia                       presunta_infraccion  \n",
       "0                 2          BOLÍVAR                                     OTROS  \n",
       "1                15             NAPO                                     OTROS  \n",
       "2                17        PICHINCHA                                     OTROS  \n",
       "3                17        PICHINCHA  DELITOS CONTRA EL DERECHO A LA PROPIEDAD  \n",
       "4                 1            AZUAY                                     OTROS  "
      ]
     },
     "execution_count": 51,
     "metadata": {},
     "output_type": "execute_result"
    }
   ],
   "source": [
    "df.head()"
   ]
  },
  {
   "cell_type": "code",
   "execution_count": 52,
   "id": "e2d96b24",
   "metadata": {},
   "outputs": [
    {
     "data": {
      "text/plain": [
       "tipo                   object\n",
       "estado_civil           object\n",
       "edad                    int64\n",
       "genero                 object\n",
       "tipo_lugar             object\n",
       "codigo_provincia        int64\n",
       "nombre_provincia       object\n",
       "presunta_infraccion    object\n",
       "dtype: object"
      ]
     },
     "execution_count": 52,
     "metadata": {},
     "output_type": "execute_result"
    }
   ],
   "source": [
    "df.dtypes"
   ]
  },
  {
   "cell_type": "code",
   "execution_count": 53,
   "id": "e833db08",
   "metadata": {},
   "outputs": [
    {
     "data": {
      "image/png": "[encoded data removed]",
      "text/plain": [
       "<Figure size 600x400 with 1 Axes>"
      ]
     },
     "metadata": {},
     "output_type": "display_data"
    }
   ],
   "source": [
    "import matplotlib.pyplot as plt\n",
    "import seaborn as sns\n",
    "\n",
    "# --- Numeric correlation (Pearson)\n",
    "plt.figure(figsize=(6,4))\n",
    "sns.boxplot(x=\"tipo\", y=\"edad\", data=df)\n",
    "plt.title(\"Edad vs Tipo (Detained/Apprehended)\")\n",
    "plt.show()"
   ]
  },
  {
   "cell_type": "code",
   "execution_count": 54,
   "id": "3d89bf4b",
   "metadata": {},
   "outputs": [
    {
     "data": {
      "image/png": "[encoded data removed]",
      "text/plain": [
       "<Figure size 1200x400 with 1 Axes>"
      ]
     },
     "metadata": {},
     "output_type": "display_data"
    }
   ],
   "source": [
    "plt.figure(figsize=(12,4))\n",
    "sns.boxplot(x=\"presunta_infraccion\", y=\"edad\", data=df)\n",
    "plt.xticks(rotation=90)\n",
    "plt.title(\"Edad vs Presunta Infracción\")\n",
    "plt.show()"
   ]
  },
  {
   "cell_type": "code",
   "execution_count": 55,
   "id": "561d8101",
   "metadata": {},
   "outputs": [
    {
     "name": "stdout",
     "output_type": "stream",
     "text": [
      "estado_civil vs tipo (Cramér's V): 0.191\n",
      "estado_civil vs presunta_infraccion (Cramér's V): 0.154\n",
      "genero vs tipo (Cramér's V): 0.033\n",
      "genero vs presunta_infraccion (Cramér's V): 0.056\n",
      "tipo_lugar vs tipo (Cramér's V): 0.156\n",
      "tipo_lugar vs presunta_infraccion (Cramér's V): 0.148\n",
      "nombre_provincia vs tipo (Cramér's V): 0.132\n",
      "nombre_provincia vs presunta_infraccion (Cramér's V): 0.151\n"
     ]
    }
   ],
   "source": [
    "from scipy.stats import chi2_contingency\n",
    "\n",
    "# --- Function for Cramér's V (categorical correlation)\n",
    "def cramers_v(x, y):\n",
    "    confusion_matrix = pd.crosstab(x, y)\n",
    "    chi2 = chi2_contingency(confusion_matrix)[0]\n",
    "    n = confusion_matrix.sum().sum()\n",
    "    r, k = confusion_matrix.shape\n",
    "    return np.sqrt((chi2/n) / (min(k-1, r-1)))\n",
    "\n",
    "# Compute categorical correlations with targets\n",
    "cat_cols = df.select_dtypes(include=['object']).columns\n",
    "for col in cat_cols:\n",
    "    if col not in [\"tipo\",\"presunta_infraccion\"]:\n",
    "        print(f\"{col} vs tipo (Cramér's V): {cramers_v(df[col], df['tipo']):.3f}\")\n",
    "        print(f\"{col} vs presunta_infraccion (Cramér's V): {cramers_v(df[col], df['presunta_infraccion']):.3f}\")"
   ]
  },
  {
   "cell_type": "code",
   "execution_count": 56,
   "id": "d48f91cf",
   "metadata": {},
   "outputs": [
    {
     "data": {
      "text/plain": [
       "(40976, 7)"
      ]
     },
     "execution_count": 56,
     "metadata": {},
     "output_type": "execute_result"
    }
   ],
   "source": [
    "df.drop(columns=[\"codigo_provincia\"], inplace=True)\n",
    "df.shape"
   ]
  },
  {
   "cell_type": "code",
   "execution_count": 57,
   "id": "8801593c",
   "metadata": {},
   "outputs": [
    {
     "data": {
      "text/plain": [
       "((40976, 5), (40976,), (40976,))"
      ]
     },
     "execution_count": 57,
     "metadata": {},
     "output_type": "execute_result"
    }
   ],
   "source": [
    "from sklearn.model_selection import train_test_split\n",
    "from sklearn.preprocessing import LabelEncoder\n",
    "from sklearn.ensemble import RandomForestClassifier\n",
    "from sklearn.metrics import classification_report\n",
    "\n",
    "# Encode categorical features\n",
    "df_encoded = df.copy()\n",
    "encoders = {}\n",
    "for col in df_encoded.select_dtypes(include=['object']).columns:\n",
    "    le = LabelEncoder()\n",
    "    df_encoded[col] = le.fit_transform(df_encoded[col])\n",
    "    encoders[col] = le\n",
    "\n",
    "\n",
    "# Features and targets\n",
    "X = df_encoded.drop([\"tipo\",\"presunta_infraccion\"], axis=1)\n",
    "\n",
    "y_tipo = df_encoded[\"tipo\"]\n",
    "y_infraccion = df_encoded[\"presunta_infraccion\"]\n",
    "\n",
    "X.shape, y_tipo.shape, y_infraccion.shape"
   ]
  },
  {
   "cell_type": "code",
   "execution_count": 58,
   "id": "7f26ffd7",
   "metadata": {},
   "outputs": [
    {
     "data": {
      "text/html": [
       "<div>\n",
       "<style scoped>\n",
       "    .dataframe tbody tr th:only-of-type {\n",
       "        vertical-align: middle;\n",
       "    }\n",
       "\n",
       "    .dataframe tbody tr th {\n",
       "        vertical-align: top;\n",
       "    }\n",
       "\n",
       "    .dataframe thead th {\n",
       "        text-align: right;\n",
       "    }\n",
       "</style>\n",
       "<table border=\"1\" class=\"dataframe\">\n",
       "  <thead>\n",
       "    <tr style=\"text-align: right;\">\n",
       "      <th></th>\n",
       "      <th>estado_civil</th>\n",
       "      <th>edad</th>\n",
       "      <th>genero</th>\n",
       "      <th>tipo_lugar</th>\n",
       "      <th>nombre_provincia</th>\n",
       "    </tr>\n",
       "  </thead>\n",
       "  <tbody>\n",
       "    <tr>\n",
       "      <th>33423</th>\n",
       "      <td>3</td>\n",
       "      <td>40</td>\n",
       "      <td>1</td>\n",
       "      <td>2</td>\n",
       "      <td>15</td>\n",
       "    </tr>\n",
       "    <tr>\n",
       "      <th>928</th>\n",
       "      <td>3</td>\n",
       "      <td>24</td>\n",
       "      <td>1</td>\n",
       "      <td>0</td>\n",
       "      <td>13</td>\n",
       "    </tr>\n",
       "    <tr>\n",
       "      <th>14828</th>\n",
       "      <td>3</td>\n",
       "      <td>36</td>\n",
       "      <td>1</td>\n",
       "      <td>3</td>\n",
       "      <td>9</td>\n",
       "    </tr>\n",
       "    <tr>\n",
       "      <th>8192</th>\n",
       "      <td>0</td>\n",
       "      <td>30</td>\n",
       "      <td>1</td>\n",
       "      <td>2</td>\n",
       "      <td>19</td>\n",
       "    </tr>\n",
       "    <tr>\n",
       "      <th>3584</th>\n",
       "      <td>1</td>\n",
       "      <td>32</td>\n",
       "      <td>1</td>\n",
       "      <td>2</td>\n",
       "      <td>2</td>\n",
       "    </tr>\n",
       "  </tbody>\n",
       "</table>\n",
       "</div>"
      ],
      "text/plain": [
       "       estado_civil  edad  genero  tipo_lugar  nombre_provincia\n",
       "33423             3    40       1           2                15\n",
       "928               3    24       1           0                13\n",
       "14828             3    36       1           3                 9\n",
       "8192              0    30       1           2                19\n",
       "3584              1    32       1           2                 2"
      ]
     },
     "execution_count": 58,
     "metadata": {},
     "output_type": "execute_result"
    }
   ],
   "source": [
    "X.sample(5)"
   ]
  },
  {
   "cell_type": "code",
   "execution_count": 59,
   "id": "77d41842",
   "metadata": {},
   "outputs": [
    {
     "name": "stdout",
     "output_type": "stream",
     "text": [
      "{'CASADO/A': 0, 'DIVORCIADO/A': 1, 'SE DESCONOCE': 2, 'SOLTERO/A': 3, 'UNIÓN DE HECHO': 4, 'VIUDO/A': 5}\n"
     ]
    }
   ],
   "source": [
    "# Example: print mapping for \"presunta_infraccion\"\n",
    "this_feature = \"estado_civil\"\n",
    "print(dict(zip(encoders[this_feature].classes_, \n",
    "               encoders[this_feature].transform(encoders[this_feature].classes_))))"
   ]
  },
  {
   "cell_type": "code",
   "execution_count": 60,
   "id": "a40a3349",
   "metadata": {},
   "outputs": [
    {
     "name": "stdout",
     "output_type": "stream",
     "text": [
      "{'OTROS': 0, 'VIVIENDA/ALOJAMIENTO': 1, 'ÁREA DE ACCESO PÚBLICO': 2, 'ÁREA PRIVADA': 3}\n"
     ]
    }
   ],
   "source": [
    "# Example: print mapping for \"presunta_infraccion\"\n",
    "this_feature = \"tipo_lugar\"\n",
    "print(dict(zip(encoders[this_feature].classes_, \n",
    "               encoders[this_feature].transform(encoders[this_feature].classes_))))"
   ]
  },
  {
   "cell_type": "code",
   "execution_count": 61,
   "id": "251a483c",
   "metadata": {},
   "outputs": [
    {
     "name": "stdout",
     "output_type": "stream",
     "text": [
      "{'AZUAY': 0, 'BOLÍVAR': 1, 'CARCHI': 2, 'CAÑAR': 3, 'CHIMBORAZO': 4, 'COTOPAXI': 5, 'EL ORO': 6, 'ESMERALDAS': 7, 'GALÁPAGOS': 8, 'GUAYAS': 9, 'IMBABURA': 10, 'LOJA': 11, 'LOS RÍOS': 12, 'MANABÍ': 13, 'MAR TERRITORIAL': 14, 'MORONA SANTIAGO': 15, 'NAPO': 16, 'ORELLANA': 17, 'PASTAZA': 18, 'PICHINCHA': 19, 'SANTA ELENA': 20, 'STO DGO DE LOS TSÁCHILAS': 21, 'SUCUMBÍOS': 22, 'TUNGURAHUA': 23, 'ZAMORA CHINCHIPE': 24}\n"
     ]
    }
   ],
   "source": [
    "# Example: print mapping for \"presunta_infraccion\"\n",
    "this_feature = \"nombre_provincia\"\n",
    "print(dict(zip(encoders[this_feature].classes_, \n",
    "               encoders[this_feature].transform(encoders[this_feature].classes_))))"
   ]
  },
  {
   "cell_type": "code",
   "execution_count": 62,
   "id": "42daae7b",
   "metadata": {},
   "outputs": [
    {
     "data": {
      "text/plain": [
       "{'APREHENDIDO': 0, 'DETENIDO': 1}"
      ]
     },
     "execution_count": 62,
     "metadata": {},
     "output_type": "execute_result"
    }
   ],
   "source": [
    "# Example: print mapping for \"presunta_infraccion\"\n",
    "this_feature = \"tipo\"\n",
    "tipo_dict = dict(zip(encoders[this_feature].classes_, \n",
    "               encoders[this_feature].transform(encoders[this_feature].classes_)))\n",
    "tipo_dict"
   ]
  },
  {
   "cell_type": "code",
   "execution_count": 63,
   "id": "58abcb40",
   "metadata": {},
   "outputs": [
    {
     "data": {
      "text/plain": [
       "{'BOLETAS': 0, 'DELITOS CONTRA EL DERECHO A LA PROPIEDAD': 1, 'OTROS': 2}"
      ]
     },
     "execution_count": 63,
     "metadata": {},
     "output_type": "execute_result"
    }
   ],
   "source": [
    "# Example: print mapping for \"presunta_infraccion\"\n",
    "this_feature = \"presunta_infraccion\"\n",
    "presunta_infraccion_dict = dict(zip(encoders[this_feature].classes_, \n",
    "               encoders[this_feature].transform(encoders[this_feature].classes_)))\n",
    "presunta_infraccion_dict"
   ]
  },
  {
   "cell_type": "code",
   "execution_count": 64,
   "id": "67888c74",
   "metadata": {},
   "outputs": [],
   "source": [
    "# --- Train/test split\n",
    "X_train, X_test, y_tipo_train, y_tipo_test = train_test_split(X, y_tipo, test_size=0.2, random_state=42)\n",
    "X_train2, X_test2, y_infr_train, y_infr_test = train_test_split(X, y_infraccion, test_size=0.2, random_state=42)"
   ]
  },
  {
   "cell_type": "code",
   "execution_count": 65,
   "id": "7817680c",
   "metadata": {},
   "outputs": [
    {
     "data": {
      "text/plain": [
       "((32780, 5), (8196, 5), (32780,), (8196,))"
      ]
     },
     "execution_count": 65,
     "metadata": {},
     "output_type": "execute_result"
    }
   ],
   "source": [
    "X_train.shape, X_test.shape, y_tipo_train.shape, y_tipo_test.shape"
   ]
  },
  {
   "cell_type": "code",
   "execution_count": 66,
   "id": "3d579206",
   "metadata": {},
   "outputs": [
    {
     "name": "stdout",
     "output_type": "stream",
     "text": [
      "=== Tipo (Detained vs Apprehended) ===\n",
      "              precision    recall  f1-score   support\n",
      "\n",
      "           0       0.82      0.70      0.76      6215\n",
      "           1       0.36      0.52      0.42      1981\n",
      "\n",
      "    accuracy                           0.66      8196\n",
      "   macro avg       0.59      0.61      0.59      8196\n",
      "weighted avg       0.71      0.66      0.68      8196\n",
      "\n"
     ]
    }
   ],
   "source": [
    "# --- Model 1: tipo (binary)\n",
    "rf_tipo = RandomForestClassifier(n_estimators=200, random_state=42, class_weight=\"balanced\")\n",
    "rf_tipo.fit(X_train, y_tipo_train)\n",
    "y_tipo_pred = rf_tipo.predict(X_test)\n",
    "print(\"=== Tipo (Detained vs Apprehended) ===\")\n",
    "print(classification_report(y_tipo_test, y_tipo_pred))"
   ]
  },
  {
   "cell_type": "code",
   "execution_count": 67,
   "id": "ba050dca",
   "metadata": {},
   "outputs": [
    {
     "name": "stdout",
     "output_type": "stream",
     "text": [
      "=== Presunta Infracción (Crime Category) ===\n",
      "              precision    recall  f1-score   support\n",
      "\n",
      "           0       0.27      0.48      0.35      1211\n",
      "           1       0.27      0.42      0.33      1417\n",
      "           2       0.77      0.53      0.63      5568\n",
      "\n",
      "    accuracy                           0.51      8196\n",
      "   macro avg       0.44      0.48      0.44      8196\n",
      "weighted avg       0.61      0.51      0.54      8196\n",
      "\n"
     ]
    }
   ],
   "source": [
    "# --- Model 2: presunta_infraccion (multiclass)\n",
    "rf_infr = RandomForestClassifier(n_estimators=20, random_state=42, class_weight=\"balanced\")\n",
    "rf_infr.fit(X_train2, y_infr_train)\n",
    "y_infr_pred = rf_infr.predict(X_test2)\n",
    "print(\"=== Presunta Infracción (Crime Category) ===\")\n",
    "print(classification_report(y_infr_test, y_infr_pred))"
   ]
  }
 ],
 "metadata": {
  "kernelspec": {
   "display_name": "tfmlenv",
   "language": "python",
   "name": "python3"
  },
  "language_info": {
   "codemirror_mode": {
    "name": "ipython",
    "version": 3
   },
   "file_extension": ".py",
   "mimetype": "text/x-python",
   "name": "python",
   "nbconvert_exporter": "python",
   "pygments_lexer": "ipython3",
   "version": "3.9.23"
  }
 },
 "nbformat": 4,
 "nbformat_minor": 5
}

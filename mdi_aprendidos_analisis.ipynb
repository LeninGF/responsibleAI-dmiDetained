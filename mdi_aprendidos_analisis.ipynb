{
 "cells": [
  {
   "cell_type": "markdown",
   "id": "9de694eb",
   "metadata": {},
   "source": [
    "# Dataset Ministerio del Interior Aprendidos y Detenidos Ecuador\n",
    "\n",
    "## Integrantes\n",
    "\n",
    "- Silvana Báez\n",
    "- Gabriel Cisneros\n",
    "- Lenin Falconí\n",
    "- Jorge Miño\n",
    "- Mario Moreno\n",
    "- Jonathan Zea\n",
    "\n",
    "## Objetivo:\n",
    "\n",
    "- Analizar el dataset, sus características y valores\n",
    "- Realizar una limpieza del dataset\n",
    "- Disminuir el sesgo en el dataset"
   ]
  },
  {
   "cell_type": "markdown",
   "id": "35f9b10c",
   "metadata": {},
   "source": [
    "## Lectura del Dataset"
   ]
  },
  {
   "cell_type": "code",
   "execution_count": 13,
   "id": "032c6f8e",
   "metadata": {},
   "outputs": [
    {
     "data": {
      "text/plain": [
       "(489847, 35)"
      ]
     },
     "execution_count": 13,
     "metadata": {},
     "output_type": "execute_result"
    }
   ],
   "source": [
    "import os\n",
    "import pandas as pd\n",
    "\n",
    "data_path = os.path.join(os.getcwd(), 'data/mdi_detenidos-aprehendidos_pm_2019_2024.xlsx')\n",
    "df = pd.read_excel(data_path, sheet_name='1')\n",
    "df.shape"
   ]
  },
  {
   "cell_type": "markdown",
   "id": "17e4d1c5",
   "metadata": {},
   "source": [
    "El dataset original contiene 489847 filas y 35 columnas. A continuación, se presentan las primeras 5 filas"
   ]
  },
  {
   "cell_type": "code",
   "execution_count": 14,
   "id": "9868aef1",
   "metadata": {},
   "outputs": [
    {
     "data": {
      "text/html": [
       "<div>\n",
       "<style scoped>\n",
       "    .dataframe tbody tr th:only-of-type {\n",
       "        vertical-align: middle;\n",
       "    }\n",
       "\n",
       "    .dataframe tbody tr th {\n",
       "        vertical-align: top;\n",
       "    }\n",
       "\n",
       "    .dataframe thead th {\n",
       "        text-align: right;\n",
       "    }\n",
       "</style>\n",
       "<table border=\"1\" class=\"dataframe\">\n",
       "  <thead>\n",
       "    <tr style=\"text-align: right;\">\n",
       "      <th></th>\n",
       "      <th>codigo_iccs</th>\n",
       "      <th>tipo</th>\n",
       "      <th>estado_civil</th>\n",
       "      <th>estatus_migratorio</th>\n",
       "      <th>edad</th>\n",
       "      <th>sexo</th>\n",
       "      <th>genero</th>\n",
       "      <th>nacionalidad</th>\n",
       "      <th>autoidentificacion_etnica</th>\n",
       "      <th>nivel_de_instruccion</th>\n",
       "      <th>...</th>\n",
       "      <th>codigo_parroquia</th>\n",
       "      <th>nombre_distrito</th>\n",
       "      <th>nombre_circuito</th>\n",
       "      <th>nombre_subcircuito</th>\n",
       "      <th>nombre_provincia</th>\n",
       "      <th>nombre_canton</th>\n",
       "      <th>nombre_parroquia</th>\n",
       "      <th>presunta_infraccion</th>\n",
       "      <th>latitud</th>\n",
       "      <th>longitud</th>\n",
       "    </tr>\n",
       "  </thead>\n",
       "  <tbody>\n",
       "    <tr>\n",
       "      <th>0</th>\n",
       "      <td>SIN_DATO</td>\n",
       "      <td>DETENIDO</td>\n",
       "      <td>SOLTERO/A</td>\n",
       "      <td>SE DESCONOCE</td>\n",
       "      <td>50</td>\n",
       "      <td>HOMBRE</td>\n",
       "      <td>MASCULINO</td>\n",
       "      <td>ECUATORIANO</td>\n",
       "      <td>AFROECUATORIANO/A AFRODESCENDIENTE</td>\n",
       "      <td>SE DESCONOCE</td>\n",
       "      <td>...</td>\n",
       "      <td>'000000</td>\n",
       "      <td>MAR TERRITORIAL</td>\n",
       "      <td>MAR TERRITORIAL</td>\n",
       "      <td>MAR TERRITORIAL</td>\n",
       "      <td>MAR TERRITORIAL</td>\n",
       "      <td>MAR TERRITORIAL</td>\n",
       "      <td>MAR TERRITORIAL</td>\n",
       "      <td>BOLETAS</td>\n",
       "      <td>'0.94804252190900884</td>\n",
       "      <td>'-79.6480999768429001</td>\n",
       "    </tr>\n",
       "    <tr>\n",
       "      <th>1</th>\n",
       "      <td>010102.04</td>\n",
       "      <td>DETENIDO</td>\n",
       "      <td>SOLTERO/A</td>\n",
       "      <td>SE DESCONOCE</td>\n",
       "      <td>47</td>\n",
       "      <td>HOMBRE</td>\n",
       "      <td>MASCULINO</td>\n",
       "      <td>ECUATORIANO</td>\n",
       "      <td>AFROECUATORIANO/A AFRODESCENDIENTE</td>\n",
       "      <td>NO APLICA</td>\n",
       "      <td>...</td>\n",
       "      <td>'000000</td>\n",
       "      <td>MAR TERRITORIAL</td>\n",
       "      <td>MAR TERRITORIAL</td>\n",
       "      <td>MAR TERRITORIAL</td>\n",
       "      <td>MAR TERRITORIAL</td>\n",
       "      <td>MAR TERRITORIAL</td>\n",
       "      <td>MAR TERRITORIAL</td>\n",
       "      <td>DELITOS CONTRA LA INTEGRIDAD SEXUAL Y REPRODUC...</td>\n",
       "      <td>'0.981916698618488071</td>\n",
       "      <td>'-79.6465283632278584</td>\n",
       "    </tr>\n",
       "    <tr>\n",
       "      <th>2</th>\n",
       "      <td>4011</td>\n",
       "      <td>APREHENDIDO</td>\n",
       "      <td>SOLTERO/A</td>\n",
       "      <td>NO APLICA</td>\n",
       "      <td>20</td>\n",
       "      <td>HOMBRE</td>\n",
       "      <td>MASCULINO</td>\n",
       "      <td>ECUATORIANO</td>\n",
       "      <td>MESTIZO/A</td>\n",
       "      <td>NO APLICA</td>\n",
       "      <td>...</td>\n",
       "      <td>'000000</td>\n",
       "      <td>MAR TERRITORIAL</td>\n",
       "      <td>MAR TERRITORIAL</td>\n",
       "      <td>MAR TERRITORIAL</td>\n",
       "      <td>MAR TERRITORIAL</td>\n",
       "      <td>MAR TERRITORIAL</td>\n",
       "      <td>MAR TERRITORIAL</td>\n",
       "      <td>DELITOS CONTRA EL DERECHO A LA PROPIEDAD</td>\n",
       "      <td>'-2.22342217152850585</td>\n",
       "      <td>'-79.9236059188842916</td>\n",
       "    </tr>\n",
       "    <tr>\n",
       "      <th>3</th>\n",
       "      <td>020721.02</td>\n",
       "      <td>APREHENDIDO</td>\n",
       "      <td>SOLTERO/A</td>\n",
       "      <td>SE DESCONOCE</td>\n",
       "      <td>31</td>\n",
       "      <td>HOMBRE</td>\n",
       "      <td>NO APLICA</td>\n",
       "      <td>ECUATORIANO</td>\n",
       "      <td>MESTIZO/A</td>\n",
       "      <td>SE DESCONOCE</td>\n",
       "      <td>...</td>\n",
       "      <td>'030450</td>\n",
       "      <td>LA TRONCAL</td>\n",
       "      <td>TRONCAL CENTRO</td>\n",
       "      <td>TRONCAL CENTRO 1</td>\n",
       "      <td>CAÑAR</td>\n",
       "      <td>LA TRONCAL</td>\n",
       "      <td>LA TRONCAL</td>\n",
       "      <td>CONTRAVENCIONES DE TRÁNSITO</td>\n",
       "      <td>'-2.46668633783548952</td>\n",
       "      <td>'-79.2915152305547366</td>\n",
       "    </tr>\n",
       "    <tr>\n",
       "      <th>4</th>\n",
       "      <td>4011</td>\n",
       "      <td>APREHENDIDO</td>\n",
       "      <td>SOLTERO/A</td>\n",
       "      <td>NO APLICA</td>\n",
       "      <td>27</td>\n",
       "      <td>HOMBRE</td>\n",
       "      <td>MASCULINO</td>\n",
       "      <td>ECUATORIANO</td>\n",
       "      <td>MESTIZO/A</td>\n",
       "      <td>NO APLICA</td>\n",
       "      <td>...</td>\n",
       "      <td>'000000</td>\n",
       "      <td>MAR TERRITORIAL</td>\n",
       "      <td>MAR TERRITORIAL</td>\n",
       "      <td>MAR TERRITORIAL</td>\n",
       "      <td>MAR TERRITORIAL</td>\n",
       "      <td>MAR TERRITORIAL</td>\n",
       "      <td>MAR TERRITORIAL</td>\n",
       "      <td>DELITOS CONTRA EL DERECHO A LA PROPIEDAD</td>\n",
       "      <td>'-2.22342217152850585</td>\n",
       "      <td>'-79.9236059188842916</td>\n",
       "    </tr>\n",
       "  </tbody>\n",
       "</table>\n",
       "<p>5 rows × 35 columns</p>\n",
       "</div>"
      ],
      "text/plain": [
       "  codigo_iccs         tipo estado_civil estatus_migratorio edad    sexo  \\\n",
       "0    SIN_DATO     DETENIDO    SOLTERO/A       SE DESCONOCE   50  HOMBRE   \n",
       "1   010102.04     DETENIDO    SOLTERO/A       SE DESCONOCE   47  HOMBRE   \n",
       "2        4011  APREHENDIDO    SOLTERO/A          NO APLICA   20  HOMBRE   \n",
       "3   020721.02  APREHENDIDO    SOLTERO/A       SE DESCONOCE   31  HOMBRE   \n",
       "4        4011  APREHENDIDO    SOLTERO/A          NO APLICA   27  HOMBRE   \n",
       "\n",
       "      genero nacionalidad           autoidentificacion_etnica  \\\n",
       "0  MASCULINO  ECUATORIANO  AFROECUATORIANO/A AFRODESCENDIENTE   \n",
       "1  MASCULINO  ECUATORIANO  AFROECUATORIANO/A AFRODESCENDIENTE   \n",
       "2  MASCULINO  ECUATORIANO                           MESTIZO/A   \n",
       "3  NO APLICA  ECUATORIANO                           MESTIZO/A   \n",
       "4  MASCULINO  ECUATORIANO                           MESTIZO/A   \n",
       "\n",
       "  nivel_de_instruccion  ... codigo_parroquia  nombre_distrito  \\\n",
       "0         SE DESCONOCE  ...          '000000  MAR TERRITORIAL   \n",
       "1            NO APLICA  ...          '000000  MAR TERRITORIAL   \n",
       "2            NO APLICA  ...          '000000  MAR TERRITORIAL   \n",
       "3         SE DESCONOCE  ...          '030450       LA TRONCAL   \n",
       "4            NO APLICA  ...          '000000  MAR TERRITORIAL   \n",
       "\n",
       "   nombre_circuito nombre_subcircuito nombre_provincia    nombre_canton  \\\n",
       "0  MAR TERRITORIAL    MAR TERRITORIAL  MAR TERRITORIAL  MAR TERRITORIAL   \n",
       "1  MAR TERRITORIAL    MAR TERRITORIAL  MAR TERRITORIAL  MAR TERRITORIAL   \n",
       "2  MAR TERRITORIAL    MAR TERRITORIAL  MAR TERRITORIAL  MAR TERRITORIAL   \n",
       "3   TRONCAL CENTRO   TRONCAL CENTRO 1            CAÑAR       LA TRONCAL   \n",
       "4  MAR TERRITORIAL    MAR TERRITORIAL  MAR TERRITORIAL  MAR TERRITORIAL   \n",
       "\n",
       "  nombre_parroquia                                presunta_infraccion  \\\n",
       "0  MAR TERRITORIAL                                            BOLETAS   \n",
       "1  MAR TERRITORIAL  DELITOS CONTRA LA INTEGRIDAD SEXUAL Y REPRODUC...   \n",
       "2  MAR TERRITORIAL           DELITOS CONTRA EL DERECHO A LA PROPIEDAD   \n",
       "3       LA TRONCAL                        CONTRAVENCIONES DE TRÁNSITO   \n",
       "4  MAR TERRITORIAL           DELITOS CONTRA EL DERECHO A LA PROPIEDAD   \n",
       "\n",
       "                 latitud               longitud  \n",
       "0   '0.94804252190900884  '-79.6480999768429001  \n",
       "1  '0.981916698618488071  '-79.6465283632278584  \n",
       "2  '-2.22342217152850585  '-79.9236059188842916  \n",
       "3  '-2.46668633783548952  '-79.2915152305547366  \n",
       "4  '-2.22342217152850585  '-79.9236059188842916  \n",
       "\n",
       "[5 rows x 35 columns]"
      ]
     },
     "execution_count": 14,
     "metadata": {},
     "output_type": "execute_result"
    }
   ],
   "source": [
    "df.head()"
   ]
  },
  {
   "cell_type": "markdown",
   "id": "148f761f",
   "metadata": {},
   "source": [
    "Se describe los valores más frecuentes presentes en el dataset"
   ]
  },
  {
   "cell_type": "code",
   "execution_count": 15,
   "id": "e03237ff",
   "metadata": {},
   "outputs": [
    {
     "data": {
      "text/html": [
       "<div>\n",
       "<style scoped>\n",
       "    .dataframe tbody tr th:only-of-type {\n",
       "        vertical-align: middle;\n",
       "    }\n",
       "\n",
       "    .dataframe tbody tr th {\n",
       "        vertical-align: top;\n",
       "    }\n",
       "\n",
       "    .dataframe thead th {\n",
       "        text-align: right;\n",
       "    }\n",
       "</style>\n",
       "<table border=\"1\" class=\"dataframe\">\n",
       "  <thead>\n",
       "    <tr style=\"text-align: right;\">\n",
       "      <th></th>\n",
       "      <th>count</th>\n",
       "      <th>unique</th>\n",
       "      <th>top</th>\n",
       "      <th>freq</th>\n",
       "    </tr>\n",
       "  </thead>\n",
       "  <tbody>\n",
       "    <tr>\n",
       "      <th>codigo_iccs</th>\n",
       "      <td>489847</td>\n",
       "      <td>233</td>\n",
       "      <td>SIN_DATO</td>\n",
       "      <td>174941</td>\n",
       "    </tr>\n",
       "    <tr>\n",
       "      <th>tipo</th>\n",
       "      <td>489847</td>\n",
       "      <td>2</td>\n",
       "      <td>APREHENDIDO</td>\n",
       "      <td>349555</td>\n",
       "    </tr>\n",
       "    <tr>\n",
       "      <th>estado_civil</th>\n",
       "      <td>489847</td>\n",
       "      <td>11</td>\n",
       "      <td>SOLTERO/A</td>\n",
       "      <td>333776</td>\n",
       "    </tr>\n",
       "    <tr>\n",
       "      <th>estatus_migratorio</th>\n",
       "      <td>489847</td>\n",
       "      <td>5</td>\n",
       "      <td>NO APLICA</td>\n",
       "      <td>195575</td>\n",
       "    </tr>\n",
       "    <tr>\n",
       "      <th>edad</th>\n",
       "      <td>489847</td>\n",
       "      <td>97</td>\n",
       "      <td>24</td>\n",
       "      <td>20758</td>\n",
       "    </tr>\n",
       "    <tr>\n",
       "      <th>sexo</th>\n",
       "      <td>489847</td>\n",
       "      <td>3</td>\n",
       "      <td>HOMBRE</td>\n",
       "      <td>439791</td>\n",
       "    </tr>\n",
       "    <tr>\n",
       "      <th>genero</th>\n",
       "      <td>489847</td>\n",
       "      <td>8</td>\n",
       "      <td>MASCULINO</td>\n",
       "      <td>349597</td>\n",
       "    </tr>\n",
       "    <tr>\n",
       "      <th>nacionalidad</th>\n",
       "      <td>489847</td>\n",
       "      <td>110</td>\n",
       "      <td>ECUATORIANO</td>\n",
       "      <td>459664</td>\n",
       "    </tr>\n",
       "    <tr>\n",
       "      <th>autoidentificacion_etnica</th>\n",
       "      <td>489847</td>\n",
       "      <td>41</td>\n",
       "      <td>MESTIZO/A</td>\n",
       "      <td>403351</td>\n",
       "    </tr>\n",
       "    <tr>\n",
       "      <th>nivel_de_instruccion</th>\n",
       "      <td>489847</td>\n",
       "      <td>18</td>\n",
       "      <td>SE DESCONOCE</td>\n",
       "      <td>144391</td>\n",
       "    </tr>\n",
       "    <tr>\n",
       "      <th>condicion</th>\n",
       "      <td>489847</td>\n",
       "      <td>9</td>\n",
       "      <td>NORMAL</td>\n",
       "      <td>343866</td>\n",
       "    </tr>\n",
       "    <tr>\n",
       "      <th>movilizacion</th>\n",
       "      <td>489847</td>\n",
       "      <td>14</td>\n",
       "      <td>A PIE</td>\n",
       "      <td>226601</td>\n",
       "    </tr>\n",
       "    <tr>\n",
       "      <th>tipo_arma</th>\n",
       "      <td>489847</td>\n",
       "      <td>4</td>\n",
       "      <td>NINGUNA</td>\n",
       "      <td>358849</td>\n",
       "    </tr>\n",
       "    <tr>\n",
       "      <th>arma</th>\n",
       "      <td>489847</td>\n",
       "      <td>33</td>\n",
       "      <td>NINGUNA</td>\n",
       "      <td>358758</td>\n",
       "    </tr>\n",
       "    <tr>\n",
       "      <th>fecha_detencion_aprehension</th>\n",
       "      <td>489847</td>\n",
       "      <td>2424</td>\n",
       "      <td>SIN_DATO</td>\n",
       "      <td>89335</td>\n",
       "    </tr>\n",
       "    <tr>\n",
       "      <th>hora_detencion_aprehension</th>\n",
       "      <td>489847</td>\n",
       "      <td>2642</td>\n",
       "      <td>SIN_DATO</td>\n",
       "      <td>89335</td>\n",
       "    </tr>\n",
       "    <tr>\n",
       "      <th>lugar</th>\n",
       "      <td>489847</td>\n",
       "      <td>244</td>\n",
       "      <td>VÍA PÚBLICA</td>\n",
       "      <td>300351</td>\n",
       "    </tr>\n",
       "    <tr>\n",
       "      <th>tipo_lugar</th>\n",
       "      <td>489847</td>\n",
       "      <td>111</td>\n",
       "      <td>ÁREA DE ACCESO PÚBLICO</td>\n",
       "      <td>315583</td>\n",
       "    </tr>\n",
       "    <tr>\n",
       "      <th>nombre_zona</th>\n",
       "      <td>489847</td>\n",
       "      <td>10</td>\n",
       "      <td>ZONA 8</td>\n",
       "      <td>82462</td>\n",
       "    </tr>\n",
       "    <tr>\n",
       "      <th>nombre_subzona</th>\n",
       "      <td>489847</td>\n",
       "      <td>27</td>\n",
       "      <td>D.M. GUAYAQUIL</td>\n",
       "      <td>82462</td>\n",
       "    </tr>\n",
       "    <tr>\n",
       "      <th>codigo_distrito</th>\n",
       "      <td>489847</td>\n",
       "      <td>141</td>\n",
       "      <td>17D05</td>\n",
       "      <td>15297</td>\n",
       "    </tr>\n",
       "    <tr>\n",
       "      <th>codigo_circuito</th>\n",
       "      <td>489847</td>\n",
       "      <td>1127</td>\n",
       "      <td>09D24C02</td>\n",
       "      <td>7002</td>\n",
       "    </tr>\n",
       "    <tr>\n",
       "      <th>codigo_subcircuito</th>\n",
       "      <td>489847</td>\n",
       "      <td>1861</td>\n",
       "      <td>09D24C02S01</td>\n",
       "      <td>2732</td>\n",
       "    </tr>\n",
       "    <tr>\n",
       "      <th>codigo_provincia</th>\n",
       "      <td>489847</td>\n",
       "      <td>25</td>\n",
       "      <td>'09</td>\n",
       "      <td>103626</td>\n",
       "    </tr>\n",
       "    <tr>\n",
       "      <th>codigo_canton</th>\n",
       "      <td>489847</td>\n",
       "      <td>222</td>\n",
       "      <td>'1701</td>\n",
       "      <td>68696</td>\n",
       "    </tr>\n",
       "    <tr>\n",
       "      <th>codigo_parroquia</th>\n",
       "      <td>489847</td>\n",
       "      <td>668</td>\n",
       "      <td>'090150</td>\n",
       "      <td>65890</td>\n",
       "    </tr>\n",
       "    <tr>\n",
       "      <th>nombre_distrito</th>\n",
       "      <td>489847</td>\n",
       "      <td>141</td>\n",
       "      <td>EUGENIO ESPEJO</td>\n",
       "      <td>15297</td>\n",
       "    </tr>\n",
       "    <tr>\n",
       "      <th>nombre_circuito</th>\n",
       "      <td>489847</td>\n",
       "      <td>1003</td>\n",
       "      <td>CENTRO</td>\n",
       "      <td>7844</td>\n",
       "    </tr>\n",
       "    <tr>\n",
       "      <th>nombre_subcircuito</th>\n",
       "      <td>489847</td>\n",
       "      <td>1710</td>\n",
       "      <td>CENTRO 1</td>\n",
       "      <td>3138</td>\n",
       "    </tr>\n",
       "    <tr>\n",
       "      <th>nombre_provincia</th>\n",
       "      <td>489847</td>\n",
       "      <td>25</td>\n",
       "      <td>GUAYAS</td>\n",
       "      <td>103626</td>\n",
       "    </tr>\n",
       "    <tr>\n",
       "      <th>nombre_canton</th>\n",
       "      <td>489847</td>\n",
       "      <td>220</td>\n",
       "      <td>QUITO</td>\n",
       "      <td>68696</td>\n",
       "    </tr>\n",
       "    <tr>\n",
       "      <th>nombre_parroquia</th>\n",
       "      <td>489847</td>\n",
       "      <td>742</td>\n",
       "      <td>ELOY ALFARO (DURAN)</td>\n",
       "      <td>13426</td>\n",
       "    </tr>\n",
       "    <tr>\n",
       "      <th>presunta_infraccion</th>\n",
       "      <td>489847</td>\n",
       "      <td>81</td>\n",
       "      <td>DELITOS CONTRA EL DERECHO A LA PROPIEDAD</td>\n",
       "      <td>86007</td>\n",
       "    </tr>\n",
       "    <tr>\n",
       "      <th>latitud</th>\n",
       "      <td>489847</td>\n",
       "      <td>385689</td>\n",
       "      <td>'0.773984800000000028</td>\n",
       "      <td>126</td>\n",
       "    </tr>\n",
       "    <tr>\n",
       "      <th>longitud</th>\n",
       "      <td>489847</td>\n",
       "      <td>369166</td>\n",
       "      <td>'-77.7389616938552024</td>\n",
       "      <td>126</td>\n",
       "    </tr>\n",
       "  </tbody>\n",
       "</table>\n",
       "</div>"
      ],
      "text/plain": [
       "                              count  unique  \\\n",
       "codigo_iccs                  489847     233   \n",
       "tipo                         489847       2   \n",
       "estado_civil                 489847      11   \n",
       "estatus_migratorio           489847       5   \n",
       "edad                         489847      97   \n",
       "sexo                         489847       3   \n",
       "genero                       489847       8   \n",
       "nacionalidad                 489847     110   \n",
       "autoidentificacion_etnica    489847      41   \n",
       "nivel_de_instruccion         489847      18   \n",
       "condicion                    489847       9   \n",
       "movilizacion                 489847      14   \n",
       "tipo_arma                    489847       4   \n",
       "arma                         489847      33   \n",
       "fecha_detencion_aprehension  489847    2424   \n",
       "hora_detencion_aprehension   489847    2642   \n",
       "lugar                        489847     244   \n",
       "tipo_lugar                   489847     111   \n",
       "nombre_zona                  489847      10   \n",
       "nombre_subzona               489847      27   \n",
       "codigo_distrito              489847     141   \n",
       "codigo_circuito              489847    1127   \n",
       "codigo_subcircuito           489847    1861   \n",
       "codigo_provincia             489847      25   \n",
       "codigo_canton                489847     222   \n",
       "codigo_parroquia             489847     668   \n",
       "nombre_distrito              489847     141   \n",
       "nombre_circuito              489847    1003   \n",
       "nombre_subcircuito           489847    1710   \n",
       "nombre_provincia             489847      25   \n",
       "nombre_canton                489847     220   \n",
       "nombre_parroquia             489847     742   \n",
       "presunta_infraccion          489847      81   \n",
       "latitud                      489847  385689   \n",
       "longitud                     489847  369166   \n",
       "\n",
       "                                                                  top    freq  \n",
       "codigo_iccs                                                  SIN_DATO  174941  \n",
       "tipo                                                      APREHENDIDO  349555  \n",
       "estado_civil                                                SOLTERO/A  333776  \n",
       "estatus_migratorio                                          NO APLICA  195575  \n",
       "edad                                                               24   20758  \n",
       "sexo                                                           HOMBRE  439791  \n",
       "genero                                                      MASCULINO  349597  \n",
       "nacionalidad                                              ECUATORIANO  459664  \n",
       "autoidentificacion_etnica                                   MESTIZO/A  403351  \n",
       "nivel_de_instruccion                                     SE DESCONOCE  144391  \n",
       "condicion                                                      NORMAL  343866  \n",
       "movilizacion                                                    A PIE  226601  \n",
       "tipo_arma                                                     NINGUNA  358849  \n",
       "arma                                                          NINGUNA  358758  \n",
       "fecha_detencion_aprehension                                  SIN_DATO   89335  \n",
       "hora_detencion_aprehension                                   SIN_DATO   89335  \n",
       "lugar                                                     VÍA PÚBLICA  300351  \n",
       "tipo_lugar                                     ÁREA DE ACCESO PÚBLICO  315583  \n",
       "nombre_zona                                                    ZONA 8   82462  \n",
       "nombre_subzona                                         D.M. GUAYAQUIL   82462  \n",
       "codigo_distrito                                                 17D05   15297  \n",
       "codigo_circuito                                              09D24C02    7002  \n",
       "codigo_subcircuito                                        09D24C02S01    2732  \n",
       "codigo_provincia                                                  '09  103626  \n",
       "codigo_canton                                                   '1701   68696  \n",
       "codigo_parroquia                                              '090150   65890  \n",
       "nombre_distrito                                        EUGENIO ESPEJO   15297  \n",
       "nombre_circuito                                                CENTRO    7844  \n",
       "nombre_subcircuito                                           CENTRO 1    3138  \n",
       "nombre_provincia                                               GUAYAS  103626  \n",
       "nombre_canton                                                   QUITO   68696  \n",
       "nombre_parroquia                                  ELOY ALFARO (DURAN)   13426  \n",
       "presunta_infraccion          DELITOS CONTRA EL DERECHO A LA PROPIEDAD   86007  \n",
       "latitud                                         '0.773984800000000028     126  \n",
       "longitud                                        '-77.7389616938552024     126  "
      ]
     },
     "execution_count": 15,
     "metadata": {},
     "output_type": "execute_result"
    }
   ],
   "source": [
    "df.describe().transpose()"
   ]
  },
  {
   "cell_type": "markdown",
   "id": "30257c08",
   "metadata": {},
   "source": [
    "El dataset original dispone de 81 distintas categorías de `presunta_infraccion`. Esta variable tiene que ver con el delito/infracción cometida por la persona"
   ]
  },
  {
   "cell_type": "code",
   "execution_count": 16,
   "id": "b3c48571",
   "metadata": {},
   "outputs": [
    {
     "data": {
      "text/plain": [
       "81"
      ]
     },
     "execution_count": 16,
     "metadata": {},
     "output_type": "execute_result"
    }
   ],
   "source": [
    "len(set(df['presunta_infraccion']))  # 1572"
   ]
  },
  {
   "cell_type": "markdown",
   "id": "0b5b9573",
   "metadata": {},
   "source": [
    "Top 5 de delitos presentes en el dataset completo"
   ]
  },
  {
   "cell_type": "code",
   "execution_count": 58,
   "id": "ab5f1c0c",
   "metadata": {},
   "outputs": [
    {
     "data": {
      "text/plain": [
       "presunta_infraccion\n",
       "DELITOS CONTRA EL DERECHO A LA PROPIEDAD                                                         86007\n",
       "BOLETAS                                                                                          74107\n",
       "DELITOS POR LA PRODUCCIÓN O TRÁFICO ILÍCITO DE SUSTANCIAS CATALOGADAS SUJETAS A FISCALIZACIÓN    68484\n",
       "CONTRAVENCIONES DE TRÁNSITO                                                                      41550\n",
       "CONTRAVENCIÓN DE VIOLENCIA CONTRA LA MUJER O MIEMBROS DEL NÚCLEO FAMILIAR                        28832\n",
       "Name: count, dtype: int64"
      ]
     },
     "execution_count": 58,
     "metadata": {},
     "output_type": "execute_result"
    }
   ],
   "source": [
    "df.presunta_infraccion.value_counts().sort_values(ascending=False).head(5)"
   ]
  },
  {
   "cell_type": "markdown",
   "id": "b4e43110",
   "metadata": {},
   "source": [
    "La variable `fecha_detencion_aprehension` contiene datos de distinta naturaleza (`str`, `date`). Por esta razón, se convierten todos los datos a formato `datetime` para poder hacer operaciones en el tiempo."
   ]
  },
  {
   "cell_type": "code",
   "execution_count": 17,
   "id": "f7dc726b",
   "metadata": {},
   "outputs": [
    {
     "data": {
      "text/plain": [
       "codigo_iccs                            object\n",
       "tipo                                   object\n",
       "estado_civil                           object\n",
       "estatus_migratorio                     object\n",
       "edad                                   object\n",
       "sexo                                   object\n",
       "genero                                 object\n",
       "nacionalidad                           object\n",
       "autoidentificacion_etnica              object\n",
       "nivel_de_instruccion                   object\n",
       "condicion                              object\n",
       "movilizacion                           object\n",
       "tipo_arma                              object\n",
       "arma                                   object\n",
       "fecha_detencion_aprehension    datetime64[ns]\n",
       "hora_detencion_aprehension             object\n",
       "lugar                                  object\n",
       "tipo_lugar                             object\n",
       "nombre_zona                            object\n",
       "nombre_subzona                         object\n",
       "codigo_distrito                        object\n",
       "codigo_circuito                        object\n",
       "codigo_subcircuito                     object\n",
       "codigo_provincia                       object\n",
       "codigo_canton                          object\n",
       "codigo_parroquia                       object\n",
       "nombre_distrito                        object\n",
       "nombre_circuito                        object\n",
       "nombre_subcircuito                     object\n",
       "nombre_provincia                       object\n",
       "nombre_canton                          object\n",
       "nombre_parroquia                       object\n",
       "presunta_infraccion                    object\n",
       "latitud                                object\n",
       "longitud                               object\n",
       "dtype: object"
      ]
     },
     "execution_count": 17,
     "metadata": {},
     "output_type": "execute_result"
    }
   ],
   "source": [
    "df['fecha_detencion_aprehension'] = df['fecha_detencion_aprehension'].apply(lambda x: pd.to_datetime(x, errors='coerce'))\n",
    "df.dtypes"
   ]
  },
  {
   "cell_type": "markdown",
   "id": "4a380240",
   "metadata": {},
   "source": [
    "La variable `tipo` contiene sólo dos categorías"
   ]
  },
  {
   "cell_type": "code",
   "execution_count": 18,
   "id": "f86698d6",
   "metadata": {},
   "outputs": [
    {
     "data": {
      "text/plain": [
       "tipo\n",
       "APREHENDIDO    349555\n",
       "DETENIDO       140292\n",
       "Name: count, dtype: int64"
      ]
     },
     "execution_count": 18,
     "metadata": {},
     "output_type": "execute_result"
    }
   ],
   "source": [
    "df.tipo.value_counts()"
   ]
  },
  {
   "cell_type": "markdown",
   "id": "dd19520d",
   "metadata": {},
   "source": [
    "Se observa que la cantidad de registros varía con el año. Además, el año 1970 hace referencia a registros cuya marca de tiempo es imprecisa, incorrecta o no existe"
   ]
  },
  {
   "cell_type": "code",
   "execution_count": 22,
   "id": "09f0df76",
   "metadata": {},
   "outputs": [
    {
     "data": {
      "text/plain": [
       "anio_detension_aprehension\n",
       "1970.0    357636\n",
       "2020.0       434\n",
       "2021.0       428\n",
       "2022.0       459\n",
       "2023.0        45\n",
       "2024.0     41510\n",
       "Name: count, dtype: int64"
      ]
     },
     "execution_count": 22,
     "metadata": {},
     "output_type": "execute_result"
    }
   ],
   "source": [
    "df['anio_detension_aprehension'] = df['fecha_detencion_aprehension'].dt.year\n",
    "df.anio_detension_aprehension.value_counts().sort_index()"
   ]
  },
  {
   "cell_type": "markdown",
   "id": "7d7f0c91",
   "metadata": {},
   "source": [
    "Dado que el año 2024 presenta la segunda mayor cantidad de registros, se lo toma como base para el análisis posterior (i.e.) se descarta los demás años debido a las frecuencias no comparables y no explicadas por el *Ministerio del Interior*"
   ]
  },
  {
   "cell_type": "code",
   "execution_count": 23,
   "id": "c807cbdd",
   "metadata": {},
   "outputs": [
    {
     "data": {
      "text/plain": [
       "(41510, 36)"
      ]
     },
     "execution_count": 23,
     "metadata": {},
     "output_type": "execute_result"
    }
   ],
   "source": [
    "df_2024 = df[df['anio_detension_aprehension'] == 2024]\n",
    "df_2024.shape"
   ]
  },
  {
   "cell_type": "code",
   "execution_count": 25,
   "id": "08846542",
   "metadata": {},
   "outputs": [
    {
     "data": {
      "text/plain": [
       "Index(['codigo_iccs', 'tipo', 'estado_civil', 'estatus_migratorio', 'edad',\n",
       "       'sexo', 'genero', 'nacionalidad', 'autoidentificacion_etnica',\n",
       "       'nivel_de_instruccion', 'condicion', 'movilizacion', 'tipo_arma',\n",
       "       'arma', 'fecha_detencion_aprehension', 'hora_detencion_aprehension',\n",
       "       'lugar', 'tipo_lugar', 'nombre_zona', 'nombre_subzona',\n",
       "       'codigo_distrito', 'codigo_circuito', 'codigo_subcircuito',\n",
       "       'codigo_provincia', 'codigo_canton', 'codigo_parroquia',\n",
       "       'nombre_distrito', 'nombre_circuito', 'nombre_subcircuito',\n",
       "       'nombre_provincia', 'nombre_canton', 'nombre_parroquia',\n",
       "       'presunta_infraccion', 'latitud', 'longitud',\n",
       "       'anio_detension_aprehension'],\n",
       "      dtype='object')"
      ]
     },
     "execution_count": 25,
     "metadata": {},
     "output_type": "execute_result"
    }
   ],
   "source": [
    "df_2024.columns"
   ]
  },
  {
   "cell_type": "markdown",
   "id": "fd5c3ab6",
   "metadata": {},
   "source": [
    "## Análisis de varias columnas\n",
    "\n",
    "se procede a evaluar los valores registrados en varias variables de interés"
   ]
  },
  {
   "cell_type": "code",
   "execution_count": 28,
   "id": "5520c96b",
   "metadata": {},
   "outputs": [
    {
     "data": {
      "text/plain": [
       "estatus_migratorio\n",
       "NO APLICA       19666\n",
       "SE DESCONOCE    14338\n",
       "REGULAR          6919\n",
       "IRREGULAR         587\n",
       "Name: count, dtype: int64"
      ]
     },
     "execution_count": 28,
     "metadata": {},
     "output_type": "execute_result"
    }
   ],
   "source": [
    "df_2024.estatus_migratorio.value_counts()"
   ]
  },
  {
   "cell_type": "markdown",
   "id": "9a0e56f5",
   "metadata": {},
   "source": [
    "## Edad\n",
    "\n",
    "Se descartan los casos en que la edad no está definida (i.e. `SIN_DATO`)ya que su cantidad no es representativa para el tamaño del dataset"
   ]
  },
  {
   "cell_type": "code",
   "execution_count": 34,
   "id": "96d22767",
   "metadata": {},
   "outputs": [
    {
     "data": {
      "text/plain": [
       "(40976, 36)"
      ]
     },
     "execution_count": 34,
     "metadata": {},
     "output_type": "execute_result"
    }
   ],
   "source": [
    "# df_2024 = df_2024.drop(columns=['codigo_iccs', 'fecha', 'presunta_infraccion'])\n",
    "df_2024 = df_2024[df_2024['edad']!=\"SIN_DATO\"]\n",
    "df_2024.shape"
   ]
  },
  {
   "cell_type": "markdown",
   "id": "f9154f76",
   "metadata": {},
   "source": [
    "## Limpieza variable Genero\n",
    "\n",
    "Se observa que inicialmente la variable `genero` contiene el valor `NO APLICA`. Sin embargo, al correlacionar con la variable `sexo`, parece que los registradores utilizaron el valor `NO APLICA` cuando la persona definió su sexo como `HOMBRE` o `MUJER`. De ahí que esta variable se redefine consultando el valor del `sexo`"
   ]
  },
  {
   "cell_type": "code",
   "execution_count": 35,
   "id": "39ce77d7",
   "metadata": {},
   "outputs": [
    {
     "data": {
      "text/plain": [
       "genero\n",
       "MASCULINO          35470\n",
       "FEMENINO            4300\n",
       "NO APLICA           1144\n",
       "TRANS MASCULINO       29\n",
       "TRANS FEMENINA        17\n",
       "TRANSEXUAL            12\n",
       "NO BINARIO             4\n",
       "Name: count, dtype: int64"
      ]
     },
     "execution_count": 35,
     "metadata": {},
     "output_type": "execute_result"
    }
   ],
   "source": [
    "df_2024['genero'].value_counts()"
   ]
  },
  {
   "cell_type": "code",
   "execution_count": 36,
   "id": "db4fae91",
   "metadata": {},
   "outputs": [],
   "source": [
    "df_2024.loc[(df_2024['genero'] == 'NO APLICA') & (df_2024['sexo'] == 'HOMBRE'), 'genero'] = 'MASCULINO'\n",
    "df_2024.loc[(df_2024['genero'] == 'NO APLICA') & (df_2024['sexo'] == 'MUJER'), 'genero'] = 'FEMENINO'"
   ]
  },
  {
   "cell_type": "code",
   "execution_count": 37,
   "id": "6f110932",
   "metadata": {},
   "outputs": [
    {
     "data": {
      "text/plain": [
       "genero\n",
       "MASCULINO          36476\n",
       "FEMENINO            4438\n",
       "TRANS MASCULINO       29\n",
       "TRANS FEMENINA        17\n",
       "TRANSEXUAL            12\n",
       "NO BINARIO             4\n",
       "Name: count, dtype: int64"
      ]
     },
     "execution_count": 37,
     "metadata": {},
     "output_type": "execute_result"
    }
   ],
   "source": [
    "df_2024['genero'].value_counts()"
   ]
  },
  {
   "cell_type": "code",
   "execution_count": 38,
   "id": "99a18efe",
   "metadata": {},
   "outputs": [
    {
     "data": {
      "text/plain": [
       "estado_civil\n",
       "SOLTERO/A         30654\n",
       "CASADO/A           6189\n",
       "DIVORCIADO/A       2777\n",
       "SE DESCONOCE        842\n",
       "UNIÓN DE HECHO      302\n",
       "VIUDO/A             212\n",
       "Name: count, dtype: int64"
      ]
     },
     "execution_count": 38,
     "metadata": {},
     "output_type": "execute_result"
    }
   ],
   "source": [
    "df_2024['estado_civil'].value_counts()"
   ]
  },
  {
   "cell_type": "code",
   "execution_count": 39,
   "id": "d1de7ea9",
   "metadata": {},
   "outputs": [
    {
     "data": {
      "text/plain": [
       "{'ALEMÁN',\n",
       " 'ARGENTINO',\n",
       " 'BELGA',\n",
       " 'BELICENO',\n",
       " 'BOLIVIANO',\n",
       " 'CHILENO',\n",
       " 'CHINO',\n",
       " 'COLOMBIANO',\n",
       " 'CUBANO',\n",
       " 'DOMINICANO',\n",
       " 'ECUATOGUINEANO',\n",
       " 'ECUATORIANO',\n",
       " 'ESPAÑOL',\n",
       " 'ESTADOUNIDENCE',\n",
       " 'ITALIANO',\n",
       " 'MEXICANO',\n",
       " 'PARAGUAYO',\n",
       " 'PERUANO',\n",
       " 'POLACO',\n",
       " 'RUSO',\n",
       " 'SALVADOREÑO',\n",
       " 'SE DESCONOCE',\n",
       " 'SURCOREANO',\n",
       " 'VENEZOLANO',\n",
       " 'VIETNAMITA'}"
      ]
     },
     "execution_count": 39,
     "metadata": {},
     "output_type": "execute_result"
    }
   ],
   "source": [
    "set(df_2024['nacionalidad'])"
   ]
  },
  {
   "cell_type": "markdown",
   "id": "b8ce4033",
   "metadata": {},
   "source": [
    "Al respecto de la variable `nacionalidad`, y considerando que la gran mayoría ($\\approx 97\\%$) del dataset contiene información de ecuatorianos, con apenas un $3\\%$ de inmigrantes, se considera que el análisis se realizará sólo sobre población de origen *ecuatoriana*"
   ]
  },
  {
   "cell_type": "code",
   "execution_count": 40,
   "id": "300506a5",
   "metadata": {},
   "outputs": [
    {
     "data": {
      "text/plain": [
       "(40976, 36)"
      ]
     },
     "execution_count": 40,
     "metadata": {},
     "output_type": "execute_result"
    }
   ],
   "source": [
    "df_2024[df_2024['nacionalidad']==\"ECUATORIANO\"]\n",
    "df_2024.shape"
   ]
  },
  {
   "cell_type": "markdown",
   "id": "2fb0b44a",
   "metadata": {},
   "source": [
    "No existe un criterio que explique los valores presentes en la variable `estatus_migratorio`, por lo que esta variable se descarta del análisis"
   ]
  },
  {
   "cell_type": "code",
   "execution_count": 41,
   "id": "4f3ef41d",
   "metadata": {},
   "outputs": [
    {
     "data": {
      "text/plain": [
       "estatus_migratorio\n",
       "NO APLICA       19554\n",
       "SE DESCONOCE    14014\n",
       "REGULAR          6899\n",
       "IRREGULAR         509\n",
       "Name: count, dtype: int64"
      ]
     },
     "execution_count": 41,
     "metadata": {},
     "output_type": "execute_result"
    }
   ],
   "source": [
    "df_2024['estatus_migratorio'].value_counts()"
   ]
  },
  {
   "cell_type": "markdown",
   "id": "10bb5cc2",
   "metadata": {},
   "source": [
    "No existe un criterio que explique los valores presentes en la variable `estatus_migratorio`, por lo que esta variable se descarta del análisis"
   ]
  },
  {
   "cell_type": "code",
   "execution_count": 44,
   "id": "7d0613e5",
   "metadata": {},
   "outputs": [
    {
     "data": {
      "text/plain": [
       "nivel_de_instruccion\n",
       "SE DESCONOCE                                   15741\n",
       "NO APLICA                                      13235\n",
       "BACHILLERATO                                    7586\n",
       "EDUCACIÓN GENERAL BÁSICA                        2654\n",
       "TERCER NIVEL TÉCNICO-TECNOLÓGICO Y DE GRADO      915\n",
       "EDUCACIÓN INICIAL                                531\n",
       "CUARTO NIVEL O DE POSGRADO                       314\n",
       "Name: count, dtype: int64"
      ]
     },
     "execution_count": 44,
     "metadata": {},
     "output_type": "execute_result"
    }
   ],
   "source": [
    "df_2024['nivel_de_instruccion'].value_counts()"
   ]
  },
  {
   "cell_type": "markdown",
   "id": "fe7bc6f1",
   "metadata": {},
   "source": [
    "Se realiza un histograma de la variable `edad` que muestra la distribución de las edades en el dataset."
   ]
  },
  {
   "cell_type": "code",
   "execution_count": 46,
   "id": "e1a19629",
   "metadata": {},
   "outputs": [
    {
     "data": {
      "text/plain": [
       "<Axes: >"
      ]
     },
     "execution_count": 46,
     "metadata": {},
     "output_type": "execute_result"
    },
    {
     "data": {
      "image/png": "[encoded data removed]",
      "text/plain": [
       "<Figure size 640x480 with 1 Axes>"
      ]
     },
     "metadata": {},
     "output_type": "display_data"
    }
   ],
   "source": [
    "df_2024.edad.hist(bins=30)"
   ]
  },
  {
   "cell_type": "code",
   "execution_count": 59,
   "id": "db846b8c",
   "metadata": {},
   "outputs": [
    {
     "name": "stdout",
     "output_type": "stream",
     "text": [
      "Edad mínima: 12   Edad máxima: 92   Edad promedio: 32.56\n"
     ]
    }
   ],
   "source": [
    "print(f\"Edad mínima: {df_2024.edad.min()}   Edad máxima: {df_2024.edad.max()}   Edad promedio: {df_2024.edad.mean():.2f}\")\n",
    "# df_2024.edad.min()"
   ]
  },
  {
   "cell_type": "code",
   "execution_count": 60,
   "id": "286c5f98",
   "metadata": {},
   "outputs": [
    {
     "data": {
      "text/plain": [
       "<Axes: xlabel='genero', ylabel='edad'>"
      ]
     },
     "execution_count": 60,
     "metadata": {},
     "output_type": "execute_result"
    },
    {
     "data": {
      "image/png": "[encoded data removed]",
      "text/plain": [
       "<Figure size 1000x600 with 1 Axes>"
      ]
     },
     "metadata": {},
     "output_type": "display_data"
    }
   ],
   "source": [
    "import matplotlib.pyplot as plt\n",
    "import seaborn as sns   \n",
    "\n",
    "plt.figure(figsize=(10, 6))\n",
    "sns.boxplot(x='genero', y='edad', data=df_2024)"
   ]
  },
  {
   "cell_type": "code",
   "execution_count": 61,
   "id": "f105a8ba",
   "metadata": {},
   "outputs": [
    {
     "data": {
      "text/plain": [
       "<Axes: xlabel='tipo', ylabel='edad'>"
      ]
     },
     "execution_count": 61,
     "metadata": {},
     "output_type": "execute_result"
    },
    {
     "data": {
      "image/png": "[encoded data removed]",
      "text/plain": [
       "<Figure size 1000x600 with 1 Axes>"
      ]
     },
     "metadata": {},
     "output_type": "display_data"
    }
   ],
   "source": [
    "plt.figure(figsize=(10, 6))\n",
    "sns.boxplot(x='tipo', y='edad', data=df_2024)"
   ]
  },
  {
   "cell_type": "markdown",
   "id": "6ef5e6cb",
   "metadata": {},
   "source": [
    "No existe un criterio que explique los valores presentes en la variable `condicion`, por lo que esta variable se descarta del análisis"
   ]
  },
  {
   "cell_type": "code",
   "execution_count": 51,
   "id": "6752b219",
   "metadata": {},
   "outputs": [
    {
     "data": {
      "text/plain": [
       "condicion\n",
       "NORMAL                                                                                                                   31109\n",
       "ALIENTO A LICOR                                                                                                           7697\n",
       "SIN_DATO                                                                                                                  1749\n",
       "ALIENTO A LICOR, NORMAL                                                                                                    180\n",
       "BAJO LOS EFECTOS DE SUSTANCIAS ESTUPEFACIENTES, PSICOTRÓPICAS O PREPARADOS QUE LAS CONTENGAN                               158\n",
       "ALIENTO A LICOR, BAJO LOS EFECTOS DE SUSTANCIAS ESTUPEFACIENTES, PSICOTRÓPICAS O PREPARADOS QUE LAS CONTENGAN               69\n",
       "BAJO LOS EFECTOS DE SUSTANCIAS ESTUPEFACIENTES, PSICOTRÓPICAS O PREPARADOS QUE LAS CONTENGAN, NORMAL                        11\n",
       "ALIENTO A LICOR, BAJO LOS EFECTOS DE SUSTANCIAS ESTUPEFACIENTES, PSICOTRÓPICAS O PREPARADOS QUE LAS CONTENGAN, NORMAL        3\n",
       "Name: count, dtype: int64"
      ]
     },
     "execution_count": 51,
     "metadata": {},
     "output_type": "execute_result"
    }
   ],
   "source": [
    "df_2024['condicion'].value_counts()"
   ]
  },
  {
   "cell_type": "markdown",
   "id": "e1630c90",
   "metadata": {},
   "source": [
    "No existe un criterio que explique los valores presentes en la variable `movilizacion`, por lo que esta variable se descarta del análisis"
   ]
  },
  {
   "cell_type": "code",
   "execution_count": 53,
   "id": "ac6c7f70",
   "metadata": {},
   "outputs": [
    {
     "data": {
      "text/plain": [
       "movilizacion\n",
       "A PIE           22105\n",
       "NO APLICA        5093\n",
       "AUTOMÓVIL        4690\n",
       "MOTOCICLETA      4001\n",
       "SE DESCONOCE     3015\n",
       "CAMIONETA        1142\n",
       "BUS               361\n",
       "TAXI              346\n",
       "BICICLETA          97\n",
       "LANCHA             79\n",
       "ACÉMILAS           29\n",
       "BOTE               15\n",
       "CUADRÓN             3\n",
       "Name: count, dtype: int64"
      ]
     },
     "execution_count": 53,
     "metadata": {},
     "output_type": "execute_result"
    }
   ],
   "source": [
    "df_2024['movilizacion'].value_counts()"
   ]
  },
  {
   "cell_type": "markdown",
   "id": "efdfa513",
   "metadata": {},
   "source": [
    "No existe un criterio que explique los valores presentes en la variable `lugar`, por lo que esta variable se descarta del análisis"
   ]
  },
  {
   "cell_type": "code",
   "execution_count": 54,
   "id": "5d663eeb",
   "metadata": {},
   "outputs": [
    {
     "data": {
      "text/plain": [
       "lugar\n",
       "VÍA PÚBLICA                        25303\n",
       "ESPACIO PRIVADO                     6754\n",
       "CASA/VILLA                          3726\n",
       "PARQUE Y PLAZA                       415\n",
       "POLICÍA NACIONAL                     294\n",
       "                                   ...  \n",
       "RANCHO                                 1\n",
       "CRS MASCULINO-EL CONDADO               1\n",
       "CENTRO DE DETENCIÓN PROVISIONAL        1\n",
       "CONSEJOS                               1\n",
       "CPPL MASCULINO-AZOGUES                 1\n",
       "Name: count, Length: 183, dtype: int64"
      ]
     },
     "execution_count": 54,
     "metadata": {},
     "output_type": "execute_result"
    }
   ],
   "source": [
    "df_2024['lugar'].value_counts()"
   ]
  },
  {
   "cell_type": "code",
   "execution_count": 55,
   "id": "85f690bb",
   "metadata": {},
   "outputs": [
    {
     "data": {
      "text/plain": [
       "tipo_lugar\n",
       "ÁREA DE ACCESO PÚBLICO                                26496\n",
       "ÁREA PRIVADA                                           6753\n",
       "VIVIENDA/ALOJAMIENTO                                   4300\n",
       "ÁREAS DEDICADAS AL COMERCIO                             714\n",
       "ENTIDADES PUBLICAS                                      443\n",
       "TRANSPORTE                                              412\n",
       "CENTRO DE REHABILITACIÓN SOCIAL (CRS)                   381\n",
       "UNIDADES DE REACCIÓN Y EMERGENCIA                       347\n",
       "INSTITUCIONES EDUCATIVAS                                322\n",
       "LUGARES QUE PRESTAN SERVICIOS                           227\n",
       "CENTROS DE DIVERSIÓN                                    171\n",
       "INSTITUCIONES DE SALUD                                  162\n",
       "CENTRO DE PRIVACIÓN PROVISIONAL DE LIBERTAD (CPPL)      118\n",
       "ENTIDADES FINANCIERAS                                    51\n",
       "ZONA DE INSPECCIÓN                                       42\n",
       "UNIDADES DE ASEGURAMIENTO TRANSITORIO (UAT)              21\n",
       "CENTRO DE ADOLESCENTES INFRACTORES (CAI)                 15\n",
       "ORGANISMOS INTERNACIONALES                                1\n",
       "Name: count, dtype: int64"
      ]
     },
     "execution_count": 55,
     "metadata": {},
     "output_type": "execute_result"
    }
   ],
   "source": [
    "df_2024['tipo_lugar'].value_counts()"
   ]
  },
  {
   "cell_type": "code",
   "execution_count": 62,
   "id": "e63eb48a",
   "metadata": {},
   "outputs": [],
   "source": [
    "top_3_tipo_lugar = df_2024['tipo_lugar'].value_counts().nlargest(3).index\n",
    "df_2024['tipo_lugar'] = df_2024['tipo_lugar'].apply(lambda x: x if x in top_3_tipo_lugar else 'OTROS')"
   ]
  },
  {
   "cell_type": "code",
   "execution_count": 63,
   "id": "40016f65",
   "metadata": {},
   "outputs": [
    {
     "data": {
      "text/plain": [
       "tipo_lugar\n",
       "ÁREA DE ACCESO PÚBLICO    26496\n",
       "ÁREA PRIVADA               6753\n",
       "VIVIENDA/ALOJAMIENTO       4300\n",
       "OTROS                      3427\n",
       "Name: count, dtype: int64"
      ]
     },
     "execution_count": 63,
     "metadata": {},
     "output_type": "execute_result"
    }
   ],
   "source": [
    "df_2024['tipo_lugar'].value_counts()"
   ]
  },
  {
   "cell_type": "markdown",
   "id": "b81701ad",
   "metadata": {},
   "source": [
    "En la descripción en el dataset la variable `nombre_provincia` presenta más categorías que provincias existen en el Ecuador"
   ]
  },
  {
   "cell_type": "code",
   "execution_count": 57,
   "id": "cef47ad0",
   "metadata": {},
   "outputs": [
    {
     "data": {
      "text/plain": [
       "25"
      ]
     },
     "execution_count": 57,
     "metadata": {},
     "output_type": "execute_result"
    }
   ],
   "source": [
    "len(set(df_2024['nombre_provincia']))"
   ]
  },
  {
   "cell_type": "markdown",
   "id": "67836f0c",
   "metadata": {},
   "source": [
    "## Removiendo columnas no necesarias"
   ]
  },
  {
   "cell_type": "code",
   "execution_count": 67,
   "id": "fb47caf7",
   "metadata": {},
   "outputs": [
    {
     "data": {
      "text/plain": [
       "28"
      ]
     },
     "execution_count": 67,
     "metadata": {},
     "output_type": "execute_result"
    }
   ],
   "source": [
    "df_out = df_2024.copy()\n",
    "cols2drop = ['codigo_iccs', \n",
    "             'estatus_migratorio', \n",
    "             'sexo', \n",
    "             'nacionalidad', \n",
    "             'autoidentificacion_etnica', \n",
    "             'nivel_de_instruccion', \n",
    "             'condicion', \n",
    "             'movilizacion', \n",
    "             'lugar',\n",
    "             'tipo_arma',\n",
    "             'arma',\n",
    "             'fecha_detencion_aprehension',\n",
    "             'anio_detension_aprehension',\n",
    "             'hora_detencion_aprehension',\n",
    "             'nombre_zona',\n",
    "             'nombre_subzona',\n",
    "             'codigo_distrito',\n",
    "             'nombre_distrito',\n",
    "             'codigo_canton',\n",
    "             'codigo_circuito',\n",
    "             'codigo_subcircuito',\n",
    "             'nombre_circuito',\n",
    "             'nombre_subcircuito',\n",
    "             'nombre_canton',\n",
    "             'nombre_parroquia',\n",
    "             'codigo_parroquia',\n",
    "             'latitud',\n",
    "             'longitud',]\n",
    "len(cols2drop)"
   ]
  },
  {
   "cell_type": "code",
   "execution_count": 68,
   "id": "90d13c19",
   "metadata": {},
   "outputs": [
    {
     "data": {
      "text/plain": [
       "(40976, 8)"
      ]
     },
     "execution_count": 68,
     "metadata": {},
     "output_type": "execute_result"
    }
   ],
   "source": [
    "df_out = df_out.drop(columns=cols2drop)\n",
    "df_out.shape"
   ]
  },
  {
   "cell_type": "code",
   "execution_count": 70,
   "id": "a2345b06",
   "metadata": {},
   "outputs": [],
   "source": [
    "df_out['codigo_provincia'] = df_out['codigo_provincia'].apply(lambda x: str(x).replace(\"'\", \"\").zfill(2))"
   ]
  },
  {
   "cell_type": "code",
   "execution_count": 71,
   "id": "bce2ce65",
   "metadata": {},
   "outputs": [
    {
     "data": {
      "text/html": [
       "<div>\n",
       "<style scoped>\n",
       "    .dataframe tbody tr th:only-of-type {\n",
       "        vertical-align: middle;\n",
       "    }\n",
       "\n",
       "    .dataframe tbody tr th {\n",
       "        vertical-align: top;\n",
       "    }\n",
       "\n",
       "    .dataframe thead th {\n",
       "        text-align: right;\n",
       "    }\n",
       "</style>\n",
       "<table border=\"1\" class=\"dataframe\">\n",
       "  <thead>\n",
       "    <tr style=\"text-align: right;\">\n",
       "      <th></th>\n",
       "      <th>tipo</th>\n",
       "      <th>estado_civil</th>\n",
       "      <th>edad</th>\n",
       "      <th>genero</th>\n",
       "      <th>tipo_lugar</th>\n",
       "      <th>codigo_provincia</th>\n",
       "      <th>nombre_provincia</th>\n",
       "      <th>presunta_infraccion</th>\n",
       "    </tr>\n",
       "  </thead>\n",
       "  <tbody>\n",
       "    <tr>\n",
       "      <th>18240</th>\n",
       "      <td>DETENIDO</td>\n",
       "      <td>SOLTERO/A</td>\n",
       "      <td>39</td>\n",
       "      <td>MASCULINO</td>\n",
       "      <td>ÁREA DE ACCESO PÚBLICO</td>\n",
       "      <td>17</td>\n",
       "      <td>PICHINCHA</td>\n",
       "      <td>BOLETAS</td>\n",
       "    </tr>\n",
       "    <tr>\n",
       "      <th>19730</th>\n",
       "      <td>APREHENDIDO</td>\n",
       "      <td>CASADO/A</td>\n",
       "      <td>55</td>\n",
       "      <td>MASCULINO</td>\n",
       "      <td>ÁREA DE ACCESO PÚBLICO</td>\n",
       "      <td>17</td>\n",
       "      <td>PICHINCHA</td>\n",
       "      <td>DELITOS CULPOSOS DE TRÁNSITO</td>\n",
       "    </tr>\n",
       "    <tr>\n",
       "      <th>31271</th>\n",
       "      <td>APREHENDIDO</td>\n",
       "      <td>SOLTERO/A</td>\n",
       "      <td>41</td>\n",
       "      <td>MASCULINO</td>\n",
       "      <td>ÁREA DE ACCESO PÚBLICO</td>\n",
       "      <td>10</td>\n",
       "      <td>IMBABURA</td>\n",
       "      <td>DELITOS CONTRA LA LIBERTAD PERSONAL</td>\n",
       "    </tr>\n",
       "    <tr>\n",
       "      <th>18787</th>\n",
       "      <td>APREHENDIDO</td>\n",
       "      <td>SE DESCONOCE</td>\n",
       "      <td>27</td>\n",
       "      <td>FEMENINO</td>\n",
       "      <td>OTROS</td>\n",
       "      <td>17</td>\n",
       "      <td>PICHINCHA</td>\n",
       "      <td>DELITOS CONTRA EL DERECHO A LA PROPIEDAD</td>\n",
       "    </tr>\n",
       "    <tr>\n",
       "      <th>7723</th>\n",
       "      <td>APREHENDIDO</td>\n",
       "      <td>SOLTERO/A</td>\n",
       "      <td>16</td>\n",
       "      <td>MASCULINO</td>\n",
       "      <td>ÁREA PRIVADA</td>\n",
       "      <td>17</td>\n",
       "      <td>PICHINCHA</td>\n",
       "      <td>DELITOS DE VIOLENCIA CONTRA LA MUJER O MIEMBRO...</td>\n",
       "    </tr>\n",
       "    <tr>\n",
       "      <th>18632</th>\n",
       "      <td>DETENIDO</td>\n",
       "      <td>SOLTERO/A</td>\n",
       "      <td>35</td>\n",
       "      <td>MASCULINO</td>\n",
       "      <td>ÁREA DE ACCESO PÚBLICO</td>\n",
       "      <td>17</td>\n",
       "      <td>PICHINCHA</td>\n",
       "      <td>BOLETAS</td>\n",
       "    </tr>\n",
       "    <tr>\n",
       "      <th>42593</th>\n",
       "      <td>DETENIDO</td>\n",
       "      <td>CASADO/A</td>\n",
       "      <td>38</td>\n",
       "      <td>MASCULINO</td>\n",
       "      <td>ÁREA DE ACCESO PÚBLICO</td>\n",
       "      <td>11</td>\n",
       "      <td>LOJA</td>\n",
       "      <td>BOLETAS</td>\n",
       "    </tr>\n",
       "    <tr>\n",
       "      <th>16318</th>\n",
       "      <td>APREHENDIDO</td>\n",
       "      <td>SOLTERO/A</td>\n",
       "      <td>40</td>\n",
       "      <td>MASCULINO</td>\n",
       "      <td>ÁREA PRIVADA</td>\n",
       "      <td>17</td>\n",
       "      <td>PICHINCHA</td>\n",
       "      <td>CONTRAVENCION DE VIOLENCIA CONTRA LA MUJER O M...</td>\n",
       "    </tr>\n",
       "    <tr>\n",
       "      <th>10344</th>\n",
       "      <td>APREHENDIDO</td>\n",
       "      <td>SOLTERO/A</td>\n",
       "      <td>44</td>\n",
       "      <td>FEMENINO</td>\n",
       "      <td>ÁREA PRIVADA</td>\n",
       "      <td>08</td>\n",
       "      <td>ESMERALDAS</td>\n",
       "      <td>CONTRAVENCION DE VIOLENCIA CONTRA LA MUJER O M...</td>\n",
       "    </tr>\n",
       "    <tr>\n",
       "      <th>20605</th>\n",
       "      <td>APREHENDIDO</td>\n",
       "      <td>SE DESCONOCE</td>\n",
       "      <td>29</td>\n",
       "      <td>FEMENINO</td>\n",
       "      <td>OTROS</td>\n",
       "      <td>10</td>\n",
       "      <td>IMBABURA</td>\n",
       "      <td>CONTRAVENCIONES CONTRA EL DERECHO DE PROPIEDAD</td>\n",
       "    </tr>\n",
       "  </tbody>\n",
       "</table>\n",
       "</div>"
      ],
      "text/plain": [
       "              tipo  estado_civil edad     genero              tipo_lugar  \\\n",
       "18240     DETENIDO     SOLTERO/A   39  MASCULINO  ÁREA DE ACCESO PÚBLICO   \n",
       "19730  APREHENDIDO      CASADO/A   55  MASCULINO  ÁREA DE ACCESO PÚBLICO   \n",
       "31271  APREHENDIDO     SOLTERO/A   41  MASCULINO  ÁREA DE ACCESO PÚBLICO   \n",
       "18787  APREHENDIDO  SE DESCONOCE   27   FEMENINO                   OTROS   \n",
       "7723   APREHENDIDO     SOLTERO/A   16  MASCULINO            ÁREA PRIVADA   \n",
       "18632     DETENIDO     SOLTERO/A   35  MASCULINO  ÁREA DE ACCESO PÚBLICO   \n",
       "42593     DETENIDO      CASADO/A   38  MASCULINO  ÁREA DE ACCESO PÚBLICO   \n",
       "16318  APREHENDIDO     SOLTERO/A   40  MASCULINO            ÁREA PRIVADA   \n",
       "10344  APREHENDIDO     SOLTERO/A   44   FEMENINO            ÁREA PRIVADA   \n",
       "20605  APREHENDIDO  SE DESCONOCE   29   FEMENINO                   OTROS   \n",
       "\n",
       "      codigo_provincia nombre_provincia  \\\n",
       "18240               17        PICHINCHA   \n",
       "19730               17        PICHINCHA   \n",
       "31271               10         IMBABURA   \n",
       "18787               17        PICHINCHA   \n",
       "7723                17        PICHINCHA   \n",
       "18632               17        PICHINCHA   \n",
       "42593               11             LOJA   \n",
       "16318               17        PICHINCHA   \n",
       "10344               08       ESMERALDAS   \n",
       "20605               10         IMBABURA   \n",
       "\n",
       "                                     presunta_infraccion  \n",
       "18240                                            BOLETAS  \n",
       "19730                       DELITOS CULPOSOS DE TRÁNSITO  \n",
       "31271                DELITOS CONTRA LA LIBERTAD PERSONAL  \n",
       "18787           DELITOS CONTRA EL DERECHO A LA PROPIEDAD  \n",
       "7723   DELITOS DE VIOLENCIA CONTRA LA MUJER O MIEMBRO...  \n",
       "18632                                            BOLETAS  \n",
       "42593                                            BOLETAS  \n",
       "16318  CONTRAVENCION DE VIOLENCIA CONTRA LA MUJER O M...  \n",
       "10344  CONTRAVENCION DE VIOLENCIA CONTRA LA MUJER O M...  \n",
       "20605     CONTRAVENCIONES CONTRA EL DERECHO DE PROPIEDAD  "
      ]
     },
     "execution_count": 71,
     "metadata": {},
     "output_type": "execute_result"
    }
   ],
   "source": [
    "df_out.sample(10)"
   ]
  },
  {
   "cell_type": "code",
   "execution_count": 73,
   "id": "a43b0ab1",
   "metadata": {},
   "outputs": [
    {
     "data": {
      "text/plain": [
       "presunta_infraccion\n",
       "DELITOS CONTRA EL DERECHO A LA PROPIEDAD                                                         7141\n",
       "BOLETAS                                                                                          6217\n",
       "DELITOS POR LA PRODUCCIÓN O TRÁFICO ILÍCITO DE SUSTANCIAS CATALOGADAS SUJETAS A FISCALIZACIÓN    6214\n",
       "DELITOS CONTRA LA SEGURIDAD PÚBLICA                                                              3410\n",
       "CONTRAVENCIONES DE TRÁNSITO                                                                      3170\n",
       "CONTRAVENCION DE VIOLENCIA CONTRA LA MUJER O MIEMBROS DEL NUCLEO FAMILIAR                        2507\n",
       "DELITOS DE VIOLENCIA CONTRA LA MUJER O MIEMBROS DEL NÚCLEO FAMILIAR                              2071\n",
       "DELITOS CONTRA LA EFICIENCIA DE LA ADMINISTRACIÓN PÚBLICA                                        1618\n",
       "CONTRAVENCIONES                                                                                  1190\n",
       "DELITOS CONTRA LA INTEGRIDAD SEXUAL Y REPRODUCTIVA                                                923\n",
       "Name: count, dtype: int64"
      ]
     },
     "execution_count": 73,
     "metadata": {},
     "output_type": "execute_result"
    }
   ],
   "source": [
    "df_out['presunta_infraccion'].value_counts().sort_values(ascending=False).head(10)"
   ]
  },
  {
   "cell_type": "code",
   "execution_count": 75,
   "id": "5c03bc69",
   "metadata": {},
   "outputs": [
    {
     "data": {
      "text/html": [
       "<div>\n",
       "<style scoped>\n",
       "    .dataframe tbody tr th:only-of-type {\n",
       "        vertical-align: middle;\n",
       "    }\n",
       "\n",
       "    .dataframe tbody tr th {\n",
       "        vertical-align: top;\n",
       "    }\n",
       "\n",
       "    .dataframe thead th {\n",
       "        text-align: right;\n",
       "    }\n",
       "</style>\n",
       "<table border=\"1\" class=\"dataframe\">\n",
       "  <thead>\n",
       "    <tr style=\"text-align: right;\">\n",
       "      <th></th>\n",
       "      <th>count</th>\n",
       "      <th>unique</th>\n",
       "      <th>top</th>\n",
       "      <th>freq</th>\n",
       "    </tr>\n",
       "  </thead>\n",
       "  <tbody>\n",
       "    <tr>\n",
       "      <th>tipo</th>\n",
       "      <td>40976</td>\n",
       "      <td>2</td>\n",
       "      <td>APREHENDIDO</td>\n",
       "      <td>31010</td>\n",
       "    </tr>\n",
       "    <tr>\n",
       "      <th>estado_civil</th>\n",
       "      <td>40976</td>\n",
       "      <td>6</td>\n",
       "      <td>SOLTERO/A</td>\n",
       "      <td>30654</td>\n",
       "    </tr>\n",
       "    <tr>\n",
       "      <th>edad</th>\n",
       "      <td>40976</td>\n",
       "      <td>78</td>\n",
       "      <td>24</td>\n",
       "      <td>1730</td>\n",
       "    </tr>\n",
       "    <tr>\n",
       "      <th>genero</th>\n",
       "      <td>40976</td>\n",
       "      <td>6</td>\n",
       "      <td>MASCULINO</td>\n",
       "      <td>36476</td>\n",
       "    </tr>\n",
       "    <tr>\n",
       "      <th>tipo_lugar</th>\n",
       "      <td>40976</td>\n",
       "      <td>4</td>\n",
       "      <td>ÁREA DE ACCESO PÚBLICO</td>\n",
       "      <td>26496</td>\n",
       "    </tr>\n",
       "    <tr>\n",
       "      <th>codigo_provincia</th>\n",
       "      <td>40976</td>\n",
       "      <td>25</td>\n",
       "      <td>09</td>\n",
       "      <td>7966</td>\n",
       "    </tr>\n",
       "    <tr>\n",
       "      <th>nombre_provincia</th>\n",
       "      <td>40976</td>\n",
       "      <td>25</td>\n",
       "      <td>GUAYAS</td>\n",
       "      <td>7966</td>\n",
       "    </tr>\n",
       "    <tr>\n",
       "      <th>presunta_infraccion</th>\n",
       "      <td>40976</td>\n",
       "      <td>52</td>\n",
       "      <td>DELITOS CONTRA EL DERECHO A LA PROPIEDAD</td>\n",
       "      <td>7141</td>\n",
       "    </tr>\n",
       "  </tbody>\n",
       "</table>\n",
       "</div>"
      ],
      "text/plain": [
       "                     count unique                                       top  \\\n",
       "tipo                 40976      2                               APREHENDIDO   \n",
       "estado_civil         40976      6                                 SOLTERO/A   \n",
       "edad                 40976     78                                        24   \n",
       "genero               40976      6                                 MASCULINO   \n",
       "tipo_lugar           40976      4                    ÁREA DE ACCESO PÚBLICO   \n",
       "codigo_provincia     40976     25                                        09   \n",
       "nombre_provincia     40976     25                                    GUAYAS   \n",
       "presunta_infraccion  40976     52  DELITOS CONTRA EL DERECHO A LA PROPIEDAD   \n",
       "\n",
       "                      freq  \n",
       "tipo                 31010  \n",
       "estado_civil         30654  \n",
       "edad                  1730  \n",
       "genero               36476  \n",
       "tipo_lugar           26496  \n",
       "codigo_provincia      7966  \n",
       "nombre_provincia      7966  \n",
       "presunta_infraccion   7141  "
      ]
     },
     "execution_count": 75,
     "metadata": {},
     "output_type": "execute_result"
    }
   ],
   "source": [
    "# len(set(df_out['presunta_infraccion']))\n",
    "df_out.describe().transpose()"
   ]
  },
  {
   "cell_type": "markdown",
   "id": "689a5c58",
   "metadata": {},
   "source": [
    "## Presunto Delito/Infracción\n",
    "\n",
    "En el dataset final existen 52 valores distintos en `presunta_infraccion`. Se toma el top 10 de los más frecuentes y los demás se define como `OTROS`"
   ]
  },
  {
   "cell_type": "code",
   "execution_count": 76,
   "id": "7ffe2f73",
   "metadata": {},
   "outputs": [
    {
     "data": {
      "text/plain": [
       "presunta_infraccion\n",
       "DELITOS CONTRA EL DERECHO A LA PROPIEDAD                                                         7141\n",
       "OTROS                                                                                            6515\n",
       "BOLETAS                                                                                          6217\n",
       "DELITOS POR LA PRODUCCIÓN O TRÁFICO ILÍCITO DE SUSTANCIAS CATALOGADAS SUJETAS A FISCALIZACIÓN    6214\n",
       "DELITOS CONTRA LA SEGURIDAD PÚBLICA                                                              3410\n",
       "CONTRAVENCIONES DE TRÁNSITO                                                                      3170\n",
       "CONTRAVENCION DE VIOLENCIA CONTRA LA MUJER O MIEMBROS DEL NUCLEO FAMILIAR                        2507\n",
       "DELITOS DE VIOLENCIA CONTRA LA MUJER O MIEMBROS DEL NÚCLEO FAMILIAR                              2071\n",
       "DELITOS CONTRA LA EFICIENCIA DE LA ADMINISTRACIÓN PÚBLICA                                        1618\n",
       "CONTRAVENCIONES                                                                                  1190\n",
       "DELITOS CONTRA LA INTEGRIDAD SEXUAL Y REPRODUCTIVA                                                923\n",
       "Name: count, dtype: int64"
      ]
     },
     "execution_count": 76,
     "metadata": {},
     "output_type": "execute_result"
    }
   ],
   "source": [
    "top_10_infracciones = df_out['presunta_infraccion'].value_counts().nlargest(10).index\n",
    "df_out['presunta_infraccion'] = df_out['presunta_infraccion'].apply(lambda x: x if x in top_10_infracciones else 'OTROS')\n",
    "df_out['presunta_infraccion'].value_counts()"
   ]
  },
  {
   "cell_type": "code",
   "execution_count": 79,
   "id": "0e32afe9",
   "metadata": {},
   "outputs": [
    {
     "data": {
      "text/plain": [
       "<Axes: xlabel='edad', ylabel='presunta_infraccion'>"
      ]
     },
     "execution_count": 79,
     "metadata": {},
     "output_type": "execute_result"
    },
    {
     "data": {
      "image/png": "[encoded data removed]",
      "text/plain": [
       "<Figure size 640x480 with 1 Axes>"
      ]
     },
     "metadata": {},
     "output_type": "display_data"
    }
   ],
   "source": [
    "sns.boxplot(x='edad', y='presunta_infraccion', data=df_out)"
   ]
  },
  {
   "cell_type": "code",
   "execution_count": 77,
   "id": "00af916f",
   "metadata": {},
   "outputs": [],
   "source": [
    "df_out.to_csv('data/mdi_detenidos_2024_limpio.csv', index=False)"
   ]
  }
 ],
 "metadata": {
  "kernelspec": {
   "display_name": "tfmlenv",
   "language": "python",
   "name": "python3"
  },
  "language_info": {
   "codemirror_mode": {
    "name": "ipython",
    "version": 3
   },
   "file_extension": ".py",
   "mimetype": "text/x-python",
   "name": "python",
   "nbconvert_exporter": "python",
   "pygments_lexer": "ipython3",
   "version": "3.9.23"
  }
 },
 "nbformat": 4,
 "nbformat_minor": 5
}

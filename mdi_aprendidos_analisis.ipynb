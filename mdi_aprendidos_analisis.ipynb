{
 "cells": [
  {
   "cell_type": "markdown",
   "id": "9de694eb",
   "metadata": {},
   "source": [
    "# Datasets Analysis"
   ]
  },
  {
   "cell_type": "code",
   "execution_count": 1,
   "id": "032c6f8e",
   "metadata": {},
   "outputs": [
    {
     "data": {
      "text/plain": [
       "(489848, 36)"
      ]
     },
     "execution_count": 1,
     "metadata": {},
     "output_type": "execute_result"
    }
   ],
   "source": [
    "import os\n",
    "import pandas as pd\n",
    "\n",
    "data_path = os.path.join(os.getcwd(), 'data/mdi_detenidos-aprehendidos_pm_2019_2024.xlsx')\n",
    "df = pd.read_excel(data_path, sheet_name='1')\n",
    "df.shape"
   ]
  }
 ],
 "metadata": {
  "kernelspec": {
   "display_name": "tfmlenv",
   "language": "python",
   "name": "python3"
  },
  "language_info": {
   "codemirror_mode": {
    "name": "ipython",
    "version": 3
   },
   "file_extension": ".py",
   "mimetype": "text/x-python",
   "name": "python",
   "nbconvert_exporter": "python",
   "pygments_lexer": "ipython3",
   "version": "3.9.23"
  }
 },
 "nbformat": 4,
 "nbformat_minor": 5
}
